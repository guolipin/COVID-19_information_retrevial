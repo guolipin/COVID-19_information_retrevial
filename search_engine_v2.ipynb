{
  "cells": [
    {
      "cell_type": "markdown",
      "id": "6730fecf",
      "metadata": {
        "id": "6730fecf"
      },
      "source": [
        "## Search Engine"
      ]
    },
    {
      "cell_type": "code",
      "execution_count": 1,
      "id": "Cx7GMtoHdsXi",
      "metadata": {
        "colab": {
          "base_uri": "https://localhost:8080/"
        },
        "id": "Cx7GMtoHdsXi",
        "outputId": "4173d783-160e-4ba7-87d6-56d83d3ff6b6"
      },
      "outputs": [
        {
          "output_type": "stream",
          "name": "stdout",
          "text": [
            "Mounted at /content/drive\n"
          ]
        },
        {
          "output_type": "stream",
          "name": "stderr",
          "text": [
            "[nltk_data] Downloading package punkt to /root/nltk_data...\n",
            "[nltk_data]   Unzipping tokenizers/punkt.zip.\n",
            "[nltk_data] Downloading package stopwords to /root/nltk_data...\n",
            "[nltk_data]   Unzipping corpora/stopwords.zip.\n",
            "[nltk_data] Downloading package wordnet to /root/nltk_data...\n",
            "[nltk_data] Downloading package omw-1.4 to /root/nltk_data...\n"
          ]
        }
      ],
      "source": [
        "# Libraries for reading data\n",
        "import numpy as np\n",
        "import pandas as pd \n",
        "from tqdm import tqdm\n",
        "import glob\n",
        "import json\n",
        "from google.colab import drive\n",
        "drive.mount('/content/drive')\n",
        "\n",
        "# Libraries for pre-processing\n",
        "import re\n",
        "import nltk\n",
        "import string\n",
        "nltk.download('punkt')\n",
        "from nltk import tokenize\n",
        "from nltk.tokenize import word_tokenize\n",
        "nltk.download('stopwords')\n",
        "from nltk.corpus import stopwords\n",
        "nltk.download('wordnet')\n",
        "nltk.download('omw-1.4')\n",
        "from nltk.stem import WordNetLemmatizer\n",
        "\n",
        "# Libraries for information retrival\n",
        "# !pip install spacy\n",
        "import spacy\n",
        "# Load English tokenizer, tagger, parser and NER\n",
        "# !python -m spacy download en_core_web_sm\n",
        "nlp = spacy.load(\"en_core_web_sm\")\n",
        "from spacy.lang.en import English\n",
        "import networkx as nx\n",
        "\n",
        "# Libraries for word2vec\n",
        "from sklearn.feature_extraction.text import TfidfVectorizer\n",
        "from sklearn.metrics.pairwise import cosine_similarity\n",
        "import os\n",
        "import gensim.downloader as api\n",
        "from gensim.models import KeyedVectors\n",
        "from gensim.models import Word2Vec\n",
        "from gensim.test.utils import datapath\n",
        "\n",
        "# Libraries for data analysis\n",
        "import matplotlib.pyplot as plt\n",
        "\n",
        "import warnings\n",
        "warnings.filterwarnings(\"ignore\")"
      ]
    },
    {
      "cell_type": "markdown",
      "id": "3df2aac6",
      "metadata": {
        "id": "3df2aac6"
      },
      "source": [
        "### 1. Reading dataset and pre-processing"
      ]
    },
    {
      "cell_type": "markdown",
      "id": "cn9r76_pN2uq",
      "metadata": {
        "id": "cn9r76_pN2uq"
      },
      "source": [
        "#### 1.1 Summary\n",
        "Our dataset is COVID-19 Open Research Dataset (CORD-19). According to Kaggle, the dataset contains \"1,000,000 scholarly articles,  including over 400,000 with full text\" and topics are about \"COVID-19, SARS-CoV-2, and related coronaviruses\" [1]. \n",
        "\n",
        "First, we manully download dataset from Kaggle and reading data. For full text, there are two formats: PDF and PMC. In our experiment, we selected PMC as the PDF data has more missing information especially missing some cord_uid. The whole dataset has the size of around 20 Gigabytesis so we need to use a random sample. Our **sample size is 10,000 articles**, which is 1% of orginal data size. Data is the same as search_engine_v1. \n",
        "\n",
        "data columns:\n",
        "\n",
        "*   docid: using cord_uid\n",
        "*   doi\n",
        "*   authors\n",
        "*   title\n",
        "*   abstract\n",
        "*   journal\n",
        "*   body\n",
        "\n",
        "Then, we pre-process data including **removing stopwords and Lemmalization**(Section 1.3 Data Pre-processing). **Removing stopwords** help to concentrate on important information. **Lemmalization** return root words. **removing stopwords and Lemmalization** will not influence the major semantic of sentences. We would like to keep data in sentence level to analyze semantics, that's why we does not remove puncuation. In order to have better named entity recognition, we keep capitalization as captical words have special meaning and can be used to identify name, organization and place.\n",
        "\n",
        "Finally, we saved the data into data_v2_clean. \n",
        "\n",
        "P.S. Save each version of data into csv format to avoid repeating operation."
      ]
    },
    {
      "cell_type": "markdown",
      "id": "k6x_cfJBOQSi",
      "metadata": {
        "id": "k6x_cfJBOQSi"
      },
      "source": [
        "#### 1.2 Data Pre-processing"
      ]
    },
    {
      "cell_type": "code",
      "execution_count": 2,
      "id": "4e8e40e5",
      "metadata": {
        "colab": {
          "base_uri": "https://localhost:8080/",
          "height": 583
        },
        "id": "4e8e40e5",
        "outputId": "59703011-30bc-452e-c944-f98f6f9699db"
      },
      "outputs": [
        {
          "output_type": "execute_result",
          "data": {
            "text/plain": [
              "      docid                          doi  \\\n",
              "0  ynh8eo6x   10.1007/s11125-021-09564-8   \n",
              "1  g0bgp3t7    10.3389/fimmu.2021.754642   \n",
              "2  x1r99rlm            10.3382/ps/pev336   \n",
              "3  m5pwtv7d  10.1007/978-3-030-51761-8_5   \n",
              "4  ztzsj45b        10.3390/cells11030575   \n",
              "\n",
              "                                             authors  \\\n",
              "0                        Amin, Nyna; Mahabeer, Pryah   \n",
              "1  Coleman, Celeste; Doyle-Meyers, Lara A.; Russe...   \n",
              "2      Yokhana, J. S.; Parkinson, G.; Frankel, T. L.   \n",
              "3                               Alonayq, Abdulmohsen   \n",
              "4  Suzuki, Hiroyuki; Kaneko, Mika K.; Kato, Yukinari   \n",
              "\n",
              "                                               title  \\\n",
              "0  Curriculum tinkering in situations of crises a...   \n",
              "1  Similarities and Differences in the Acute-Phas...   \n",
              "2  Effect of insoluble fiber supplementation appl...   \n",
              "3  Narrating Arabic Translation Online: Another P...   \n",
              "4  Roles of Podoplanin in Malignant Progression o...   \n",
              "\n",
              "                                            abstract  \\\n",
              "0  This article interrogates a curriculum recover...   \n",
              "1  Understanding SARS-CoV-2 immune pathology is c...   \n",
              "2  Two experiments were conducted to study effect...   \n",
              "3  This chapter takes a socionarrative approach t...   \n",
              "4  Podoplanin (PDPN) is a cell-surface mucin-like...   \n",
              "\n",
              "                         journal  \\\n",
              "0              Prospects (Paris)   \n",
              "1                  Front Immunol   \n",
              "2                      Poult Sci   \n",
              "3  When Translation Goes Digital   \n",
              "4                          Cells   \n",
              "\n",
              "                                                body  \n",
              "0  In this section, we provide an overview of Sou...  \n",
              "1  The rapid emergence and dissemination of sever...  \n",
              "2  Growth and development in layer pullets during...  \n",
              "3  The translation sector has seen an increase in...  \n",
              "4  Podoplanin (PDPN)/T1α/E11 antigen/PA2.26 antig...  "
            ],
            "text/html": [
              "\n",
              "  <div id=\"df-4ba5f7ca-a14a-4103-a133-c780834629bb\">\n",
              "    <div class=\"colab-df-container\">\n",
              "      <div>\n",
              "<style scoped>\n",
              "    .dataframe tbody tr th:only-of-type {\n",
              "        vertical-align: middle;\n",
              "    }\n",
              "\n",
              "    .dataframe tbody tr th {\n",
              "        vertical-align: top;\n",
              "    }\n",
              "\n",
              "    .dataframe thead th {\n",
              "        text-align: right;\n",
              "    }\n",
              "</style>\n",
              "<table border=\"1\" class=\"dataframe\">\n",
              "  <thead>\n",
              "    <tr style=\"text-align: right;\">\n",
              "      <th></th>\n",
              "      <th>docid</th>\n",
              "      <th>doi</th>\n",
              "      <th>authors</th>\n",
              "      <th>title</th>\n",
              "      <th>abstract</th>\n",
              "      <th>journal</th>\n",
              "      <th>body</th>\n",
              "    </tr>\n",
              "  </thead>\n",
              "  <tbody>\n",
              "    <tr>\n",
              "      <th>0</th>\n",
              "      <td>ynh8eo6x</td>\n",
              "      <td>10.1007/s11125-021-09564-8</td>\n",
              "      <td>Amin, Nyna; Mahabeer, Pryah</td>\n",
              "      <td>Curriculum tinkering in situations of crises a...</td>\n",
              "      <td>This article interrogates a curriculum recover...</td>\n",
              "      <td>Prospects (Paris)</td>\n",
              "      <td>In this section, we provide an overview of Sou...</td>\n",
              "    </tr>\n",
              "    <tr>\n",
              "      <th>1</th>\n",
              "      <td>g0bgp3t7</td>\n",
              "      <td>10.3389/fimmu.2021.754642</td>\n",
              "      <td>Coleman, Celeste; Doyle-Meyers, Lara A.; Russe...</td>\n",
              "      <td>Similarities and Differences in the Acute-Phas...</td>\n",
              "      <td>Understanding SARS-CoV-2 immune pathology is c...</td>\n",
              "      <td>Front Immunol</td>\n",
              "      <td>The rapid emergence and dissemination of sever...</td>\n",
              "    </tr>\n",
              "    <tr>\n",
              "      <th>2</th>\n",
              "      <td>x1r99rlm</td>\n",
              "      <td>10.3382/ps/pev336</td>\n",
              "      <td>Yokhana, J. S.; Parkinson, G.; Frankel, T. L.</td>\n",
              "      <td>Effect of insoluble fiber supplementation appl...</td>\n",
              "      <td>Two experiments were conducted to study effect...</td>\n",
              "      <td>Poult Sci</td>\n",
              "      <td>Growth and development in layer pullets during...</td>\n",
              "    </tr>\n",
              "    <tr>\n",
              "      <th>3</th>\n",
              "      <td>m5pwtv7d</td>\n",
              "      <td>10.1007/978-3-030-51761-8_5</td>\n",
              "      <td>Alonayq, Abdulmohsen</td>\n",
              "      <td>Narrating Arabic Translation Online: Another P...</td>\n",
              "      <td>This chapter takes a socionarrative approach t...</td>\n",
              "      <td>When Translation Goes Digital</td>\n",
              "      <td>The translation sector has seen an increase in...</td>\n",
              "    </tr>\n",
              "    <tr>\n",
              "      <th>4</th>\n",
              "      <td>ztzsj45b</td>\n",
              "      <td>10.3390/cells11030575</td>\n",
              "      <td>Suzuki, Hiroyuki; Kaneko, Mika K.; Kato, Yukinari</td>\n",
              "      <td>Roles of Podoplanin in Malignant Progression o...</td>\n",
              "      <td>Podoplanin (PDPN) is a cell-surface mucin-like...</td>\n",
              "      <td>Cells</td>\n",
              "      <td>Podoplanin (PDPN)/T1α/E11 antigen/PA2.26 antig...</td>\n",
              "    </tr>\n",
              "  </tbody>\n",
              "</table>\n",
              "</div>\n",
              "      <button class=\"colab-df-convert\" onclick=\"convertToInteractive('df-4ba5f7ca-a14a-4103-a133-c780834629bb')\"\n",
              "              title=\"Convert this dataframe to an interactive table.\"\n",
              "              style=\"display:none;\">\n",
              "        \n",
              "  <svg xmlns=\"http://www.w3.org/2000/svg\" height=\"24px\"viewBox=\"0 0 24 24\"\n",
              "       width=\"24px\">\n",
              "    <path d=\"M0 0h24v24H0V0z\" fill=\"none\"/>\n",
              "    <path d=\"M18.56 5.44l.94 2.06.94-2.06 2.06-.94-2.06-.94-.94-2.06-.94 2.06-2.06.94zm-11 1L8.5 8.5l.94-2.06 2.06-.94-2.06-.94L8.5 2.5l-.94 2.06-2.06.94zm10 10l.94 2.06.94-2.06 2.06-.94-2.06-.94-.94-2.06-.94 2.06-2.06.94z\"/><path d=\"M17.41 7.96l-1.37-1.37c-.4-.4-.92-.59-1.43-.59-.52 0-1.04.2-1.43.59L10.3 9.45l-7.72 7.72c-.78.78-.78 2.05 0 2.83L4 21.41c.39.39.9.59 1.41.59.51 0 1.02-.2 1.41-.59l7.78-7.78 2.81-2.81c.8-.78.8-2.07 0-2.86zM5.41 20L4 18.59l7.72-7.72 1.47 1.35L5.41 20z\"/>\n",
              "  </svg>\n",
              "      </button>\n",
              "      \n",
              "  <style>\n",
              "    .colab-df-container {\n",
              "      display:flex;\n",
              "      flex-wrap:wrap;\n",
              "      gap: 12px;\n",
              "    }\n",
              "\n",
              "    .colab-df-convert {\n",
              "      background-color: #E8F0FE;\n",
              "      border: none;\n",
              "      border-radius: 50%;\n",
              "      cursor: pointer;\n",
              "      display: none;\n",
              "      fill: #1967D2;\n",
              "      height: 32px;\n",
              "      padding: 0 0 0 0;\n",
              "      width: 32px;\n",
              "    }\n",
              "\n",
              "    .colab-df-convert:hover {\n",
              "      background-color: #E2EBFA;\n",
              "      box-shadow: 0px 1px 2px rgba(60, 64, 67, 0.3), 0px 1px 3px 1px rgba(60, 64, 67, 0.15);\n",
              "      fill: #174EA6;\n",
              "    }\n",
              "\n",
              "    [theme=dark] .colab-df-convert {\n",
              "      background-color: #3B4455;\n",
              "      fill: #D2E3FC;\n",
              "    }\n",
              "\n",
              "    [theme=dark] .colab-df-convert:hover {\n",
              "      background-color: #434B5C;\n",
              "      box-shadow: 0px 1px 3px 1px rgba(0, 0, 0, 0.15);\n",
              "      filter: drop-shadow(0px 1px 2px rgba(0, 0, 0, 0.3));\n",
              "      fill: #FFFFFF;\n",
              "    }\n",
              "  </style>\n",
              "\n",
              "      <script>\n",
              "        const buttonEl =\n",
              "          document.querySelector('#df-4ba5f7ca-a14a-4103-a133-c780834629bb button.colab-df-convert');\n",
              "        buttonEl.style.display =\n",
              "          google.colab.kernel.accessAllowed ? 'block' : 'none';\n",
              "\n",
              "        async function convertToInteractive(key) {\n",
              "          const element = document.querySelector('#df-4ba5f7ca-a14a-4103-a133-c780834629bb');\n",
              "          const dataTable =\n",
              "            await google.colab.kernel.invokeFunction('convertToInteractive',\n",
              "                                                     [key], {});\n",
              "          if (!dataTable) return;\n",
              "\n",
              "          const docLinkHtml = 'Like what you see? Visit the ' +\n",
              "            '<a target=\"_blank\" href=https://colab.research.google.com/notebooks/data_table.ipynb>data table notebook</a>'\n",
              "            + ' to learn more about interactive tables.';\n",
              "          element.innerHTML = '';\n",
              "          dataTable['output_type'] = 'display_data';\n",
              "          await google.colab.output.renderOutput(dataTable, element);\n",
              "          const docLink = document.createElement('div');\n",
              "          docLink.innerHTML = docLinkHtml;\n",
              "          element.appendChild(docLink);\n",
              "        }\n",
              "      </script>\n",
              "    </div>\n",
              "  </div>\n",
              "  "
            ]
          },
          "metadata": {},
          "execution_count": 2
        }
      ],
      "source": [
        "# Overview of sampled data\n",
        "# data_v1: original data\n",
        "data_v1 = pd.read_csv(\"/content/drive/My Drive/NLP/covid_articles_v1.csv\", index_col=False)\n",
        "data_v1.head()"
      ]
    },
    {
      "cell_type": "code",
      "execution_count": null,
      "id": "bc2a4ee3",
      "metadata": {
        "colab": {
          "base_uri": "https://localhost:8080/"
        },
        "id": "bc2a4ee3",
        "outputId": "da39e61b-1884-4064-e258-9f7551ef3181"
      },
      "outputs": [
        {
          "name": "stdout",
          "output_type": "stream",
          "text": [
            "<class 'pandas.core.frame.DataFrame'>\n",
            "RangeIndex: 10000 entries, 0 to 9999\n",
            "Data columns (total 7 columns):\n",
            " #   Column    Non-Null Count  Dtype \n",
            "---  ------    --------------  ----- \n",
            " 0   docid     10000 non-null  object\n",
            " 1   doi       9973 non-null   object\n",
            " 2   authors   9849 non-null   object\n",
            " 3   title     10000 non-null  object\n",
            " 4   abstract  8592 non-null   object\n",
            " 5   journal   9946 non-null   object\n",
            " 6   body      10000 non-null  object\n",
            "dtypes: object(7)\n",
            "memory usage: 547.0+ KB\n"
          ]
        }
      ],
      "source": [
        "# Step 1: Checking data type\n",
        "data_v1.info()"
      ]
    },
    {
      "cell_type": "code",
      "execution_count": 3,
      "id": "0a7b3d4a",
      "metadata": {
        "colab": {
          "base_uri": "https://localhost:8080/"
        },
        "id": "0a7b3d4a",
        "outputId": "06af4e9a-afeb-4e30-bb81-da20da1d72c1"
      },
      "outputs": [
        {
          "output_type": "stream",
          "name": "stdout",
          "text": [
            "data_v2: handling missing value\n",
            "Missing value in original data data_v1\n",
            " docid          0\n",
            "doi           27\n",
            "authors      151\n",
            "title          0\n",
            "abstract    1408\n",
            "journal       54\n",
            "body           0\n",
            "dtype: int64\n",
            "____________________\n",
            "Missing value in new data data_v2\n",
            " docid       0\n",
            "doi         0\n",
            "authors     0\n",
            "title       0\n",
            "abstract    0\n",
            "journal     0\n",
            "body        0\n",
            "dtype: int64\n"
          ]
        }
      ],
      "source": [
        "# Step 2: Handling missing value\n",
        "def handling_missing_value(data):\n",
        "    # checking missing value\n",
        "    print(\"Missing value in original data data_v1\\n\", data.isnull().sum())\n",
        "    # Handling missing value\n",
        "    data['doi'] = data['doi'].fillna('No_doi')\n",
        "    data['authors'] = data['authors'].fillna('No_authors')\n",
        "    data['journal'] = data['journal'].fillna('No_journal')\n",
        "    data['abstract'] = data['abstract'].fillna('No_abstract')\n",
        "    # checking missing value after handling missing value\n",
        "    print(\"_\"*20)\n",
        "    print(\"Missing value in new data data_v2\\n\", data.isnull().sum())\n",
        "    return data\n",
        "\n",
        "print(\"data_v2: handling missing value\")\n",
        "data_v2 = handling_missing_value(data_v1)"
      ]
    },
    {
      "cell_type": "code",
      "execution_count": null,
      "id": "5fc5642b",
      "metadata": {
        "id": "5fc5642b"
      },
      "outputs": [],
      "source": [
        "# Step 3: Data pre-processing\n",
        "stop_words = stopwords.words('english')\n",
        "stop_words.extend([\"This\", \"The\", \"the\"])\n",
        "def pre_process(data):\n",
        "\n",
        "    # regular expression to match text patterns\n",
        "    s = \" \\[(?=.*\\d).*?\\]\" \n",
        "\n",
        "    # Removing stopwords + Lemmalization\n",
        "    # Stop words are common words that are typically removed from text data before analysis.\n",
        "    # Lemmatization is the process of reducing a word to its base form, known as its lemma.   \n",
        "    lemmatizer = WordNetLemmatizer()\n",
        "    result = [\" \".join([lemmatizer.lemmatize(word) for word in re.sub(s, \"\", text).split() if word not in stop_words]) for text in data]\n",
        "\n",
        "    return result"
      ]
    },
    {
      "cell_type": "code",
      "execution_count": null,
      "id": "EVwcT0tt5gCM",
      "metadata": {
        "id": "EVwcT0tt5gCM"
      },
      "outputs": [],
      "source": [
        "# data_v2['clean'] includes data_v2['body'] pre-processing\n",
        "data_v2['clean'] = pre_process(data_v2['body'])\n",
        "# Save dataset as csv\n",
        "data_v2.to_csv(\"/content/drive/My Drive/NLP/covid_data_v1.csv\",index=False)"
      ]
    },
    {
      "cell_type": "code",
      "execution_count": 4,
      "id": "rCljso_vRhyr",
      "metadata": {
        "colab": {
          "base_uri": "https://localhost:8080/",
          "height": 583
        },
        "id": "rCljso_vRhyr",
        "outputId": "d899975a-7436-40f8-a72b-100641425fe6"
      },
      "outputs": [
        {
          "output_type": "execute_result",
          "data": {
            "text/plain": [
              "      docid                          doi  \\\n",
              "0  ynh8eo6x   10.1007/s11125-021-09564-8   \n",
              "1  g0bgp3t7    10.3389/fimmu.2021.754642   \n",
              "2  x1r99rlm            10.3382/ps/pev336   \n",
              "3  m5pwtv7d  10.1007/978-3-030-51761-8_5   \n",
              "4  ztzsj45b        10.3390/cells11030575   \n",
              "\n",
              "                                             authors  \\\n",
              "0                        Amin, Nyna; Mahabeer, Pryah   \n",
              "1  Coleman, Celeste; Doyle-Meyers, Lara A.; Russe...   \n",
              "2      Yokhana, J. S.; Parkinson, G.; Frankel, T. L.   \n",
              "3                               Alonayq, Abdulmohsen   \n",
              "4  Suzuki, Hiroyuki; Kaneko, Mika K.; Kato, Yukinari   \n",
              "\n",
              "                                               title  \\\n",
              "0  Curriculum tinkering in situations of crises a...   \n",
              "1  Similarities and Differences in the Acute-Phas...   \n",
              "2  Effect of insoluble fiber supplementation appl...   \n",
              "3  Narrating Arabic Translation Online: Another P...   \n",
              "4  Roles of Podoplanin in Malignant Progression o...   \n",
              "\n",
              "                                            abstract  \\\n",
              "0  This article interrogates a curriculum recover...   \n",
              "1  Understanding SARS-CoV-2 immune pathology is c...   \n",
              "2  Two experiments were conducted to study effect...   \n",
              "3  This chapter takes a socionarrative approach t...   \n",
              "4  Podoplanin (PDPN) is a cell-surface mucin-like...   \n",
              "\n",
              "                         journal  \\\n",
              "0              Prospects (Paris)   \n",
              "1                  Front Immunol   \n",
              "2                      Poult Sci   \n",
              "3  When Translation Goes Digital   \n",
              "4                          Cells   \n",
              "\n",
              "                                                body  \\\n",
              "0  In this section, we provide an overview of Sou...   \n",
              "1  The rapid emergence and dissemination of sever...   \n",
              "2  Growth and development in layer pullets during...   \n",
              "3  The translation sector has seen an increase in...   \n",
              "4  Podoplanin (PDPN)/T1α/E11 antigen/PA2.26 antig...   \n",
              "\n",
              "                                               clean  \n",
              "0  In section, provide overview South Africa’s de...  \n",
              "1  rapid emergence dissemination severe acute res...  \n",
              "2  Growth development layer pullet rearing early ...  \n",
              "3  translation sector seen increase volunteer tra...  \n",
              "4  Podoplanin (PDPN)/T1α/E11 antigen/PA2.26 antig...  "
            ],
            "text/html": [
              "\n",
              "  <div id=\"df-8902c4d8-7375-4d12-a917-fc47bfb0eac5\">\n",
              "    <div class=\"colab-df-container\">\n",
              "      <div>\n",
              "<style scoped>\n",
              "    .dataframe tbody tr th:only-of-type {\n",
              "        vertical-align: middle;\n",
              "    }\n",
              "\n",
              "    .dataframe tbody tr th {\n",
              "        vertical-align: top;\n",
              "    }\n",
              "\n",
              "    .dataframe thead th {\n",
              "        text-align: right;\n",
              "    }\n",
              "</style>\n",
              "<table border=\"1\" class=\"dataframe\">\n",
              "  <thead>\n",
              "    <tr style=\"text-align: right;\">\n",
              "      <th></th>\n",
              "      <th>docid</th>\n",
              "      <th>doi</th>\n",
              "      <th>authors</th>\n",
              "      <th>title</th>\n",
              "      <th>abstract</th>\n",
              "      <th>journal</th>\n",
              "      <th>body</th>\n",
              "      <th>clean</th>\n",
              "    </tr>\n",
              "  </thead>\n",
              "  <tbody>\n",
              "    <tr>\n",
              "      <th>0</th>\n",
              "      <td>ynh8eo6x</td>\n",
              "      <td>10.1007/s11125-021-09564-8</td>\n",
              "      <td>Amin, Nyna; Mahabeer, Pryah</td>\n",
              "      <td>Curriculum tinkering in situations of crises a...</td>\n",
              "      <td>This article interrogates a curriculum recover...</td>\n",
              "      <td>Prospects (Paris)</td>\n",
              "      <td>In this section, we provide an overview of Sou...</td>\n",
              "      <td>In section, provide overview South Africa’s de...</td>\n",
              "    </tr>\n",
              "    <tr>\n",
              "      <th>1</th>\n",
              "      <td>g0bgp3t7</td>\n",
              "      <td>10.3389/fimmu.2021.754642</td>\n",
              "      <td>Coleman, Celeste; Doyle-Meyers, Lara A.; Russe...</td>\n",
              "      <td>Similarities and Differences in the Acute-Phas...</td>\n",
              "      <td>Understanding SARS-CoV-2 immune pathology is c...</td>\n",
              "      <td>Front Immunol</td>\n",
              "      <td>The rapid emergence and dissemination of sever...</td>\n",
              "      <td>rapid emergence dissemination severe acute res...</td>\n",
              "    </tr>\n",
              "    <tr>\n",
              "      <th>2</th>\n",
              "      <td>x1r99rlm</td>\n",
              "      <td>10.3382/ps/pev336</td>\n",
              "      <td>Yokhana, J. S.; Parkinson, G.; Frankel, T. L.</td>\n",
              "      <td>Effect of insoluble fiber supplementation appl...</td>\n",
              "      <td>Two experiments were conducted to study effect...</td>\n",
              "      <td>Poult Sci</td>\n",
              "      <td>Growth and development in layer pullets during...</td>\n",
              "      <td>Growth development layer pullet rearing early ...</td>\n",
              "    </tr>\n",
              "    <tr>\n",
              "      <th>3</th>\n",
              "      <td>m5pwtv7d</td>\n",
              "      <td>10.1007/978-3-030-51761-8_5</td>\n",
              "      <td>Alonayq, Abdulmohsen</td>\n",
              "      <td>Narrating Arabic Translation Online: Another P...</td>\n",
              "      <td>This chapter takes a socionarrative approach t...</td>\n",
              "      <td>When Translation Goes Digital</td>\n",
              "      <td>The translation sector has seen an increase in...</td>\n",
              "      <td>translation sector seen increase volunteer tra...</td>\n",
              "    </tr>\n",
              "    <tr>\n",
              "      <th>4</th>\n",
              "      <td>ztzsj45b</td>\n",
              "      <td>10.3390/cells11030575</td>\n",
              "      <td>Suzuki, Hiroyuki; Kaneko, Mika K.; Kato, Yukinari</td>\n",
              "      <td>Roles of Podoplanin in Malignant Progression o...</td>\n",
              "      <td>Podoplanin (PDPN) is a cell-surface mucin-like...</td>\n",
              "      <td>Cells</td>\n",
              "      <td>Podoplanin (PDPN)/T1α/E11 antigen/PA2.26 antig...</td>\n",
              "      <td>Podoplanin (PDPN)/T1α/E11 antigen/PA2.26 antig...</td>\n",
              "    </tr>\n",
              "  </tbody>\n",
              "</table>\n",
              "</div>\n",
              "      <button class=\"colab-df-convert\" onclick=\"convertToInteractive('df-8902c4d8-7375-4d12-a917-fc47bfb0eac5')\"\n",
              "              title=\"Convert this dataframe to an interactive table.\"\n",
              "              style=\"display:none;\">\n",
              "        \n",
              "  <svg xmlns=\"http://www.w3.org/2000/svg\" height=\"24px\"viewBox=\"0 0 24 24\"\n",
              "       width=\"24px\">\n",
              "    <path d=\"M0 0h24v24H0V0z\" fill=\"none\"/>\n",
              "    <path d=\"M18.56 5.44l.94 2.06.94-2.06 2.06-.94-2.06-.94-.94-2.06-.94 2.06-2.06.94zm-11 1L8.5 8.5l.94-2.06 2.06-.94-2.06-.94L8.5 2.5l-.94 2.06-2.06.94zm10 10l.94 2.06.94-2.06 2.06-.94-2.06-.94-.94-2.06-.94 2.06-2.06.94z\"/><path d=\"M17.41 7.96l-1.37-1.37c-.4-.4-.92-.59-1.43-.59-.52 0-1.04.2-1.43.59L10.3 9.45l-7.72 7.72c-.78.78-.78 2.05 0 2.83L4 21.41c.39.39.9.59 1.41.59.51 0 1.02-.2 1.41-.59l7.78-7.78 2.81-2.81c.8-.78.8-2.07 0-2.86zM5.41 20L4 18.59l7.72-7.72 1.47 1.35L5.41 20z\"/>\n",
              "  </svg>\n",
              "      </button>\n",
              "      \n",
              "  <style>\n",
              "    .colab-df-container {\n",
              "      display:flex;\n",
              "      flex-wrap:wrap;\n",
              "      gap: 12px;\n",
              "    }\n",
              "\n",
              "    .colab-df-convert {\n",
              "      background-color: #E8F0FE;\n",
              "      border: none;\n",
              "      border-radius: 50%;\n",
              "      cursor: pointer;\n",
              "      display: none;\n",
              "      fill: #1967D2;\n",
              "      height: 32px;\n",
              "      padding: 0 0 0 0;\n",
              "      width: 32px;\n",
              "    }\n",
              "\n",
              "    .colab-df-convert:hover {\n",
              "      background-color: #E2EBFA;\n",
              "      box-shadow: 0px 1px 2px rgba(60, 64, 67, 0.3), 0px 1px 3px 1px rgba(60, 64, 67, 0.15);\n",
              "      fill: #174EA6;\n",
              "    }\n",
              "\n",
              "    [theme=dark] .colab-df-convert {\n",
              "      background-color: #3B4455;\n",
              "      fill: #D2E3FC;\n",
              "    }\n",
              "\n",
              "    [theme=dark] .colab-df-convert:hover {\n",
              "      background-color: #434B5C;\n",
              "      box-shadow: 0px 1px 3px 1px rgba(0, 0, 0, 0.15);\n",
              "      filter: drop-shadow(0px 1px 2px rgba(0, 0, 0, 0.3));\n",
              "      fill: #FFFFFF;\n",
              "    }\n",
              "  </style>\n",
              "\n",
              "      <script>\n",
              "        const buttonEl =\n",
              "          document.querySelector('#df-8902c4d8-7375-4d12-a917-fc47bfb0eac5 button.colab-df-convert');\n",
              "        buttonEl.style.display =\n",
              "          google.colab.kernel.accessAllowed ? 'block' : 'none';\n",
              "\n",
              "        async function convertToInteractive(key) {\n",
              "          const element = document.querySelector('#df-8902c4d8-7375-4d12-a917-fc47bfb0eac5');\n",
              "          const dataTable =\n",
              "            await google.colab.kernel.invokeFunction('convertToInteractive',\n",
              "                                                     [key], {});\n",
              "          if (!dataTable) return;\n",
              "\n",
              "          const docLinkHtml = 'Like what you see? Visit the ' +\n",
              "            '<a target=\"_blank\" href=https://colab.research.google.com/notebooks/data_table.ipynb>data table notebook</a>'\n",
              "            + ' to learn more about interactive tables.';\n",
              "          element.innerHTML = '';\n",
              "          dataTable['output_type'] = 'display_data';\n",
              "          await google.colab.output.renderOutput(dataTable, element);\n",
              "          const docLink = document.createElement('div');\n",
              "          docLink.innerHTML = docLinkHtml;\n",
              "          element.appendChild(docLink);\n",
              "        }\n",
              "      </script>\n",
              "    </div>\n",
              "  </div>\n",
              "  "
            ]
          },
          "metadata": {},
          "execution_count": 4
        }
      ],
      "source": [
        "# data_v2_clean: data_v2 + pre-processing*\n",
        "data_v2_clean = pd.read_csv(\"/content/drive/My Drive/NLP/covid_data_v1.csv\", index_col=False)\n",
        "data_v2_clean.head()"
      ]
    },
    {
      "cell_type": "markdown",
      "id": "31d75afc",
      "metadata": {
        "id": "31d75afc"
      },
      "source": [
        "### 2. Named Entity Recognition and Knowledge Base"
      ]
    },
    {
      "cell_type": "markdown",
      "id": "L5MaXow4Hcbo",
      "metadata": {
        "id": "L5MaXow4Hcbo"
      },
      "source": [
        "#### 2.1 Summary\n",
        "For NER, we use **Spacy** by **get_ner function** to recognize named entitites as it has better performance compared to NLTK. Our NER (called **entities**) is a dictionary using \"docid\" as keys, while a list of dictionaries (named entities and named entities labels as key) are associated items related to a specail key(Section 2.2 NER).\n",
        "\n",
        "For Knowledge Base, we create a dictionary called self.kb in Knowledge Base class. The keys are canonical names, such as \"COVID-19\", and values for each key are {\"relation\": xx, \"objects\"(associated name): [xx,xx]}. We would like to use KB \"relation\" to help text matching in sentence level and find a better answer according to relation in Section 4 Test Matching Utility. Use KB \"object\" in case that we miss some associated named entities, for example, \"covid\", \"COVD-19\". \n",
        "\n",
        "It can be more complex such as build a knowledge base by anaylzeing each sentence and create dictionary/DataFrame for each sentence in all sample articles. However, it can be time consuming which is not suitable for this small project. But it may be an experiment in the feature. Also, as we removing stopwords, which will affect us to construct relationship of each sentence.\n",
        "\n",
        "In our experiment, manualy build knowledge base has correct relationship between subjects and objects compared to auto build knowledge base, in which using tagging to analysis each word in a sentence. (Section 2.3 Knowledge Base)\n",
        "\n",
        "P.S. Save NER dictionary to json file as it is very large and needs massive computing time. **In order to handle a small knowledge base and entities, we only use the first 30 articles for experiments in the following part**."
      ]
    },
    {
      "cell_type": "markdown",
      "id": "e0f5f75d",
      "metadata": {
        "id": "e0f5f75d"
      },
      "source": [
        "#### 2.2 NER"
      ]
    },
    {
      "cell_type": "code",
      "execution_count": null,
      "id": "OZEKVge1S8Xb",
      "metadata": {
        "id": "OZEKVge1S8Xb"
      },
      "outputs": [],
      "source": [
        "## This Part of code is from ref [8]\n",
        "from spacy import displacy\n",
        "class named_entity_recognition:\n",
        "    def __init__(self):\n",
        "        self.NER = {}\n",
        "    \n",
        "    def example(self, doc):\n",
        "        # Process whole document\n",
        "        text = nlp(doc)\n",
        "        displacy.render(text, style=\"ent\",jupyter=True)\n",
        "        return None\n",
        "    \n",
        "    def get_ner(self, data):\n",
        "      \"\"\"\n",
        "      The function is about name entity recognition.\n",
        "      Input:\n",
        "      data-> whole data includes \"docid\" and \"clean\"\n",
        "      Output: dictionary\n",
        "\n",
        "      \"\"\"\n",
        "      for i in range(data.shape[0]):\n",
        "          # Get document id\n",
        "          key = data['docid'][i]\n",
        "          # Initialize key in self.NER if it doesn't exist\n",
        "          if key not in self.NER.keys():\n",
        "              self.NER[key] = []\n",
        "          # Process whole documents\n",
        "          text = nlp(str(data['clean'][i]))\n",
        "          # Find named entities, labels\n",
        "          for ent in text.ents: \n",
        "              # Avoid duplicate named entities\n",
        "              if [ent.text.strip(), ent.label_] not in self.NER[key]:\n",
        "                  self.NER[key].append({\"text\":ent.text.strip(),\"label\":ent.label_})    \n",
        "      # Check if all keys in data are present in self.NER.keys()\n",
        "      for key in data['docid']:\n",
        "          if key not in self.NER.keys():\n",
        "              self.NER[key] = []  # Initialize missing key with an empty list\n",
        "      return self.NER"
      ]
    },
    {
      "cell_type": "code",
      "execution_count": null,
      "id": "kLQCfpr_fk7q",
      "metadata": {
        "colab": {
          "base_uri": "https://localhost:8080/",
          "height": 157
        },
        "id": "kLQCfpr_fk7q",
        "outputId": "f06bb1c9-711b-4b14-9aeb-05c41ba5be84"
      },
      "outputs": [
        {
          "data": {
            "text/html": [
              "<span class=\"tex2jax_ignore\"><div class=\"entities\" style=\"line-height: 2.5; direction: ltr\">In section, provide overview \n",
              "<mark class=\"entity\" style=\"background: #feca74; padding: 0.45em 0.6em; margin: 0 0.25em; line-height: 1; border-radius: 0.35em;\">\n",
              "    South Africa’s\n",
              "    <span style=\"font-size: 0.8em; font-weight: bold; line-height: 1; border-radius: 0.35em; vertical-align: middle; margin-left: 0.5rem\">GPE</span>\n",
              "</mark>\n",
              " demographic framework ass curriculum recovery plan. situational reading recovery plan necessary education curriculum represent constitute material basis political motif interest (see, Brennan \n",
              "<mark class=\"entity\" style=\"background: #bfe1d9; padding: 0.45em 0.6em; margin: 0 0.25em; line-height: 1; border-radius: 0.35em;\">\n",
              "    2011\n",
              "    <span style=\"font-size: 0.8em; font-weight: bold; line-height: 1; border-radius: 0.35em; vertical-align: middle; margin-left: 0.5rem\">DATE</span>\n",
              "</mark>\n",
              "; \n",
              "<mark class=\"entity\" style=\"background: #feca74; padding: 0.45em 0.6em; margin: 0 0.25em; line-height: 1; border-radius: 0.35em;\">\n",
              "    Shrestha\n",
              "    <span style=\"font-size: 0.8em; font-weight: bold; line-height: 1; border-radius: 0.35em; vertical-align: middle; margin-left: 0.5rem\">GPE</span>\n",
              "</mark>\n",
              " et \n",
              "<mark class=\"entity\" style=\"background: #feca74; padding: 0.45em 0.6em; margin: 0 0.25em; line-height: 1; border-radius: 0.35em;\">\n",
              "    al. 2019\n",
              "    <span style=\"font-size: 0.8em; font-weight: bold; line-height: 1; border-radius: 0.35em; vertical-align: middle; margin-left: 0.5rem\">GPE</span>\n",
              "</mark>\n",
              "). It state’s responsibility provide condition optimal learning outcomes; therefore, important describe context \n",
              "<mark class=\"entity\" style=\"background: #c887fb; padding: 0.45em 0.6em; margin: 0 0.25em; line-height: 1; border-radius: 0.35em;\">\n",
              "    South African\n",
              "    <span style=\"font-size: 0.8em; font-weight: bold; line-height: 1; border-radius: 0.35em; vertical-align: middle; margin-left: 0.5rem\">NORP</span>\n",
              "</mark>\n",
              " schooling co</div></span>"
            ],
            "text/plain": [
              "<IPython.core.display.HTML object>"
            ]
          },
          "metadata": {},
          "output_type": "display_data"
        }
      ],
      "source": [
        "## This Part of code is from ref [8]\n",
        "ner = named_entity_recognition()\n",
        "# visualization of part of named entities from an article\n",
        "ner.example(data_v2_clean['clean'][0][:400])"
      ]
    },
    {
      "cell_type": "code",
      "execution_count": null,
      "id": "5p1c3pDEhQtJ",
      "metadata": {
        "id": "5p1c3pDEhQtJ"
      },
      "outputs": [],
      "source": [
        "# ner_dic includes document id and NER\n",
        "ner_dic = ner.get_ner(data_v2_clean)"
      ]
    },
    {
      "cell_type": "code",
      "execution_count": 5,
      "id": "gRvqUQV1rL87",
      "metadata": {
        "id": "gRvqUQV1rL87"
      },
      "outputs": [],
      "source": [
        "#*\n",
        "def write_json(dictionary, filename):\n",
        "    # save dic as a string\n",
        "    string =  json.dumps(dictionary)\n",
        "    \n",
        "    # save string to json file\n",
        "    with open(filename, 'w') as f1:\n",
        "        f1.write(string)\n",
        "  \n",
        "def read_json(filename):\n",
        "    # read string from json file\n",
        "    with open(filename, 'r') as f2:\n",
        "        content = f2.read()\n",
        "\n",
        "    # get the dictionary from json file\n",
        "    output = json.loads(content)\n",
        "    \n",
        "    return output"
      ]
    },
    {
      "cell_type": "code",
      "execution_count": null,
      "id": "sffL-XAXY0yN",
      "metadata": {
        "id": "sffL-XAXY0yN"
      },
      "outputs": [],
      "source": [
        "# As ner_dic is very large, we decided to save the ner_dic into json format and store in google drive\n",
        "write_json(ner_dic, '/content/drive/My Drive/NLP/ner2.json')"
      ]
    },
    {
      "cell_type": "code",
      "execution_count": 6,
      "id": "cTcgPpOgrpeV",
      "metadata": {
        "id": "cTcgPpOgrpeV"
      },
      "outputs": [],
      "source": [
        "# Get ner_dic in json format from google drive and rename as entities*\n",
        "entities = read_json('/content/drive/My Drive/NLP/ner2.json')"
      ]
    },
    {
      "cell_type": "code",
      "execution_count": null,
      "id": "wF6UTnDwNpb0",
      "metadata": {
        "colab": {
          "base_uri": "https://localhost:8080/"
        },
        "id": "wF6UTnDwNpb0",
        "outputId": "9c9c74b0-b372-4188-fd1b-3bed528de6e2"
      },
      "outputs": [
        {
          "name": "stdout",
          "output_type": "stream",
          "text": [
            "The length of entities is:  9820\n",
            "A example of entities is \n",
            " [{'text': 'South Africa’s', 'label': 'GPE'}, {'text': '2011', 'label': 'DATE'}, {'text': 'Shrestha', 'label': 'GPE'}, {'text': 'al. 2019', 'label': 'GPE'}, {'text': 'South African', 'label': 'NORP'}, {'text': 'Taba', 'label': 'GPE'}, {'text': '50 year ago', 'label': 'DATE'}, {'text': '1962', 'label': 'DATE'}, {'text': '33', 'label': 'CARDINAL'}, {'text': 'twenty-first century', 'label': 'DATE'}, {'text': 'World Bank', 'label': 'ORG'}, {'text': 'International Labour Organisation', 'label': 'ORG'}, {'text': 'UNESCO', 'label': 'ORG'}, {'text': 'World Economic Forum', 'label': 'ORG'}, {'text': 'South Africa', 'label': 'GPE'}, {'text': 'South African', 'label': 'NORP'}, {'text': '2017', 'label': 'DATE'}, {'text': 'South Africa', 'label': 'GPE'}, {'text': '55%', 'label': 'PERCENT'}, {'text': '30.4 million', 'label': 'CARDINAL'}, {'text': '25.2%', 'label': 'PERCENT'}, {'text': '13.8 million', 'label': 'CARDINAL'}, {'text': '30.4 million', 'label': 'CARDINAL'}, {'text': '2017', 'label': 'DATE'}, {'text': '4', 'label': 'CARDINAL'}, {'text': '2016', 'label': 'CARDINAL'}, {'text': '13.4%', 'label': 'PERCENT'}, {'text': '61%', 'label': 'PERCENT'}, {'text': '12 million', 'label': 'CARDINAL'}, {'text': '2017', 'label': 'DATE'}, {'text': '52', 'label': 'CARDINAL'}, {'text': '30%', 'label': 'PERCENT'}, {'text': '13%', 'label': 'PERCENT'}, {'text': '2017', 'label': 'DATE'}, {'text': '100', 'label': 'CARDINAL'}, {'text': '90.3%', 'label': 'PERCENT'}, {'text': '83.5%', 'label': 'PERCENT'}, {'text': '66.6%', 'label': 'PERCENT'}, {'text': '1996', 'label': 'DATE'}, {'text': '2017', 'label': 'DATE'}, {'text': '9', 'label': 'CARDINAL'}, {'text': 'five', 'label': 'CARDINAL'}, {'text': 'Quintile 1', 'label': 'PRODUCT'}, {'text': '1', 'label': 'CARDINAL'}, {'text': '5', 'label': 'CARDINAL'}, {'text': '5', 'label': 'CARDINAL'}, {'text': 'DBE', 'label': 'ORG'}, {'text': 'Spaull 2012', 'label': 'DATE'}, {'text': '1', 'label': 'CARDINAL'}, {'text': '2 3', 'label': 'CARDINAL'}, {'text': 'South Africa', 'label': 'GPE'}, {'text': 'two', 'label': 'CARDINAL'}, {'text': 'One', 'label': 'CARDINAL'}, {'text': 'Spaull 2012', 'label': 'DATE'}, {'text': '14', 'label': 'CARDINAL'}, {'text': 'Jabulani Mkhwente', 'label': 'PERSON'}, {'text': '5', 'label': 'CARDINAL'}, {'text': 'two', 'label': 'CARDINAL'}, {'text': 'Eastern Cape', 'label': 'LOC'}, {'text': 'Christmas', 'label': 'DATE'}, {'text': 'May 2020', 'label': 'DATE'}, {'text': 'Mkhwente', 'label': 'GPE'}, {'text': 'Mkhwente', 'label': 'GPE'}, {'text': 'Mkhwente', 'label': 'GPE'}, {'text': 'month May 2020', 'label': 'DATE'}, {'text': 'two', 'label': 'CARDINAL'}, {'text': 'first', 'label': 'ORDINAL'}, {'text': 'second', 'label': 'ORDINAL'}, {'text': '25%', 'label': 'PERCENT'}, {'text': '75%', 'label': 'PERCENT'}, {'text': '25%', 'label': 'PERCENT'}, {'text': '2021', 'label': 'CARDINAL'}, {'text': 'two academic year', 'label': 'DATE'}, {'text': '2020 2021', 'label': 'DATE'}, {'text': 'Grades', 'label': 'GPE'}, {'text': 'DBE', 'label': 'ORG'}, {'text': '23)Curriculum', 'label': 'CARDINAL'}, {'text': 'DBE', 'label': 'ORG'}, {'text': '15', 'label': 'CARDINAL'}, {'text': 'two', 'label': 'CARDINAL'}, {'text': 'DBE', 'label': 'ORG'}, {'text': 'year', 'label': 'DATE'}, {'text': '2021', 'label': 'DATE'}, {'text': '2020', 'label': 'DATE'}, {'text': '2020 year', 'label': 'DATE'}, {'text': '25%', 'label': 'PERCENT'}, {'text': '25%', 'label': 'PERCENT'}, {'text': '2021 year', 'label': 'DATE'}, {'text': '125%', 'label': 'PERCENT'}, {'text': 'year', 'label': 'DATE'}, {'text': '2020', 'label': 'DATE'}, {'text': '2021', 'label': 'DATE'}, {'text': 'South Africa', 'label': 'GPE'}, {'text': '1998', 'label': 'DATE'}, {'text': 'South Africa', 'label': 'GPE'}, {'text': 'Schollar 2018', 'label': 'DATE'}, {'text': 'Fleisch 2008', 'label': 'DATE'}, {'text': 'Hoadley', 'label': 'PERSON'}, {'text': 'Taylor Vinjevold', 'label': 'PERSON'}, {'text': '1999', 'label': 'DATE'}, {'text': 'Taylor', 'label': 'PERSON'}, {'text': '2003', 'label': 'DATE'}, {'text': 'two', 'label': 'CARDINAL'}, {'text': 'DBE', 'label': 'ORG'}, {'text': 'year', 'label': 'DATE'}, {'text': 'DBE', 'label': 'ORG'}, {'text': '15', 'label': 'CARDINAL'}, {'text': 'South Africa', 'label': 'GPE'}, {'text': 'Taylor', 'label': 'PERSON'}, {'text': '2019', 'label': 'DATE'}, {'text': 'Maphalala', 'label': 'GPE'}, {'text': '2018', 'label': 'DATE'}, {'text': 'Carr-Hill', 'label': 'ORG'}, {'text': '2018', 'label': 'DATE'}, {'text': 'Debarger et al', 'label': 'PERSON'}, {'text': 'DBE', 'label': 'ORG'}, {'text': 'pp.', 'label': 'GPE'}, {'text': 'De Clercq', 'label': 'PERSON'}, {'text': 'al. 2018', 'label': 'GPE'}, {'text': 'approximately 80%', 'label': 'PERCENT'}, {'text': 'one', 'label': 'CARDINAL'}, {'text': 'South Africa’s', 'label': 'GPE'}, {'text': 'two', 'label': 'CARDINAL'}, {'text': 'year', 'label': 'DATE'}, {'text': 'next year', 'label': 'DATE'}, {'text': 'year', 'label': 'DATE'}, {'text': 'Carl 2002', 'label': 'DATE'}, {'text': 'Garrison', 'label': 'PERSON'}, {'text': '2009', 'label': 'DATE'}, {'text': 'Covid-19', 'label': 'ORG'}, {'text': '1–3', 'label': 'CARDINAL'}, {'text': 'additional hour school day', 'label': 'TIME'}, {'text': 'hour', 'label': 'TIME'}, {'text': 'two', 'label': 'CARDINAL'}, {'text': 'Spaull', 'label': 'PERSON'}, {'text': '2012', 'label': 'DATE'}, {'text': 'Wiseman', 'label': 'PERSON'}, {'text': '2012', 'label': 'DATE'}, {'text': 'Ball 2007', 'label': 'DATE'}, {'text': 'Sayed Motala', 'label': 'PERSON'}, {'text': '2012', 'label': 'DATE'}, {'text': 'McDonald Van Der Horst 2007', 'label': 'ORG'}, {'text': 'South Africa', 'label': 'GPE'}, {'text': 'Jansen et al.', 'label': 'PERSON'}, {'text': '2007', 'label': 'DATE'}, {'text': '1994', 'label': 'DATE'}, {'text': 'McDonald Van Der Horst 2007', 'label': 'ORG'}, {'text': '30 million', 'label': 'CARDINAL'}, {'text': 'South Africans', 'label': 'NORP'}, {'text': 'two month', 'label': 'DATE'}, {'text': '2009', 'label': 'DATE'}, {'text': 'Melrose', 'label': 'PERSON'}, {'text': '1998', 'label': 'DATE'}, {'text': 'one', 'label': 'CARDINAL'}, {'text': 'first', 'label': 'ORDINAL'}, {'text': '1', 'label': 'CARDINAL'}, {'text': '2', 'label': 'CARDINAL'}, {'text': '3', 'label': 'CARDINAL'}, {'text': 'second', 'label': 'ORDINAL'}, {'text': '1', 'label': 'CARDINAL'}, {'text': '2', 'label': 'CARDINAL'}, {'text': '3', 'label': 'CARDINAL'}, {'text': '4', 'label': 'CARDINAL'}, {'text': 'third', 'label': 'ORDINAL'}, {'text': 'September 2020', 'label': 'DATE'}, {'text': 'Dewey', 'label': 'ORG'}, {'text': 'Haddad Demsky', 'label': 'PERSON'}, {'text': '1995', 'label': 'DATE'}, {'text': 'William Kilpatrick', 'label': 'PERSON'}, {'text': 'Kilpatrick', 'label': 'PERSON'}, {'text': '320', 'label': 'CARDINAL'}, {'text': 'Two', 'label': 'CARDINAL'}, {'text': 'Jansen', 'label': 'PERSON'}, {'text': '1990', 'label': 'DATE'}, {'text': 'Jansen', 'label': 'PERSON'}, {'text': '1990', 'label': 'DATE'}, {'text': 'South Africa', 'label': 'GPE'}, {'text': '1993', 'label': 'DATE'}, {'text': '68', 'label': 'CARDINAL'}, {'text': 'South Africans', 'label': 'NORP'}, {'text': 'National Education Policy Act', 'label': 'ORG'}, {'text': '27 1996', 'label': 'DATE'}, {'text': 'Section 3', 'label': 'LAW'}, {'text': '4', 'label': 'CARDINAL'}, {'text': 'DBE', 'label': 'ORG'}, {'text': 'Jansen', 'label': 'PERSON'}, {'text': '1990', 'label': 'DATE'}, {'text': '2020', 'label': 'DATE'}, {'text': 'Toquero 2020', 'label': 'DATE'}, {'text': 'DBE', 'label': 'ORG'}, {'text': 'pp. 19,', 'label': 'GPE'}, {'text': '22', 'label': 'DATE'}, {'text': 'DBE', 'label': 'ORG'}, {'text': '2011', 'label': 'DATE'}, {'text': '2016', 'label': 'DATE'}, {'text': '69)—a', 'label': 'CARDINAL'}, {'text': 'Tyack Cuban', 'label': 'EVENT'}, {'text': '1995', 'label': 'DATE'}, {'text': 'day day', 'label': 'DATE'}, {'text': 'million', 'label': 'CARDINAL'}, {'text': '2021–2022', 'label': 'CARDINAL'}, {'text': 'Covid-19', 'label': 'ORG'}, {'text': 'South Africa', 'label': 'GPE'}, {'text': 'one', 'label': 'CARDINAL'}, {'text': 'DBE', 'label': 'ORG'}, {'text': 'South Africa', 'label': 'GPE'}, {'text': 'three year', 'label': 'DATE'}, {'text': 'Young', 'label': 'PERSON'}, {'text': '2008', 'label': 'DATE'}, {'text': '12', 'label': 'CARDINAL'}, {'text': '2008', 'label': 'DATE'}, {'text': '14', 'label': 'CARDINAL'}, {'text': 'Young 2008', 'label': 'DATE'}, {'text': '14', 'label': 'CARDINAL'}, {'text': 'Young 2008', 'label': 'DATE'}]\n"
          ]
        }
      ],
      "source": [
        "# The entities dictionary is too big to overview, we just simply print the length of it.\n",
        "print(\"The length of entities is: \",len(entities))\n",
        "print(\"A example of entities is \\n\", entities['ynh8eo6x'])"
      ]
    },
    {
      "cell_type": "code",
      "execution_count": null,
      "id": "z8tzCRh5ym0i",
      "metadata": {
        "colab": {
          "base_uri": "https://localhost:8080/"
        },
        "id": "z8tzCRh5ym0i",
        "outputId": "873bdc10-c936-4227-8890-bad58c23abaa"
      },
      "outputs": [
        {
          "name": "stdout",
          "output_type": "stream",
          "text": [
            "A example of entities is \n",
            " [{'text': 'South Africa', 'label': 'GPE'}, {'text': '2011', 'label': 'DATE'}, {'text': 'Shrestha', 'label': 'GPE'}, {'text': 'al. 2019', 'label': 'GPE'}, {'text': 'South African', 'label': 'NORP'}, {'text': 'Taba', 'label': 'GPE'}, {'text': '50 year ago', 'label': 'DATE'}, {'text': '1962', 'label': 'DATE'}, {'text': '33', 'label': 'CARDINAL'}, {'text': 'twenty-first century', 'label': 'DATE'}, {'text': 'World Bank', 'label': 'ORG'}, {'text': 'International Labour Organisation', 'label': 'ORG'}, {'text': 'UNESCO', 'label': 'ORG'}, {'text': 'World Economic Forum', 'label': 'ORG'}, {'text': 'South Africa', 'label': 'GPE'}, {'text': 'South African', 'label': 'NORP'}, {'text': '2017', 'label': 'DATE'}, {'text': 'South Africa', 'label': 'GPE'}, {'text': '55%', 'label': 'PERCENT'}, {'text': '30.4 million', 'label': 'CARDINAL'}, {'text': '25.2%', 'label': 'PERCENT'}, {'text': '13.8 million', 'label': 'CARDINAL'}, {'text': '30.4 million', 'label': 'CARDINAL'}, {'text': '2017', 'label': 'DATE'}, {'text': '4', 'label': 'CARDINAL'}, {'text': '2016', 'label': 'CARDINAL'}, {'text': '13.4%', 'label': 'PERCENT'}, {'text': '61%', 'label': 'PERCENT'}, {'text': '12 million', 'label': 'CARDINAL'}, {'text': '2017', 'label': 'DATE'}, {'text': '52', 'label': 'CARDINAL'}, {'text': '30%', 'label': 'PERCENT'}, {'text': '13%', 'label': 'PERCENT'}, {'text': '2017', 'label': 'DATE'}, {'text': '100', 'label': 'CARDINAL'}, {'text': '90.3%', 'label': 'PERCENT'}, {'text': '83.5%', 'label': 'PERCENT'}, {'text': '66.6%', 'label': 'PERCENT'}, {'text': '1996', 'label': 'DATE'}, {'text': '2017', 'label': 'DATE'}, {'text': '9', 'label': 'CARDINAL'}, {'text': 'five', 'label': 'CARDINAL'}, {'text': 'Quintile 1', 'label': 'PRODUCT'}, {'text': '1', 'label': 'CARDINAL'}, {'text': '5', 'label': 'CARDINAL'}, {'text': '5', 'label': 'CARDINAL'}, {'text': 'DBE', 'label': 'ORG'}, {'text': 'Spaull 2012', 'label': 'DATE'}, {'text': '1', 'label': 'CARDINAL'}, {'text': '2 3', 'label': 'CARDINAL'}, {'text': 'South Africa', 'label': 'GPE'}, {'text': 'two', 'label': 'CARDINAL'}, {'text': 'One', 'label': 'CARDINAL'}, {'text': 'Spaull 2012', 'label': 'DATE'}, {'text': '14', 'label': 'CARDINAL'}, {'text': 'Jabulani Mkhwente', 'label': 'PERSON'}, {'text': '5', 'label': 'CARDINAL'}, {'text': 'two', 'label': 'CARDINAL'}, {'text': 'Eastern Cape', 'label': 'LOC'}, {'text': 'Christmas', 'label': 'DATE'}, {'text': 'May 2020', 'label': 'DATE'}, {'text': 'Mkhwente', 'label': 'GPE'}, {'text': 'Mkhwente', 'label': 'GPE'}, {'text': 'Mkhwente', 'label': 'GPE'}, {'text': 'month May 2020', 'label': 'DATE'}, {'text': 'two', 'label': 'CARDINAL'}, {'text': 'first', 'label': 'ORDINAL'}, {'text': 'second', 'label': 'ORDINAL'}, {'text': '25%', 'label': 'PERCENT'}, {'text': '75%', 'label': 'PERCENT'}, {'text': '25%', 'label': 'PERCENT'}, {'text': '2021', 'label': 'CARDINAL'}, {'text': 'two academic year', 'label': 'DATE'}, {'text': '2020 2021', 'label': 'DATE'}, {'text': 'Grades', 'label': 'GPE'}, {'text': 'DBE', 'label': 'ORG'}, {'text': '23)Curriculum', 'label': 'CARDINAL'}, {'text': 'DBE', 'label': 'ORG'}, {'text': '15', 'label': 'CARDINAL'}, {'text': 'two', 'label': 'CARDINAL'}, {'text': 'DBE', 'label': 'ORG'}, {'text': 'year', 'label': 'DATE'}, {'text': '2021', 'label': 'DATE'}, {'text': '2020', 'label': 'DATE'}, {'text': '2020 year', 'label': 'DATE'}, {'text': '25%', 'label': 'PERCENT'}, {'text': '25%', 'label': 'PERCENT'}, {'text': '2021 year', 'label': 'DATE'}, {'text': '125%', 'label': 'PERCENT'}, {'text': 'year', 'label': 'DATE'}, {'text': '2020', 'label': 'DATE'}, {'text': '2021', 'label': 'DATE'}, {'text': 'South Africa', 'label': 'GPE'}, {'text': '1998', 'label': 'DATE'}, {'text': 'South Africa', 'label': 'GPE'}, {'text': 'Schollar 2018', 'label': 'DATE'}, {'text': 'Fleisch 2008', 'label': 'DATE'}, {'text': 'Hoadley', 'label': 'PERSON'}, {'text': 'Taylor Vinjevold', 'label': 'PERSON'}, {'text': '1999', 'label': 'DATE'}, {'text': 'Taylor', 'label': 'PERSON'}, {'text': '2003', 'label': 'DATE'}, {'text': 'two', 'label': 'CARDINAL'}, {'text': 'DBE', 'label': 'ORG'}, {'text': 'year', 'label': 'DATE'}, {'text': 'DBE', 'label': 'ORG'}, {'text': '15', 'label': 'CARDINAL'}, {'text': 'South Africa', 'label': 'GPE'}, {'text': 'Taylor', 'label': 'PERSON'}, {'text': '2019', 'label': 'DATE'}, {'text': 'Maphalala', 'label': 'GPE'}, {'text': '2018', 'label': 'DATE'}, {'text': 'Carr-Hill', 'label': 'ORG'}, {'text': '2018', 'label': 'DATE'}, {'text': 'Debarger et al', 'label': 'PERSON'}, {'text': 'DBE', 'label': 'ORG'}, {'text': 'pp.', 'label': 'GPE'}, {'text': 'De Clercq', 'label': 'PERSON'}, {'text': 'al. 2018', 'label': 'GPE'}, {'text': 'approximately 80%', 'label': 'PERCENT'}, {'text': 'one', 'label': 'CARDINAL'}, {'text': 'South Africa’s', 'label': 'GPE'}, {'text': 'two', 'label': 'CARDINAL'}, {'text': 'year', 'label': 'DATE'}, {'text': 'next year', 'label': 'DATE'}, {'text': 'year', 'label': 'DATE'}, {'text': 'Carl 2002', 'label': 'DATE'}, {'text': 'Garrison', 'label': 'PERSON'}, {'text': '2009', 'label': 'DATE'}, {'text': 'Covid-19', 'label': 'ORG'}, {'text': '1–3', 'label': 'CARDINAL'}, {'text': 'additional hour school day', 'label': 'TIME'}, {'text': 'hour', 'label': 'TIME'}, {'text': 'two', 'label': 'CARDINAL'}, {'text': 'Spaull', 'label': 'PERSON'}, {'text': '2012', 'label': 'DATE'}, {'text': 'Wiseman', 'label': 'PERSON'}, {'text': '2012', 'label': 'DATE'}, {'text': 'Ball 2007', 'label': 'DATE'}, {'text': 'Sayed Motala', 'label': 'PERSON'}, {'text': '2012', 'label': 'DATE'}, {'text': 'McDonald Van Der Horst 2007', 'label': 'ORG'}, {'text': 'South Africa', 'label': 'GPE'}, {'text': 'Jansen et al.', 'label': 'PERSON'}, {'text': '2007', 'label': 'DATE'}, {'text': '1994', 'label': 'DATE'}, {'text': 'McDonald Van Der Horst 2007', 'label': 'ORG'}, {'text': '30 million', 'label': 'CARDINAL'}, {'text': 'South Africans', 'label': 'NORP'}, {'text': 'two month', 'label': 'DATE'}, {'text': '2009', 'label': 'DATE'}, {'text': 'Melrose', 'label': 'PERSON'}, {'text': '1998', 'label': 'DATE'}, {'text': 'one', 'label': 'CARDINAL'}, {'text': 'first', 'label': 'ORDINAL'}, {'text': '1', 'label': 'CARDINAL'}, {'text': '2', 'label': 'CARDINAL'}, {'text': '3', 'label': 'CARDINAL'}, {'text': 'second', 'label': 'ORDINAL'}, {'text': '1', 'label': 'CARDINAL'}, {'text': '2', 'label': 'CARDINAL'}, {'text': '3', 'label': 'CARDINAL'}, {'text': '4', 'label': 'CARDINAL'}, {'text': 'third', 'label': 'ORDINAL'}, {'text': 'September 2020', 'label': 'DATE'}, {'text': 'Dewey', 'label': 'ORG'}, {'text': 'Haddad Demsky', 'label': 'PERSON'}, {'text': '1995', 'label': 'DATE'}, {'text': 'William Kilpatrick', 'label': 'PERSON'}, {'text': 'Kilpatrick', 'label': 'PERSON'}, {'text': '320', 'label': 'CARDINAL'}, {'text': 'Two', 'label': 'CARDINAL'}, {'text': 'Jansen', 'label': 'PERSON'}, {'text': '1990', 'label': 'DATE'}, {'text': 'Jansen', 'label': 'PERSON'}, {'text': '1990', 'label': 'DATE'}, {'text': 'South Africa', 'label': 'GPE'}, {'text': '1993', 'label': 'DATE'}, {'text': '68', 'label': 'CARDINAL'}, {'text': 'South Africans', 'label': 'NORP'}, {'text': 'National Education Policy Act', 'label': 'ORG'}, {'text': '27 1996', 'label': 'DATE'}, {'text': 'Section 3', 'label': 'LAW'}, {'text': '4', 'label': 'CARDINAL'}, {'text': 'DBE', 'label': 'ORG'}, {'text': 'Jansen', 'label': 'PERSON'}, {'text': '1990', 'label': 'DATE'}, {'text': '2020', 'label': 'DATE'}, {'text': 'Toquero 2020', 'label': 'DATE'}, {'text': 'DBE', 'label': 'ORG'}, {'text': 'pp. 19,', 'label': 'GPE'}, {'text': '22', 'label': 'DATE'}, {'text': 'DBE', 'label': 'ORG'}, {'text': '2011', 'label': 'DATE'}, {'text': '2016', 'label': 'DATE'}, {'text': '69)—a', 'label': 'CARDINAL'}, {'text': 'Tyack Cuban', 'label': 'EVENT'}, {'text': '1995', 'label': 'DATE'}, {'text': 'day day', 'label': 'DATE'}, {'text': 'million', 'label': 'CARDINAL'}, {'text': '2021–2022', 'label': 'CARDINAL'}, {'text': 'Covid-19', 'label': 'ORG'}, {'text': 'South Africa', 'label': 'GPE'}, {'text': 'one', 'label': 'CARDINAL'}, {'text': 'DBE', 'label': 'ORG'}, {'text': 'South Africa', 'label': 'GPE'}, {'text': 'three year', 'label': 'DATE'}, {'text': 'Young', 'label': 'PERSON'}, {'text': '2008', 'label': 'DATE'}, {'text': '12', 'label': 'CARDINAL'}, {'text': '2008', 'label': 'DATE'}, {'text': '14', 'label': 'CARDINAL'}, {'text': 'Young 2008', 'label': 'DATE'}, {'text': '14', 'label': 'CARDINAL'}, {'text': 'Young 2008', 'label': 'DATE'}, {'text': 'South Africa’s', 'label': 'GPE'}, {'text': '2011', 'label': 'DATE'}, {'text': 'Shrestha', 'label': 'GPE'}, {'text': 'al. 2019', 'label': 'GPE'}, {'text': 'South African', 'label': 'NORP'}, {'text': 'Taba', 'label': 'GPE'}, {'text': '50 year ago', 'label': 'DATE'}, {'text': '1962', 'label': 'DATE'}, {'text': '33', 'label': 'CARDINAL'}, {'text': 'twenty-first century', 'label': 'DATE'}, {'text': 'World Bank', 'label': 'ORG'}, {'text': 'International Labour Organisation', 'label': 'ORG'}, {'text': 'UNESCO', 'label': 'ORG'}, {'text': 'World Economic Forum', 'label': 'ORG'}, {'text': 'South Africa', 'label': 'GPE'}, {'text': 'South African', 'label': 'NORP'}, {'text': '2017', 'label': 'DATE'}, {'text': 'South Africa', 'label': 'GPE'}, {'text': '55%', 'label': 'PERCENT'}, {'text': '30.4 million', 'label': 'CARDINAL'}, {'text': '25.2%', 'label': 'PERCENT'}, {'text': '13.8 million', 'label': 'CARDINAL'}, {'text': '30.4 million', 'label': 'CARDINAL'}, {'text': '2017', 'label': 'DATE'}, {'text': '4', 'label': 'CARDINAL'}, {'text': '2016', 'label': 'CARDINAL'}, {'text': '13.4%', 'label': 'PERCENT'}, {'text': '61%', 'label': 'PERCENT'}, {'text': '12 million', 'label': 'CARDINAL'}, {'text': '2017', 'label': 'DATE'}, {'text': '52', 'label': 'CARDINAL'}, {'text': '30%', 'label': 'PERCENT'}, {'text': '13%', 'label': 'PERCENT'}, {'text': '2017', 'label': 'DATE'}, {'text': '100', 'label': 'CARDINAL'}, {'text': '90.3%', 'label': 'PERCENT'}, {'text': '83.5%', 'label': 'PERCENT'}, {'text': '66.6%', 'label': 'PERCENT'}, {'text': '1996', 'label': 'DATE'}, {'text': '2017', 'label': 'DATE'}, {'text': '9', 'label': 'CARDINAL'}, {'text': 'five', 'label': 'CARDINAL'}, {'text': 'Quintile 1', 'label': 'PRODUCT'}, {'text': '1', 'label': 'CARDINAL'}, {'text': '5', 'label': 'CARDINAL'}, {'text': '5', 'label': 'CARDINAL'}, {'text': 'DBE', 'label': 'ORG'}, {'text': 'Spaull 2012', 'label': 'DATE'}, {'text': '1', 'label': 'CARDINAL'}, {'text': '2 3', 'label': 'CARDINAL'}, {'text': 'South Africa', 'label': 'GPE'}, {'text': 'two', 'label': 'CARDINAL'}, {'text': 'One', 'label': 'CARDINAL'}, {'text': 'Spaull 2012', 'label': 'DATE'}, {'text': '14', 'label': 'CARDINAL'}, {'text': 'Jabulani Mkhwente', 'label': 'PERSON'}, {'text': '5', 'label': 'CARDINAL'}, {'text': 'two', 'label': 'CARDINAL'}, {'text': 'Eastern Cape', 'label': 'LOC'}, {'text': 'Christmas', 'label': 'DATE'}, {'text': 'May 2020', 'label': 'DATE'}, {'text': 'Mkhwente', 'label': 'GPE'}, {'text': 'Mkhwente', 'label': 'GPE'}, {'text': 'Mkhwente', 'label': 'GPE'}, {'text': 'month May 2020', 'label': 'DATE'}, {'text': 'two', 'label': 'CARDINAL'}, {'text': 'first', 'label': 'ORDINAL'}, {'text': 'second', 'label': 'ORDINAL'}, {'text': '25%', 'label': 'PERCENT'}, {'text': '75%', 'label': 'PERCENT'}, {'text': '25%', 'label': 'PERCENT'}, {'text': '2021', 'label': 'CARDINAL'}, {'text': 'two academic year', 'label': 'DATE'}, {'text': '2020 2021', 'label': 'DATE'}, {'text': 'Grades', 'label': 'GPE'}, {'text': 'DBE', 'label': 'ORG'}, {'text': '23)Curriculum', 'label': 'CARDINAL'}, {'text': 'DBE', 'label': 'ORG'}, {'text': '15', 'label': 'CARDINAL'}, {'text': 'two', 'label': 'CARDINAL'}, {'text': 'DBE', 'label': 'ORG'}, {'text': 'year', 'label': 'DATE'}, {'text': '2021', 'label': 'DATE'}, {'text': '2020', 'label': 'DATE'}, {'text': '2020 year', 'label': 'DATE'}, {'text': '25%', 'label': 'PERCENT'}, {'text': '25%', 'label': 'PERCENT'}, {'text': '2021 year', 'label': 'DATE'}, {'text': '125%', 'label': 'PERCENT'}, {'text': 'year', 'label': 'DATE'}, {'text': '2020', 'label': 'DATE'}, {'text': '2021', 'label': 'DATE'}, {'text': 'South Africa', 'label': 'GPE'}, {'text': '1998', 'label': 'DATE'}, {'text': 'South Africa', 'label': 'GPE'}, {'text': 'Schollar 2018', 'label': 'DATE'}, {'text': 'Fleisch 2008', 'label': 'DATE'}, {'text': 'Hoadley', 'label': 'PERSON'}, {'text': 'Taylor Vinjevold', 'label': 'PERSON'}, {'text': '1999', 'label': 'DATE'}, {'text': 'Taylor', 'label': 'PERSON'}, {'text': '2003', 'label': 'DATE'}, {'text': 'two', 'label': 'CARDINAL'}, {'text': 'DBE', 'label': 'ORG'}, {'text': 'year', 'label': 'DATE'}, {'text': 'DBE', 'label': 'ORG'}, {'text': '15', 'label': 'CARDINAL'}, {'text': 'South Africa', 'label': 'GPE'}, {'text': 'Taylor', 'label': 'PERSON'}, {'text': '2019', 'label': 'DATE'}, {'text': 'Maphalala', 'label': 'GPE'}, {'text': '2018', 'label': 'DATE'}, {'text': 'Carr-Hill', 'label': 'ORG'}, {'text': '2018', 'label': 'DATE'}, {'text': 'Debarger et al', 'label': 'PERSON'}, {'text': 'DBE', 'label': 'ORG'}, {'text': 'pp.', 'label': 'GPE'}, {'text': 'De Clercq', 'label': 'PERSON'}, {'text': 'al. 2018', 'label': 'GPE'}, {'text': 'approximately 80%', 'label': 'PERCENT'}, {'text': 'one', 'label': 'CARDINAL'}, {'text': 'South Africa’s', 'label': 'GPE'}, {'text': 'two', 'label': 'CARDINAL'}, {'text': 'year', 'label': 'DATE'}, {'text': 'next year', 'label': 'DATE'}, {'text': 'year', 'label': 'DATE'}, {'text': 'Carl 2002', 'label': 'DATE'}, {'text': 'Garrison', 'label': 'PERSON'}, {'text': '2009', 'label': 'DATE'}, {'text': 'Covid-19', 'label': 'ORG'}, {'text': '1–3', 'label': 'CARDINAL'}, {'text': 'additional hour school day', 'label': 'TIME'}, {'text': 'hour', 'label': 'TIME'}, {'text': 'two', 'label': 'CARDINAL'}, {'text': 'Spaull', 'label': 'PERSON'}, {'text': '2012', 'label': 'DATE'}, {'text': 'Wiseman', 'label': 'PERSON'}, {'text': '2012', 'label': 'DATE'}, {'text': 'Ball 2007', 'label': 'DATE'}, {'text': 'Sayed Motala', 'label': 'PERSON'}, {'text': '2012', 'label': 'DATE'}, {'text': 'McDonald Van Der Horst 2007', 'label': 'ORG'}, {'text': 'South Africa', 'label': 'GPE'}, {'text': 'Jansen et al.', 'label': 'PERSON'}, {'text': '2007', 'label': 'DATE'}, {'text': '1994', 'label': 'DATE'}, {'text': 'McDonald Van Der Horst 2007', 'label': 'ORG'}, {'text': '30 million', 'label': 'CARDINAL'}, {'text': 'South Africans', 'label': 'NORP'}, {'text': 'two month', 'label': 'DATE'}, {'text': '2009', 'label': 'DATE'}, {'text': 'Melrose', 'label': 'PERSON'}, {'text': '1998', 'label': 'DATE'}, {'text': 'one', 'label': 'CARDINAL'}, {'text': 'first', 'label': 'ORDINAL'}, {'text': '1', 'label': 'CARDINAL'}, {'text': '2', 'label': 'CARDINAL'}, {'text': '3', 'label': 'CARDINAL'}, {'text': 'second', 'label': 'ORDINAL'}, {'text': '1', 'label': 'CARDINAL'}, {'text': '2', 'label': 'CARDINAL'}, {'text': '3', 'label': 'CARDINAL'}, {'text': '4', 'label': 'CARDINAL'}, {'text': 'third', 'label': 'ORDINAL'}, {'text': 'September 2020', 'label': 'DATE'}, {'text': 'Dewey', 'label': 'ORG'}, {'text': 'Haddad Demsky', 'label': 'PERSON'}, {'text': '1995', 'label': 'DATE'}, {'text': 'William Kilpatrick', 'label': 'PERSON'}, {'text': 'Kilpatrick', 'label': 'PERSON'}, {'text': '320', 'label': 'CARDINAL'}, {'text': 'Two', 'label': 'CARDINAL'}, {'text': 'Jansen', 'label': 'PERSON'}, {'text': '1990', 'label': 'DATE'}, {'text': 'Jansen', 'label': 'PERSON'}, {'text': '1990', 'label': 'DATE'}, {'text': 'South Africa', 'label': 'GPE'}, {'text': '1993', 'label': 'DATE'}, {'text': '68', 'label': 'CARDINAL'}, {'text': 'South Africans', 'label': 'NORP'}, {'text': 'National Education Policy Act', 'label': 'ORG'}, {'text': '27 1996', 'label': 'DATE'}, {'text': 'Section 3', 'label': 'LAW'}, {'text': '4', 'label': 'CARDINAL'}, {'text': 'DBE', 'label': 'ORG'}, {'text': 'Jansen', 'label': 'PERSON'}, {'text': '1990', 'label': 'DATE'}, {'text': '2020', 'label': 'DATE'}, {'text': 'Toquero 2020', 'label': 'DATE'}, {'text': 'DBE', 'label': 'ORG'}, {'text': 'pp. 19,', 'label': 'GPE'}, {'text': '22', 'label': 'DATE'}, {'text': 'DBE', 'label': 'ORG'}, {'text': '2011', 'label': 'DATE'}, {'text': '2016', 'label': 'DATE'}, {'text': '69)—a', 'label': 'CARDINAL'}, {'text': 'Tyack Cuban', 'label': 'EVENT'}, {'text': '1995', 'label': 'DATE'}, {'text': 'day day', 'label': 'DATE'}, {'text': 'million', 'label': 'CARDINAL'}, {'text': '2021–2022', 'label': 'CARDINAL'}, {'text': 'Covid-19', 'label': 'ORG'}, {'text': 'South Africa', 'label': 'GPE'}, {'text': 'one', 'label': 'CARDINAL'}, {'text': 'DBE', 'label': 'ORG'}, {'text': 'South Africa', 'label': 'GPE'}, {'text': 'three year', 'label': 'DATE'}, {'text': 'Young', 'label': 'PERSON'}, {'text': '2008', 'label': 'DATE'}, {'text': '12', 'label': 'CARDINAL'}, {'text': '2008', 'label': 'DATE'}, {'text': '14', 'label': 'CARDINAL'}, {'text': 'Young 2008', 'label': 'DATE'}, {'text': '14', 'label': 'CARDINAL'}, {'text': 'Young 2008', 'label': 'DATE'}]\n"
          ]
        }
      ],
      "source": [
        "# Manually handling some specail case\n",
        "entities['ynh8eo6x'][0]['text'] = 'South Africa'\n",
        "print(\"A example of entities is \\n\", entities['ynh8eo6x'])"
      ]
    },
    {
      "cell_type": "code",
      "execution_count": 7,
      "id": "x7BfVfl9iR5Z",
      "metadata": {
        "colab": {
          "base_uri": "https://localhost:8080/"
        },
        "id": "x7BfVfl9iR5Z",
        "outputId": "5610d00c-046c-4056-fab7-c38c03d82de1"
      },
      "outputs": [
        {
          "output_type": "stream",
          "name": "stdout",
          "text": [
            "dict_keys(['ynh8eo6x', 'g0bgp3t7', 'x1r99rlm', 'm5pwtv7d', 'ztzsj45b', 'whchytrr', 'yi870wr8', 'lswvw426', 'l9vye5ci', '1iyz9nn2', 'hm0ovsq4', 'ltgadsp7', '0n0vbax3', '2sptdcbj', '0o4zxngp', 'c2ibxbgo', '7rrwtmw2', '10409mar', 'okihfpp6', 'xtu9r72l', 'jfca5rv6', '9k1fb5bs', 'qk0cyee2', 'ymebxodh', 'h4hxvov8', 'dtyrjfo5', 'daix3d5e', 'yajnzgd5', 'gcc1qjej', 'r9c4odva', 'njrtn2jg', '3mj2d8l2', 'o5r1rjw8', '68oaxlwj', '0k3ktii9', '71451xmg', 'x8w05pze', '2u1cylk4', 'wzwt67oi', 'urwpow4n', 'pt90g4xq', 'hwgoh2r0', 'b5u5hp2r', 'arlbi4yb', '8il8i5ye', 'kfxpf1ym', 'vw0tj8rl', 'yjay3t38', 'z2fdced4', '4kfyevgg', 'l5zn2cor', 'bno1pv1v', 'f8atqdgw', 'v61jvghw', 'n606m6lp', '36wdv3lp', 'om1airzt', 'a9mio9oe', 'dzhk80lw', 'ffsjv82v', '2u91fn5r', 'ala3zf7w', 'xmk267bo', 'olyq4eii', 'fp5t9w6e', 't6sxpn01', 'y49qm4t8', '7idyw242', 'd8kaivf2', 'bnkg47ta', 'jdghxoq1', 'xeqdknea', 'rqradbd7', 'zc209dfx', 'ygl490pn', '8yvsnjhm', 'hf3wd9el', 'odg5duik', 'a8hvtcqe', 'ak39fnck', 'hg8n4hxv', 'qspkh86p', '3di9txej', 'aw63xinw', 'mi8usr28', '3q1b3t8h', 'qd30tmuy', '6uzy2cy5', 'zldwyuhz', 'qry6y4cx', 'bxv4wjyg', '6ddvqowr', 't8j105p1', 'c7r875ry', '5ndobzd0', 'hf5046xy', 'ufcpr45j', 'dwwq1r54', 'waezpzgk', 'x4e65hu8'])\n"
          ]
        }
      ],
      "source": [
        "# In order to perform experiment in small dataset*\n",
        "# only get the named entities in first 100 articles\n",
        "\n",
        "cnt = 0\n",
        "entities_100 = {}\n",
        "for k, v in entities.items():\n",
        "    entities_100[k] = v\n",
        "    cnt += 1\n",
        "    if cnt == 100:\n",
        "      break\n",
        "\n",
        "print(entities_100.keys())"
      ]
    },
    {
      "cell_type": "markdown",
      "id": "a70fdf73",
      "metadata": {
        "id": "a70fdf73"
      },
      "source": [
        "#### 2.3 Knowledge Base"
      ]
    },
    {
      "cell_type": "code",
      "execution_count": 8,
      "id": "bB1wxEhVTOQl",
      "metadata": {
        "id": "bB1wxEhVTOQl"
      },
      "outputs": [],
      "source": [
        "# This part of code is from ref[4] and ref[17]\n",
        "\n",
        "class KnowledgeBase:\n",
        "    def __init__(self, data):\n",
        "        self.data = data\n",
        "        self.kb= {}\n",
        "\n",
        "    def manually_build_kb(self, ent_pairs):\n",
        "        if ent_pairs['canonical'] != self.kb.keys():\n",
        "            self.kb[ent_pairs['canonical']] = [{\"relation\":ent_pairs['relation'], \"object\": ent_pairs['associated']}]\n",
        "        else:\n",
        "            self.kb[ent_pairs['canonical']].append({\"relation\":ent_pairs['relation'], \"object\": ent_pairs['associated']})\n",
        "\n",
        "    def df_plot(self):\n",
        "        \"\"\"Get DataFrame from kb dictionary\"\"\"\n",
        "        subjects, relations, objects = [],[],[]\n",
        "\n",
        "        for k in self.kb.keys():\n",
        "            subjects.append(k)\n",
        "            for i in range(len(self.kb[k])):\n",
        "              relations.append(self.kb[k][i]['relation'])\n",
        "              objects.append(self.kb[k][i]['object'])\n",
        "\n",
        "        kg_df = pd.DataFrame({'subject':subjects,'relation':relations, 'object': objects})       \n",
        "        return kg_df\n",
        "\n",
        "    def knowledge_graph(self):\n",
        "        \"\"\"knowledge graph\"\"\"\n",
        "        knowledge_dict = {}\n",
        "        for name in self.kb.keys():\n",
        "            for i in range(len(self.kb[name])):\n",
        "              knowledge_dict[name] = self.kb[name][i]['object']\n",
        "\n",
        "        # Create a new graph\n",
        "        G = nx.Graph()\n",
        "\n",
        "        # Add nodes to the graph\n",
        "        G.add_nodes_from(knowledge_dict.keys())\n",
        "\n",
        "        # Add edges to the graph\n",
        "        for node, neighbors in knowledge_dict.items():\n",
        "            for neighbor in neighbors:\n",
        "                G.add_edge(node, neighbor)\n",
        "\n",
        "        # Set node positions\n",
        "        pos = nx.spring_layout(G)\n",
        "\n",
        "        # Draw the graph\n",
        "        nx.draw_networkx_nodes(G, pos, node_color='lightblue', node_size=1000)\n",
        "        nx.draw_networkx_edges(G, pos, edge_color='grey')\n",
        "        nx.draw_networkx_labels(G, pos, font_size=12, font_family='sans-serif')\n",
        "\n",
        "        # Show the plot\n",
        "        plt.axis('off')\n",
        "        plt.show()\n",
        "\n",
        "\n",
        "    def search(self, query):\n",
        "        candidates = []\n",
        "        for name in self.kb.keys():  \n",
        "            if query == name:\n",
        "              for i in self.kb[name]:\n",
        "                  candidates.extend(i['object']) \n",
        "        # if candidates == []:\n",
        "        #   print(\"There is no associated name for this canonical name.\")\n",
        "        return candidates\n"
      ]
    },
    {
      "cell_type": "markdown",
      "id": "5Opgrd_qzko4",
      "metadata": {
        "id": "5Opgrd_qzko4"
      },
      "source": [
        "##### 2.3.1 Manually create KB"
      ]
    },
    {
      "cell_type": "code",
      "execution_count": 9,
      "id": "oWAdVpZ3o1ZX",
      "metadata": {
        "colab": {
          "base_uri": "https://localhost:8080/",
          "height": 143
        },
        "id": "oWAdVpZ3o1ZX",
        "outputId": "70093cae-3079-48f9-ae7d-e04b09ee7c81"
      },
      "outputs": [
        {
          "output_type": "execute_result",
          "data": {
            "text/plain": [
              "       subject relation                                             object\n",
              "0     COVID-19       is  [covid19, covid, SARS-CoV-2, COVD-19, coronavi...\n",
              "1  coronavirus       is    [covid19, covid, COVID-19, COVD-19, SARS-CoV-2]\n",
              "2         mask       is                               [face mask, P2 mask]"
            ],
            "text/html": [
              "\n",
              "  <div id=\"df-a02fc517-b839-4e24-b8c6-abd4d1ed6e1c\">\n",
              "    <div class=\"colab-df-container\">\n",
              "      <div>\n",
              "<style scoped>\n",
              "    .dataframe tbody tr th:only-of-type {\n",
              "        vertical-align: middle;\n",
              "    }\n",
              "\n",
              "    .dataframe tbody tr th {\n",
              "        vertical-align: top;\n",
              "    }\n",
              "\n",
              "    .dataframe thead th {\n",
              "        text-align: right;\n",
              "    }\n",
              "</style>\n",
              "<table border=\"1\" class=\"dataframe\">\n",
              "  <thead>\n",
              "    <tr style=\"text-align: right;\">\n",
              "      <th></th>\n",
              "      <th>subject</th>\n",
              "      <th>relation</th>\n",
              "      <th>object</th>\n",
              "    </tr>\n",
              "  </thead>\n",
              "  <tbody>\n",
              "    <tr>\n",
              "      <th>0</th>\n",
              "      <td>COVID-19</td>\n",
              "      <td>is</td>\n",
              "      <td>[covid19, covid, SARS-CoV-2, COVD-19, coronavi...</td>\n",
              "    </tr>\n",
              "    <tr>\n",
              "      <th>1</th>\n",
              "      <td>coronavirus</td>\n",
              "      <td>is</td>\n",
              "      <td>[covid19, covid, COVID-19, COVD-19, SARS-CoV-2]</td>\n",
              "    </tr>\n",
              "    <tr>\n",
              "      <th>2</th>\n",
              "      <td>mask</td>\n",
              "      <td>is</td>\n",
              "      <td>[face mask, P2 mask]</td>\n",
              "    </tr>\n",
              "  </tbody>\n",
              "</table>\n",
              "</div>\n",
              "      <button class=\"colab-df-convert\" onclick=\"convertToInteractive('df-a02fc517-b839-4e24-b8c6-abd4d1ed6e1c')\"\n",
              "              title=\"Convert this dataframe to an interactive table.\"\n",
              "              style=\"display:none;\">\n",
              "        \n",
              "  <svg xmlns=\"http://www.w3.org/2000/svg\" height=\"24px\"viewBox=\"0 0 24 24\"\n",
              "       width=\"24px\">\n",
              "    <path d=\"M0 0h24v24H0V0z\" fill=\"none\"/>\n",
              "    <path d=\"M18.56 5.44l.94 2.06.94-2.06 2.06-.94-2.06-.94-.94-2.06-.94 2.06-2.06.94zm-11 1L8.5 8.5l.94-2.06 2.06-.94-2.06-.94L8.5 2.5l-.94 2.06-2.06.94zm10 10l.94 2.06.94-2.06 2.06-.94-2.06-.94-.94-2.06-.94 2.06-2.06.94z\"/><path d=\"M17.41 7.96l-1.37-1.37c-.4-.4-.92-.59-1.43-.59-.52 0-1.04.2-1.43.59L10.3 9.45l-7.72 7.72c-.78.78-.78 2.05 0 2.83L4 21.41c.39.39.9.59 1.41.59.51 0 1.02-.2 1.41-.59l7.78-7.78 2.81-2.81c.8-.78.8-2.07 0-2.86zM5.41 20L4 18.59l7.72-7.72 1.47 1.35L5.41 20z\"/>\n",
              "  </svg>\n",
              "      </button>\n",
              "      \n",
              "  <style>\n",
              "    .colab-df-container {\n",
              "      display:flex;\n",
              "      flex-wrap:wrap;\n",
              "      gap: 12px;\n",
              "    }\n",
              "\n",
              "    .colab-df-convert {\n",
              "      background-color: #E8F0FE;\n",
              "      border: none;\n",
              "      border-radius: 50%;\n",
              "      cursor: pointer;\n",
              "      display: none;\n",
              "      fill: #1967D2;\n",
              "      height: 32px;\n",
              "      padding: 0 0 0 0;\n",
              "      width: 32px;\n",
              "    }\n",
              "\n",
              "    .colab-df-convert:hover {\n",
              "      background-color: #E2EBFA;\n",
              "      box-shadow: 0px 1px 2px rgba(60, 64, 67, 0.3), 0px 1px 3px 1px rgba(60, 64, 67, 0.15);\n",
              "      fill: #174EA6;\n",
              "    }\n",
              "\n",
              "    [theme=dark] .colab-df-convert {\n",
              "      background-color: #3B4455;\n",
              "      fill: #D2E3FC;\n",
              "    }\n",
              "\n",
              "    [theme=dark] .colab-df-convert:hover {\n",
              "      background-color: #434B5C;\n",
              "      box-shadow: 0px 1px 3px 1px rgba(0, 0, 0, 0.15);\n",
              "      filter: drop-shadow(0px 1px 2px rgba(0, 0, 0, 0.3));\n",
              "      fill: #FFFFFF;\n",
              "    }\n",
              "  </style>\n",
              "\n",
              "      <script>\n",
              "        const buttonEl =\n",
              "          document.querySelector('#df-a02fc517-b839-4e24-b8c6-abd4d1ed6e1c button.colab-df-convert');\n",
              "        buttonEl.style.display =\n",
              "          google.colab.kernel.accessAllowed ? 'block' : 'none';\n",
              "\n",
              "        async function convertToInteractive(key) {\n",
              "          const element = document.querySelector('#df-a02fc517-b839-4e24-b8c6-abd4d1ed6e1c');\n",
              "          const dataTable =\n",
              "            await google.colab.kernel.invokeFunction('convertToInteractive',\n",
              "                                                     [key], {});\n",
              "          if (!dataTable) return;\n",
              "\n",
              "          const docLinkHtml = 'Like what you see? Visit the ' +\n",
              "            '<a target=\"_blank\" href=https://colab.research.google.com/notebooks/data_table.ipynb>data table notebook</a>'\n",
              "            + ' to learn more about interactive tables.';\n",
              "          element.innerHTML = '';\n",
              "          dataTable['output_type'] = 'display_data';\n",
              "          await google.colab.output.renderOutput(dataTable, element);\n",
              "          const docLink = document.createElement('div');\n",
              "          docLink.innerHTML = docLinkHtml;\n",
              "          element.appendChild(docLink);\n",
              "        }\n",
              "      </script>\n",
              "    </div>\n",
              "  </div>\n",
              "  "
            ]
          },
          "metadata": {},
          "execution_count": 9
        }
      ],
      "source": [
        "# build KB using the first 20 articles\n",
        "KB = KnowledgeBase(data_v2_clean[:30])\n",
        "\n",
        "# Avoid repeated\n",
        "KB.kb = {} \n",
        "\n",
        "# Manually create dictionary\n",
        "ent_pairs = {\n",
        "    1: {'canonical': \"COVID-19\",  'relation':\"is\", 'associated':[\"covid19\",\"covid\",\"SARS-CoV-2\", \"COVD-19\", \"coronavirus\"]},\n",
        "    2: {'canonical': \"coronavirus\",  'relation':\"is\", 'associated':[\"covid19\",\"covid\",\"COVID-19\", \"COVD-19\", \"SARS-CoV-2\"]},\n",
        "    3: {'canonical': \"mask\",  'relation':\"is\", 'associated':[\"face mask\",\"P2 mask\"]},\n",
        "}\n",
        "\n",
        "# Add dictionary to kb\n",
        "for k in ent_pairs.keys():\n",
        "    KB.manually_build_kb(ent_pairs[k])\n",
        "\n",
        "# Visulization of kb\n",
        "# Relationships are described correctly and the objects are expected\n",
        "kg_df = KB.df_plot()\n",
        "kg_df.head()"
      ]
    },
    {
      "cell_type": "code",
      "execution_count": null,
      "id": "KWKAaGhnztD_",
      "metadata": {
        "colab": {
          "base_uri": "https://localhost:8080/"
        },
        "id": "KWKAaGhnztD_",
        "outputId": "bc144cf0-00fb-44dd-b3ab-46b8605bd00f"
      },
      "outputs": [
        {
          "data": {
            "text/plain": [
              "['covid19', 'covid', 'SARS-CoV-2', 'COVD-19', 'coronavirus']"
            ]
          },
          "execution_count": 7,
          "metadata": {},
          "output_type": "execute_result"
        }
      ],
      "source": [
        "# test accuracy of manaully create KB \n",
        "KB.search(\"COVID-19\")"
      ]
    },
    {
      "cell_type": "code",
      "execution_count": null,
      "id": "-AufDi-yJK1y",
      "metadata": {
        "colab": {
          "base_uri": "https://localhost:8080/",
          "height": 406
        },
        "id": "-AufDi-yJK1y",
        "outputId": "834b4acb-69dd-4d6b-914d-c769386e125e"
      },
      "outputs": [
        {
          "data": {
            "image/png": "[encoded data removed]",
            "text/plain": [
              "<Figure size 640x480 with 1 Axes>"
            ]
          },
          "metadata": {},
          "output_type": "display_data"
        }
      ],
      "source": [
        "# KB knowledge_graph\n",
        "# It is clear to see the associated names for cannonical name\n",
        "KB.knowledge_graph()"
      ]
    },
    {
      "cell_type": "markdown",
      "id": "333cefa8",
      "metadata": {
        "id": "333cefa8"
      },
      "source": [
        "### 3. Indexing method"
      ]
    },
    {
      "cell_type": "markdown",
      "id": "XcwiuHjRNRwu",
      "metadata": {
        "id": "XcwiuHjRNRwu"
      },
      "source": [
        "#### 3.1 summary\n",
        "Our **InvertedIndex** function use Named Entity as index.\n",
        "\n",
        "First, it will perfrom a quick search for all the Named Entity based on NER dictionary / entities (in Section 2.2). If we found the query Named Entity in entities, docs_index list will add the related docid according to entities dictionary.\n",
        "\n",
        "Then, if it cannot be found in entities dictionary, we will perform a greedy search based on the content of all the articles. If we found the query Named Entity exsiting in a article, docs_index list will add the related docid. This is used to handle some special cases, such as \"coronavirus\".\n",
        "\n",
        "Finally, we return a docs_index list.\n",
        "\n",
        "P.S. Code in Section 3.2 Inverted indexing method"
      ]
    },
    {
      "cell_type": "markdown",
      "id": "O0r-Z3n5NUM2",
      "metadata": {
        "id": "O0r-Z3n5NUM2"
      },
      "source": [
        "#### 3.2 Inverted indexing method"
      ]
    },
    {
      "cell_type": "code",
      "execution_count": 10,
      "id": "5WMWgNI0Jj25",
      "metadata": {
        "id": "5WMWgNI0Jj25"
      },
      "outputs": [],
      "source": [
        "def InvertedIndex(query, ent_dic, data):\n",
        "    \"\"\"\n",
        "    Retrieve a set of documents containing the given query term\n",
        "    Input:\n",
        "    query -> one word representing the query term\n",
        "    ent_dic -> control the range of entities\n",
        "    data -> control the size of data\n",
        "    output:\n",
        "    doc_index -> list of document IDs\n",
        "    \"\"\"\n",
        "    # empty dictionary to store a set of documents\n",
        "    docs_index = []\n",
        "\n",
        "    # Retrieve the set of documents containing each query term\n",
        "    # k: docid; v: name entities and labels\n",
        "    for k, v in ent_dic.items():\n",
        "      # if doc_id not in docs_index list\n",
        "      if k not in docs_index:\n",
        "          if v != []:\n",
        "              for i in v[0]['text'].split():\n",
        "                if query == i:\n",
        "                  docs_index.append(k)\n",
        "\n",
        "    # In case cannot find the named_entities, use query to match text\n",
        "    if docs_index == []:\n",
        "        for i in range(data.shape[0]):\n",
        "          if query in data['body'][i]:\n",
        "              id = data['docid'][i]\n",
        "              if id not in docs_index:\n",
        "                docs_index.append(id)\n",
        "    return docs_index"
      ]
    },
    {
      "cell_type": "code",
      "execution_count": null,
      "id": "qjRRQ9GrJrZw",
      "metadata": {
        "colab": {
          "base_uri": "https://localhost:8080/"
        },
        "id": "qjRRQ9GrJrZw",
        "outputId": "6fa8803f-ad3c-4a7e-e7eb-9b82fff1ecc3"
      },
      "outputs": [
        {
          "name": "stdout",
          "output_type": "stream",
          "text": [
            "Search for documents containing \"COVID-19\", result:\n",
            " ['qk0cyee2', 'ymebxodh', '4kfyevgg', 'om1airzt', 'ffsjv82v', 'qd30tmuy']\n"
          ]
        }
      ],
      "source": [
        "# Create an inverted index\n",
        "# Search for documents containing \"COVID-19\"\n",
        "result = InvertedIndex(\"COVID-19\", entities_100, data_v2_clean[:100])\n",
        "print('Search for documents containing \"COVID-19\", result:\\n', result)"
      ]
    },
    {
      "cell_type": "markdown",
      "id": "067cebcf",
      "metadata": {
        "id": "067cebcf"
      },
      "source": [
        "### 4. Text matching utility"
      ]
    },
    {
      "cell_type": "markdown",
      "id": "AvNQ2iFQUFzd",
      "metadata": {
        "id": "AvNQ2iFQUFzd"
      },
      "source": [
        "#### 4.1 Summary\n",
        "Our **text_matching_utility class**  retrieves articles based on a question (in Section 4.2). \n",
        "\n",
        "Our main function is **text_matching** function (in Section 4.2). Process:\n",
        "\n",
        "1.   First, we pre-process the question by removing stopwords and lemmization by **query_preprocessing** function.\n",
        "2.   After we identify named entities in question, we use question named entities by using **get_article_ids** funtion (using **InvertedIndex method** inside function) to find related article ids. Use **KB** to provide a supplement (giving associated name) to named entities in query and get article ids by **get_article_ids** funtion again. \n",
        "3. If no article ids, print \"\"Sorry, no answer for this question.\" and return. \n",
        "4. If we get article ids, we use **get_topk_answers** function to get top k article id, top k answers (first using similarity score to compare question and possible articles, then calculate similarity score between question and each sentence in one article and get best sentence), and cosine similarity score (compare question and best sentence).\n",
        "\n",
        "NER and KB is useful for my task:\n",
        "\n",
        "*   Combination of NER and Inverted Index method helps to find article ids efficiently. We only compare question and those articles including named entities rather than all articles. \n",
        "*   Using KB as a supplement to find associated named entities for query will help to increase the accuracy of retrieval. Also, 'relation' of named entities will help to find the best answer (this will be explored in the future). \n",
        "\n",
        "Pretrained Word Vectors model:\n",
        "\n",
        "*   At the Begining, we considered Word2Vec and GloVe. After research, we found that GloVe may be better suited for tasks that require a more holistic understanding of language and the relationships between words, which will help us to find a better answer [5][6]. And Word2Vec may be better suited for tasks that require more precise word-level associations. We decide to use GolVe but it's embedding dictionary does not include word such as \"COVID-19\". (in section 4.5.1)\n",
        "*   Therefore, we tried tf-idf (in section 4.3) and spaCy pretrain word vector model (in section 4.4). Result discussion in section 4.5.\n",
        "\n",
        "\n",
        "\n",
        "\n",
        "\n",
        "  "
      ]
    },
    {
      "cell_type": "markdown",
      "id": "69E2I0PrsBCx",
      "metadata": {
        "id": "69E2I0PrsBCx"
      },
      "source": [
        "#### 4.2 word embedding class"
      ]
    },
    {
      "cell_type": "code",
      "execution_count": null,
      "id": "zl3I-HVlsAEB",
      "metadata": {
        "id": "zl3I-HVlsAEB"
      },
      "outputs": [],
      "source": [
        "# This part of code is (based on) from ref[12], ref[13], and ref[14]\n",
        "\n",
        "class word_to_vector:\n",
        "    def __init__(self, prepro_text:list, w2v_path=None):\n",
        "        self.prepro_text = prepro_text\n",
        "        self.w2v_path = w2v_path\n",
        "        self.model = None\n",
        "        self.keyedvector = None\n",
        "        if not os.path.isfile(os.path.join(self.w2v_path, 'word2vec_100ep_sg.model')) or not os.path.isfile(os.path.join(self.w2v_path, 'vector_100ep_sg.kv')):\n",
        "            self.train()\n",
        "        else:\n",
        "            self.model = Word2Vec.load(os.path.join(self.w2v_path, 'word2vec_100ep_sg.model'))\n",
        "            self.keyedvector = KeyedVectors.load(os.path.join(self.w2v_path, 'vector_100ep_sg.kv'))\n",
        "            print('Config Loaded')\n",
        "\n",
        "    def train(self, epochs=20):\n",
        "        tokenized_corpus = [word_tokenize(text) for text in self.prepro_text]\n",
        "        self.model = Word2Vec(tokenized_corpus, vector_size=100, window=5, min_count=5, sg = 1) ## sg = 1 to skip-gram, change if needed\n",
        "        # self.model.build_vocab()\n",
        "        print(\"start training\")\n",
        "        self.model.train(tokenized_corpus, total_examples=len(tokenized_corpus), epochs=epochs)\n",
        "        print(\"finished training\")\n",
        "        self.model.save(os.path.join(self.w2v_path, 'word2vec_100ep_sg.model'))\n",
        "        self.model.wv.save(os.path.join(self.w2v_path, 'vector_100ep_sg.kv'))\n",
        "        self.keyedvector = self.model.wv\n",
        "    def get_model(self):\n",
        "        return self.model\n",
        "    def get_w2v(self):\n",
        "        return self.model.wv\n",
        "    def get_keyedVector(self):\n",
        "        return self.keyedvector\n",
        "    def transform(self, sentence_token):\n",
        "        temp = sentence_token\n",
        "        res = []\n",
        "        for word in temp:\n",
        "            if word in self.get_w2v():\n",
        "              res.append(self.keyedvector[word])\n",
        "        if len(res) == 0:\n",
        "          return np.zeros(self.model.vector_size)\n",
        "        return np.mean(res, axis=0)"
      ]
    },
    {
      "cell_type": "code",
      "execution_count": null,
      "id": "Qc-ahzwNsrfQ",
      "metadata": {
        "colab": {
          "base_uri": "https://localhost:8080/"
        },
        "id": "Qc-ahzwNsrfQ",
        "outputId": "34602447-d488-4590-e495-82d5d93374bb"
      },
      "outputs": [
        {
          "name": "stdout",
          "output_type": "stream",
          "text": [
            "Config Loaded\n"
          ]
        }
      ],
      "source": [
        "w2v_path = \"/content/drive/My Drive/NLP/\"\n",
        "covid_w2v_model = word_to_vector(prepro_text = data_v2_clean['body'].tolist(), w2v_path=w2v_path)"
      ]
    },
    {
      "cell_type": "code",
      "execution_count": null,
      "id": "XRL2T1yvsvvA",
      "metadata": {
        "id": "XRL2T1yvsvvA"
      },
      "outputs": [],
      "source": [
        "# This part of code is from ref[12] and ref[13]\n",
        "class google_w2v:\n",
        "  def __init__(self, w2v_path):\n",
        "      self.path = w2v_path\n",
        "      self.model = KeyedVectors.load_word2vec_format(datapath(self.path), binary=True)  # C bin format\n",
        "      \n",
        "  def transform(self, sentence_token):\n",
        "      temp = sentence_token\n",
        "      res = []\n",
        "      for word in temp:\n",
        "          if word in self.model:\n",
        "            res.append(self.model[word])\n",
        "      if len(res) == 0:\n",
        "        return np.zeros(self.model.vector_size)\n",
        "      return np.mean(res, axis=0)"
      ]
    },
    {
      "cell_type": "code",
      "execution_count": null,
      "id": "kMoEETGksyzw",
      "metadata": {
        "id": "kMoEETGksyzw"
      },
      "outputs": [],
      "source": [
        "pretrain_w2v_path = \"/content/drive/My Drive/NLP/GoogleNews-vectors-negative300.bin\"\n",
        "google_w2v_model = google_w2v(pretrain_w2v_path)"
      ]
    },
    {
      "cell_type": "markdown",
      "id": "2a82fbc6",
      "metadata": {
        "id": "2a82fbc6"
      },
      "source": [
        "#### 4.3 Text matching utility class"
      ]
    },
    {
      "cell_type": "code",
      "execution_count": 11,
      "id": "tNoFwoGOjMFo",
      "metadata": {
        "id": "tNoFwoGOjMFo"
      },
      "outputs": [],
      "source": [
        "class text_matching_utility():\n",
        "    def __init__(self, entities, dataset, kb):\n",
        "        self.ner = entities              # named entity recognition result\n",
        "        self.data = dataset              # dataset\n",
        "        self.kb = kb                     # Knowledge Base\n",
        "\n",
        "\n",
        "    def query_preprocessing(self, query):\n",
        "        # regular expression to match text patterns\n",
        "        s = \" \\[(?=.*\\d).*?\\]\" \n",
        "\n",
        "        # Removing stopwords + Lemmalization\n",
        "        # Stop words are common words that are typically removed from text data before analysis.\n",
        "        # Lemmatization is the process of reducing a word to its base form, known as its lemma. \n",
        "        stop_words = stopwords.words('english')\n",
        "        stop_words.extend([\"This\", \"The\", \"the\"])\n",
        "        lemmatizer = WordNetLemmatizer()\n",
        "        result = [lemmatizer.lemmatize(word) for word in re.sub(s, \"\", query).split() if word not in stop_words]\n",
        "        return result\n",
        "\n",
        "    def fast_article_retrieval(self, query):\n",
        "        \"\"\"\n",
        "        Use NER, KB, InvertedIndex method to get article ids\n",
        "        \"\"\"\n",
        "        # create a empty list to store article ids\n",
        "        article_ids = []\n",
        "\n",
        "        # Step 1: Use NER to identify named entities in the question\n",
        "        # 1) get named entities\n",
        "        query_ents = [ent.text.strip() for ent in nlp(\" \".join(query)).ents]\n",
        "\n",
        "        # Step 2: Use InvertedIndex method and NER to get ariticle IDs\n",
        "        # 1) if named entities found in the question using NER        \n",
        "        for i in query_ents:\n",
        "            article_ids.extend(InvertedIndex(i, self.ner, self.data))\n",
        "\n",
        "        # Step 3: If NER fails, use KB as supplement to find associated name of name entities in the question\n",
        "        if article_ids == []:\n",
        "            for word in query:\n",
        "                lst = self.kb.search(word)  # use KnowledgeBase function\n",
        "                for i in lst:\n",
        "                  article_ids.extend(InvertedIndex(i, self.ner, self.data)) \n",
        "\n",
        "        # Step 4: If NER and KB fail, use a trival solution to use every word in query to find article id if NER and KB fail\n",
        "        if article_ids == []:\n",
        "          for word in query:\n",
        "              article_ids.extend(InvertedIndex(word, self.ner, self.data))\n",
        "\n",
        "        # remove repeated article_ids\n",
        "        article_ids = list(set(article_ids))\n",
        "        return article_ids\n",
        "\n",
        "    def slow_article_retrieval(self, query):\n",
        "        \"\"\"\n",
        "        Use NER, KB, InvertedIndex method to get article ids\n",
        "        \"\"\"\n",
        "        # create a empty list to store article ids\n",
        "        article_ids = []\n",
        "\n",
        "        # Step 1: Use NER to identify named entities in the question\n",
        "        # 1) get named entities\n",
        "        query_ents = [ent.text.strip() for ent in nlp(\" \".join(query)).ents]\n",
        "\n",
        "        # Step 2: Use InvertedIndex method and NER to get ariticle IDs\n",
        "        # 1) if named entities found in the question using NER        \n",
        "        for i in query_ents:\n",
        "              article_ids.extend(InvertedIndex(i, self.ner, self.data))\n",
        "\n",
        "        # Step 3: Use KB as supplement to find associated name of name entities in the question\n",
        "        for word in query:\n",
        "            lst = self.kb.search(word)  # use KnowledgeBase function\n",
        "            for i in lst:\n",
        "              article_ids.extend(InvertedIndex(i, self.ner, self.data))\n",
        "      \n",
        "        # Step 4: If NER and KB fail, use a trival solution to use every word in query to find article id if NER and KB fail\n",
        "        if article_ids == []:\n",
        "            for word in query:\n",
        "              article_ids.extend(InvertedIndex(word, self.ner, self.data))\n",
        "\n",
        "        # remove repeated article_ids\n",
        "        article_ids = list(set(article_ids))\n",
        "\n",
        "        return article_ids\n",
        "\n",
        "\n",
        "    def tf_idf_score(self, query, articles, word_vector):\n",
        "        \"\"\"\n",
        "        Use TfidfVectorizer() to convert the text into a matrix of TF-IDF features.\n",
        "        Input:\n",
        "        query -> a list of query words\n",
        "        articles -> a list of strings\n",
        "        word_vector -> two word_vectors: one is \"normal_tfidf\", another is \"pattern_tfidf\"\n",
        "        Ouput:\n",
        "        Return tf-idf similarity score.\n",
        "        \"\"\"\n",
        "        # if method == \"normal_tfidf\", query does not need to change\n",
        "        # if method == \"pattern_tfidf\", query becomes a list of query string\n",
        "        if word_vector == \"pattern_tfidf\":\n",
        "          query = [\" \".join(query)]\n",
        " \n",
        "        vectorizer = TfidfVectorizer()\n",
        "        # convert to word vector\n",
        "        articles_wv = vectorizer.fit_transform(articles)\n",
        "        # convert to word vector\n",
        "        query_wv = vectorizer.transform(query)\n",
        "        # calculate similarity\n",
        "        similarities = cosine_similarity(query_wv, articles_wv)[0]\n",
        "        return similarities\n",
        "\n",
        "    def w2v_score(self,query, articles, word_vector):\n",
        "        \"\"\"\n",
        "        Use pretrained word2vec to convert text into word vectors.\n",
        "        One is \"covid_w2v\", another is \"googleNews_w2v\".\n",
        "        Return word2vec similarity score.\n",
        "        \"\"\"\n",
        "        w2v_model = None\n",
        "        if word_vector == \"covid_w2v\":\n",
        "           w2v_model = covid_w2v_model\n",
        "        elif word_vector == \"googleNews_w2v\":\n",
        "           w2v_model = google_w2v_model\n",
        "        elif word_vector == \"glove\":\n",
        "          w2v_model = glove_w2v_model\n",
        "\n",
        "        # convert to word vector\n",
        "        query_wv = w2v_model.transform(query)\n",
        "        # convert to word vector\n",
        "        articles_token = [word_tokenize(article) for article in articles]\n",
        "        articles_wv = [w2v_model.transform(article) for article in articles_token]\n",
        "        # calculate similarity\n",
        "        similarities = cosine_similarity([query_wv], articles_wv)[0]\n",
        "        return similarities\n",
        "    \n",
        "    def get_best_sentence(self, query, article, article_id, word_vector):\n",
        "        \"\"\"\n",
        "        Get the best sentence in one article for a query. \n",
        "        Based on cosine similarity score between query and sentences.\n",
        "        \"\"\"\n",
        "        # convert to text into sentences\n",
        "        sentences_clean = tokenize.sent_tokenize(article)\n",
        "\n",
        "        # calculate similarity\n",
        "        # Step 3: select different method according to word_vector\n",
        "        # Then, get cosine similarity between question and sentences\n",
        "        if word_vector == \"normal_tfidf\":\n",
        "          similarities = self.tf_idf_score(query, sentences_clean, word_vector)\n",
        "        elif word_vector == \"pattern_tfidf\":\n",
        "           similarities = self.tf_idf_score(query, sentences_clean, word_vector)\n",
        "        elif word_vector == \"covid_w2v\":\n",
        "           similarities = self.w2v_score(query, sentences_clean, word_vector)\n",
        "        elif word_vector == \"googleNews_w2v\":\n",
        "          similarities = self.w2v_score(query, sentences_clean, word_vector)\n",
        "        elif word_vector == \"glove\":\n",
        "          similarities = self.w2v_score(query, sentences_clean, word_vector)\n",
        "\n",
        "        # get the maximum score index position\n",
        "        best_idx = np.array(similarities).argmax()\n",
        "        # get the best score\n",
        "        best_score = max(similarities)\n",
        "        # get original data\n",
        "        for j in range(len(self.data['docid'])):\n",
        "              if self.data['docid'][j] == article_id:\n",
        "                  body = self.data['body'][j]\n",
        "        sentences_body = tokenize.sent_tokenize(body)\n",
        "        answer = sentences_body[best_idx]\n",
        "        return answer,best_score\n",
        "        \n",
        "\n",
        "    def get_topk_answers(self, query, article_ids, k, word_vector):\n",
        "        \"\"\"\n",
        "        Calculate similarity score of matching with the question.\n",
        "        Get the answer from articles.\n",
        "        Return top k result based on similarity score\n",
        "        \"\"\"\n",
        "        # Step 1: creat a  empty DataFrame  \n",
        "        answer_score_df = pd.DataFrame()\n",
        "        # store article ids\n",
        "        answer_score_df['Docid'] = article_ids       \n",
        "\n",
        "        # Step 2: get articles based on ids\n",
        "        articles = []\n",
        "        body = []\n",
        "        answers = []\n",
        "        for i in article_ids:\n",
        "            for j in range(len(self.data['docid'])):\n",
        "              if self.data['docid'][j] == i:\n",
        "                articles.append(self.data['clean'][j])\n",
        "                body.append(self.data['body'][j])\n",
        "        answer_score_df['Articles'] = articles\n",
        "        answer_score_df['Article_body'] = body\n",
        "        # answer_score_df['Answer'] = answers\n",
        "\n",
        "        # Step 3: select different method according to word_vector\n",
        "        # Then, get cosine similarity between question and articles\n",
        "        similarities = None\n",
        "        if word_vector == \"normal_tfidf\":\n",
        "          similarities = self.tf_idf_score(query, articles, word_vector)\n",
        "        elif word_vector == \"pattern_tfidf\":\n",
        "           similarities = self.tf_idf_score(query, articles, word_vector)\n",
        "        elif word_vector == \"covid_w2v\":\n",
        "           similarities = self.w2v_score(query, articles, word_vector)\n",
        "        elif word_vector == \"googleNews_w2v\":\n",
        "          similarities = self.w2v_score(query, articles, word_vector)\n",
        "        elif word_vector == \"glove\":\n",
        "          similarities = self.w2v_score(query, articles, word_vector)\n",
        "\n",
        "        # store similarity socre\n",
        "        answer_score_df['Article_Score'] = similarities\n",
        "\n",
        "        # Step 4: sort the articles by their similarity scores and get the top results\n",
        "        # This part of code is from ref [7]\n",
        "        answer_score_df2 = answer_score_df.sort_values(by='Article_Score', ascending=False)[:k]\n",
        "\n",
        "        # Step 5: select the best answer sentence in the top k articles\n",
        "        answer_list = []\n",
        "        scores = []\n",
        "        cnt = 0\n",
        "        for index, row in answer_score_df2.iterrows():  \n",
        "            article = row['Articles']\n",
        "            article_id = row['Docid']\n",
        "            answer, best_score = self.get_best_sentence(query, article, article_id, word_vector)\n",
        "            answer_list.append(answer)\n",
        "            scores.append(best_score)\n",
        "            cnt += 1\n",
        "            if cnt == k:\n",
        "              break\n",
        "        answer_score_df2['Answer'] = answer_list\n",
        "        answer_score_df2['Score'] = scores\n",
        "\n",
        "        # Step 6: sort the best answer according to sentence score\n",
        "        answer_score_final = answer_score_df2.sort_values(by='Score', ascending=False)[:k]\n",
        "\n",
        "        return answer_score_final\n",
        "    \n",
        "\n",
        "    def text_matching(self, question, k, word_vector,speed=\"fast\"):\n",
        "        \"\"\"\n",
        "        A function for text matching.\n",
        "        Input:\n",
        "        question ->  a string of one question\n",
        "        k -> number of top results, default is 3\n",
        "        word_vector -> word embedding method, default is \"normal_tfidf\"\n",
        "        \"\"\"\n",
        "\n",
        "        # Step 1: Question pre-processing\n",
        "        query = self.query_preprocessing(question)\n",
        "\n",
        "        # Step 2: Use NER, KB, InvertedIndex method to find article ids\n",
        "        article_ids = []\n",
        "        if speed == \"fast\":\n",
        "            article_ids = self.fast_article_retrieval(query)\n",
        "        elif speed == \"slow\":\n",
        "            article_ids = self.slow_article_retrieval(query)\n",
        "\n",
        "        # Step 3: Check article_ids\n",
        "        # If article_ids is empty, finish the function \n",
        "        if article_ids == []:\n",
        "           print(\"Sorry, no answer for this question.\")\n",
        "           return None\n",
        "\n",
        "        # Else: Article_ids is not empty, go through step 4\n",
        "        # Step 4: Get top k articles answer and score   \n",
        "        top_results = self.get_topk_answers(query, article_ids, k , word_vector)\n",
        "        \n",
        "        return top_results\n",
        "\n",
        "\n",
        "    def display_results(self, top_results, ): \n",
        "        \"\"\"\n",
        "        Funtion to display results only when results is not None.\n",
        "        \"\"\"\n",
        "        if top_results is not None:  \n",
        "            print(\"_\"*50+\"\\n\")\n",
        "            for index, row in top_results.iterrows():\n",
        "                print(\"[Article id]:\", row['Docid'])  \n",
        "                print(\"[Answer]:\\n\", row['Answer'])\n",
        "                print(\"[Score]:\", row['Score'],\"\\n\")\n",
        "            \n",
        "        return None"
      ]
    },
    {
      "cell_type": "markdown",
      "id": "IYMCRw0NtHJH",
      "metadata": {
        "id": "IYMCRw0NtHJH"
      },
      "source": [
        "#### 4.4 Word Embedding Results"
      ]
    },
    {
      "cell_type": "markdown",
      "id": "MsAjFaNGWAdU",
      "metadata": {
        "id": "MsAjFaNGWAdU"
      },
      "source": [
        "##### 4.4.1 Using tf-idf word vector for text matching"
      ]
    },
    {
      "cell_type": "code",
      "execution_count": null,
      "id": "FjRdkYe5lLFJ",
      "metadata": {
        "id": "FjRdkYe5lLFJ"
      },
      "outputs": [],
      "source": [
        "# call the class\n",
        "matching = text_matching_utility(entities_100, data_v2_clean[:100], KB)"
      ]
    },
    {
      "cell_type": "code",
      "execution_count": null,
      "id": "WKg6sB_Vyurg",
      "metadata": {
        "colab": {
          "base_uri": "https://localhost:8080/"
        },
        "id": "WKg6sB_Vyurg",
        "outputId": "623a7362-3f1d-4c9d-921f-836deb4f75b7"
      },
      "outputs": [
        {
          "name": "stdout",
          "output_type": "stream",
          "text": [
            "Name ents : []\n",
            "Question:  how to use face mask\n",
            "__________________________________________________\n",
            "\n",
            "[Article id]: fp5t9w6e\n",
            "[Answer]:\n",
            " According to US Centers for Disease Control guidelines for use of PPE in US hospitals [11], both N-95 filtering facemask respirators and powered air-purifying respirators should be accompanied by the use of a full-face shield, helmet, or headpiece.\n",
            "[Score]: 0.32567822293142595 \n",
            "\n",
            "[Article id]: hm0ovsq4\n",
            "[Answer]:\n",
            " In 2019, SARS-CoV-2, a highly contagious and novel coronavirus was identified where each infected case infected an average of three other people.1\n",
            ",\n",
            "2 As of September 26, 2021, 5,519,728 patients with COVID-19 have been identified in Iran, of which 119,082 deaths have been attributed to the virus.\n",
            "[Score]: 0.0 \n",
            "\n"
          ]
        }
      ],
      "source": [
        "# question for text matching\n",
        "question = \"how to use face mask\"\n",
        "result = matching.text_matching(question, k=5, word_vector=\"normal_tfidf\")\n",
        "print(\"Question: \",question)\n",
        "matching.display_results(result)"
      ]
    },
    {
      "cell_type": "code",
      "execution_count": null,
      "id": "NejCb4DnQil5",
      "metadata": {
        "colab": {
          "base_uri": "https://localhost:8080/"
        },
        "id": "NejCb4DnQil5",
        "outputId": "27b85423-a8c7-4592-ac27-13702b7ecd34"
      },
      "outputs": [
        {
          "name": "stdout",
          "output_type": "stream",
          "text": [
            "Name ents : []\n",
            "Question:  what is COVID-19\n",
            "__________________________________________________\n",
            "\n",
            "[Article id]: 3mj2d8l2\n",
            "[Answer]:\n",
            " Patients suspected of COVID-19 are placed into COVID-19 cohort areas, exposing them to COVID-19 when they may actually be negative for the disease.\n",
            "[Score]: 0.5669232216563211 \n",
            "\n",
            "[Article id]: x8w05pze\n",
            "[Answer]:\n",
            " Almost 30% of patients with confirmed COVID-19 were found to have evidence of myocardial injury and COVID-19 related cardiomyopathy [4, 5].\n",
            "[Score]: 0.44659534259064365 \n",
            "\n",
            "[Article id]: 10409mar\n",
            "[Answer]:\n",
            " The effect of immunosuppression on COVID-19 progression would be dependent on the severity of COVID-19 disease and the phase of graft rejection.\n",
            "[Score]: 0.41788885917814034 \n",
            "\n",
            "[Article id]: ala3zf7w\n",
            "[Answer]:\n",
            " During the first wave of COVID-19, there were no effective antiviral drugs or vaccines against COVID-19 [21,22].\n",
            "[Score]: 0.40319129231479467 \n",
            "\n",
            "[Article id]: hg8n4hxv\n",
            "[Answer]:\n",
            " In December 2019, an outbreak of a new coronavirus infection by SARS-COV-2 in China had quickly become a global health emergency, causing coronavirus disease-19 (COVID-19).1 The current treatment of COVID-19 is mainly supportive, and no specific antiviral therapy is available.2 Patients under immunosuppressive treatment are easy prey for COVID-19.3 The Coronaviridae family is a single-stranded RNA genome.\n",
            "[Score]: 0.38272762343936984 \n",
            "\n"
          ]
        }
      ],
      "source": [
        "# question for text matching\n",
        "question = \"what is COVID-19\"\n",
        "result = matching.text_matching(question, k=5,word_vector=\"normal_tfidf\")\n",
        "print(\"Question: \",question)\n",
        "matching.display_results(result)                  "
      ]
    },
    {
      "cell_type": "code",
      "execution_count": null,
      "id": "8fLixTCF-zBH",
      "metadata": {
        "colab": {
          "base_uri": "https://localhost:8080/"
        },
        "id": "8fLixTCF-zBH",
        "outputId": "6f8ca83c-b5df-4df4-fe3c-12a36186bf3c"
      },
      "outputs": [
        {
          "name": "stdout",
          "output_type": "stream",
          "text": [
            "Name ents : []\n",
            "Question:  What are the names of coronavirus variants\n",
            "__________________________________________________\n",
            "\n",
            "[Article id]: 0n0vbax3\n",
            "[Answer]:\n",
            " Vaccine related thrombo-embolic (TE) complications, though rare, have been reported with COVID-19 vaccines, mainly from Europe and North America.\n",
            "[Score]: 0.599550586746604 \n",
            "\n",
            "[Article id]: ffsjv82v\n",
            "[Answer]:\n",
            " Therefore, it could be concluded that similar to LA, calcitriol can fulfill two requirements in order to change Apo form to Locked S form.\n",
            "[Score]: 0.2415348596473843 \n",
            "\n",
            "[Article id]: om1airzt\n",
            "[Answer]:\n",
            " The COVID-19 pandemic is in transition.\n",
            "[Score]: 0.0 \n",
            "\n",
            "[Article id]: r9c4odva\n",
            "[Answer]:\n",
            " Although initially associated with severe acute respiratory syndrome, the disease spectrum associated with severe acute respiratory syndrome coronavirus 2 (SARS-CoV-2) has been recognized to exhibit extrapulmonary manifestations.\n",
            "[Score]: 0.0 \n",
            "\n",
            "[Article id]: xeqdknea\n",
            "[Answer]:\n",
            " Biologically plausible routes of perinatal SARS-CoV-2 transmission include transplacental, contact with infected secretions during delivery and with respiratory droplets after delivery, and breast milk.\n",
            "[Score]: 0.0 \n",
            "\n"
          ]
        }
      ],
      "source": [
        "# question for text matching\n",
        "question = \"What are the names of coronavirus variants\"\n",
        "result = matching.text_matching(question, k=5,word_vector=\"normal_tfidf\")\n",
        "print(\"Question: \",question)\n",
        "matching.display_results(result)    "
      ]
    },
    {
      "cell_type": "markdown",
      "id": "1ARzHDWItcM4",
      "metadata": {
        "id": "1ARzHDWItcM4"
      },
      "source": [
        "##### 4.4.2 Using pattern-tf-idf word vector for text matching"
      ]
    },
    {
      "cell_type": "code",
      "execution_count": null,
      "id": "AfrBLCLRtgzZ",
      "metadata": {
        "id": "AfrBLCLRtgzZ"
      },
      "outputs": [],
      "source": [
        "# call the class\n",
        "matching = text_matching_utility(entities_100, data_v2_clean[:100], KB)"
      ]
    },
    {
      "cell_type": "code",
      "execution_count": null,
      "id": "NT4_YA6GtiXg",
      "metadata": {
        "colab": {
          "base_uri": "https://localhost:8080/"
        },
        "id": "NT4_YA6GtiXg",
        "outputId": "a13a2dbc-5fc8-4ff5-ff7b-5522d9d3511b"
      },
      "outputs": [
        {
          "name": "stdout",
          "output_type": "stream",
          "text": [
            "Name ents : []\n",
            "Question:  how to use face mask\n",
            "__________________________________________________\n",
            "\n",
            "[Article id]: hm0ovsq4\n",
            "[Answer]:\n",
            " Vaccination, social distancing, hand hygiene, and face masks are among the common measures to contain the pandemic.5 The clinical manifestation of the disease is often mild and the disease is usually self-limited.\n",
            "[Score]: 0.3293123252322099 \n",
            "\n",
            "[Article id]: fp5t9w6e\n",
            "[Answer]:\n",
            " According to US Centers for Disease Control guidelines for use of PPE in US hospitals [11], both N-95 filtering facemask respirators and powered air-purifying respirators should be accompanied by the use of a full-face shield, helmet, or headpiece.\n",
            "[Score]: 0.27208656020503585 \n",
            "\n"
          ]
        }
      ],
      "source": [
        "# question for text matching\n",
        "question = \"how to use face mask\"\n",
        "result = matching.text_matching(question, k=5, word_vector=\"pattern_tfidf\")\n",
        "print(\"Question: \",question)\n",
        "matching.display_results(result)"
      ]
    },
    {
      "cell_type": "code",
      "execution_count": null,
      "id": "TXSZmOpltlxw",
      "metadata": {
        "colab": {
          "base_uri": "https://localhost:8080/"
        },
        "id": "TXSZmOpltlxw",
        "outputId": "2d63d5ba-afa6-4317-d0e9-8a73bb6e4848"
      },
      "outputs": [
        {
          "name": "stdout",
          "output_type": "stream",
          "text": [
            "Name ents : []\n",
            "Question:  what is COVID-19\n",
            "__________________________________________________\n",
            "\n",
            "[Article id]: 3mj2d8l2\n",
            "[Answer]:\n",
            " Patients suspected of COVID-19 are placed into COVID-19 cohort areas, exposing them to COVID-19 when they may actually be negative for the disease.\n",
            "[Score]: 0.5669232216563211 \n",
            "\n",
            "[Article id]: x8w05pze\n",
            "[Answer]:\n",
            " Almost 30% of patients with confirmed COVID-19 were found to have evidence of myocardial injury and COVID-19 related cardiomyopathy [4, 5].\n",
            "[Score]: 0.44659534259064365 \n",
            "\n",
            "[Article id]: 10409mar\n",
            "[Answer]:\n",
            " The effect of immunosuppression on COVID-19 progression would be dependent on the severity of COVID-19 disease and the phase of graft rejection.\n",
            "[Score]: 0.41788885917814034 \n",
            "\n",
            "[Article id]: ala3zf7w\n",
            "[Answer]:\n",
            " During the first wave of COVID-19, there were no effective antiviral drugs or vaccines against COVID-19 [21,22].\n",
            "[Score]: 0.40319129231479467 \n",
            "\n",
            "[Article id]: hg8n4hxv\n",
            "[Answer]:\n",
            " In December 2019, an outbreak of a new coronavirus infection by SARS-COV-2 in China had quickly become a global health emergency, causing coronavirus disease-19 (COVID-19).1 The current treatment of COVID-19 is mainly supportive, and no specific antiviral therapy is available.2 Patients under immunosuppressive treatment are easy prey for COVID-19.3 The Coronaviridae family is a single-stranded RNA genome.\n",
            "[Score]: 0.38272762343936984 \n",
            "\n"
          ]
        }
      ],
      "source": [
        "# question for text matching\n",
        "question = \"what is COVID-19\"\n",
        "result = matching.text_matching(question, k=5,word_vector=\"pattern_tfidf\")\n",
        "print(\"Question: \",question)\n",
        "matching.display_results(result)             "
      ]
    },
    {
      "cell_type": "code",
      "execution_count": null,
      "id": "-lkfAH0BtnFQ",
      "metadata": {
        "colab": {
          "base_uri": "https://localhost:8080/"
        },
        "id": "-lkfAH0BtnFQ",
        "outputId": "0c011d72-9474-4633-c043-66ab676e5711"
      },
      "outputs": [
        {
          "name": "stdout",
          "output_type": "stream",
          "text": [
            "Name ents : []\n",
            "Question:  What are the names of coronavirus variants\n",
            "__________________________________________________\n",
            "\n",
            "[Article id]: 0n0vbax3\n",
            "[Answer]:\n",
            " Vaccine related thrombo-embolic (TE) complications, though rare, have been reported with COVID-19 vaccines, mainly from Europe and North America.\n",
            "[Score]: 0.599550586746604 \n",
            "\n",
            "[Article id]: n606m6lp\n",
            "[Answer]:\n",
            " The patient had cancer and previously recovered from coronavirus disease-2019 (COVID-19).\n",
            "[Score]: 0.3032645902437283 \n",
            "\n",
            "[Article id]: ffsjv82v\n",
            "[Answer]:\n",
            " Therefore, it could be concluded that similar to LA, calcitriol can fulfill two requirements in order to change Apo form to Locked S form.\n",
            "[Score]: 0.21331865180068635 \n",
            "\n",
            "[Article id]: t8j105p1\n",
            "[Answer]:\n",
            " This could be most valuable when evaluating the pathology of SARS-CoV-2 variants or when performing combination studies of multiple neutralizing mAbs.\n",
            "[Score]: 0.20893336388851827 \n",
            "\n",
            "[Article id]: z2fdced4\n",
            "[Answer]:\n",
            " There are 16 main molecules designated cucurbitacin A to T, and hundreds of derivatives of the parent molecule.\n",
            "[Score]: 0.16516971417958956 \n",
            "\n"
          ]
        }
      ],
      "source": [
        "# question for text matching\n",
        "question = \"What are the names of coronavirus variants\"\n",
        "result = matching.text_matching(question, k=5,word_vector=\"pattern_tfidf\")\n",
        "print(\"Question: \",question)\n",
        "matching.display_results(result)   "
      ]
    },
    {
      "cell_type": "markdown",
      "id": "h21cueXltqqo",
      "metadata": {
        "id": "h21cueXltqqo"
      },
      "source": [
        "##### 4.4.3 Using covid-Word2Vec pretrained word vector for text matching"
      ]
    },
    {
      "cell_type": "code",
      "execution_count": null,
      "id": "Yl8o83BPtuwg",
      "metadata": {
        "id": "Yl8o83BPtuwg"
      },
      "outputs": [],
      "source": [
        "# call the class\n",
        "matching = text_matching_utility(entities_100, data_v2_clean[:100], KB)"
      ]
    },
    {
      "cell_type": "code",
      "execution_count": null,
      "id": "u-NpC-24twL4",
      "metadata": {
        "colab": {
          "base_uri": "https://localhost:8080/"
        },
        "id": "u-NpC-24twL4",
        "outputId": "26a5a2c4-f655-4f54-d5e9-6346cd5698ba"
      },
      "outputs": [
        {
          "name": "stdout",
          "output_type": "stream",
          "text": [
            "Name ents : []\n",
            "Question:  how to use face mask\n",
            "__________________________________________________\n",
            "\n",
            "[Article id]: fp5t9w6e\n",
            "[Answer]:\n",
            " According to US Centers for Disease Control guidelines for use of PPE in US hospitals [11], both N-95 filtering facemask respirators and powered air-purifying respirators should be accompanied by the use of a full-face shield, helmet, or headpiece.\n",
            "[Score]: 0.8327094316482544 \n",
            "\n",
            "[Article id]: hm0ovsq4\n",
            "[Answer]:\n",
            " Vaccination, social distancing, hand hygiene, and face masks are among the common measures to contain the pandemic.5 The clinical manifestation of the disease is often mild and the disease is usually self-limited.\n",
            "[Score]: 0.6578748226165771 \n",
            "\n"
          ]
        }
      ],
      "source": [
        "# question for text matching\n",
        "question = \"how to use face mask\"\n",
        "result = matching.text_matching(question, k=5, word_vector=\"covid_w2v\")\n",
        "print(\"Question: \",question)\n",
        "matching.display_results(result)"
      ]
    },
    {
      "cell_type": "code",
      "execution_count": null,
      "id": "qjx2nqyWtyVI",
      "metadata": {
        "colab": {
          "base_uri": "https://localhost:8080/"
        },
        "id": "qjx2nqyWtyVI",
        "outputId": "94ca13ad-22fd-4a80-97e0-da072c20047f"
      },
      "outputs": [
        {
          "name": "stdout",
          "output_type": "stream",
          "text": [
            "Name ents : []\n",
            "Question:  what is COVID-19\n",
            "__________________________________________________\n",
            "\n",
            "[Article id]: n606m6lp\n",
            "[Answer]:\n",
            " The patient had cancer and previously recovered from coronavirus disease-2019 (COVID-19).\n",
            "[Score]: 0.7271546125411987 \n",
            "\n",
            "[Article id]: ala3zf7w\n",
            "[Answer]:\n",
            " During the first wave of COVID-19, there were no effective antiviral drugs or vaccines against COVID-19 [21,22].\n",
            "[Score]: 0.7179258465766907 \n",
            "\n",
            "[Article id]: 10409mar\n",
            "[Answer]:\n",
            " The COVID-19 pandemic has spread to Japan and become a health emergency of national concern.\n",
            "[Score]: 0.7112464308738708 \n",
            "\n",
            "[Article id]: hg8n4hxv\n",
            "[Answer]:\n",
            " In December 2019, an outbreak of a new coronavirus infection by SARS-COV-2 in China had quickly become a global health emergency, causing coronavirus disease-19 (COVID-19).1 The current treatment of COVID-19 is mainly supportive, and no specific antiviral therapy is available.2 Patients under immunosuppressive treatment are easy prey for COVID-19.3 The Coronaviridae family is a single-stranded RNA genome.\n",
            "[Score]: 0.6880322098731995 \n",
            "\n",
            "[Article id]: qspkh86p\n",
            "[Answer]:\n",
            " This patient experienced concurrent myasthenic crisis and COVID-19-related pneumonia with a delay of 4 weeks after initial symptoms of SARS-CoV-2 infection associated with systemic features of hyperinflammation supporting aberrant immune stimulation as potential mechanism of both complications [1, 8].\n",
            "[Score]: 0.6833189725875854 \n",
            "\n"
          ]
        }
      ],
      "source": [
        "# question for text matching\n",
        "question = \"what is COVID-19\"\n",
        "result = matching.text_matching(question, k=5,word_vector=\"covid_w2v\")\n",
        "print(\"Question: \",question)\n",
        "matching.display_results(result)             "
      ]
    },
    {
      "cell_type": "code",
      "execution_count": null,
      "id": "owf9A8xit0yo",
      "metadata": {
        "colab": {
          "base_uri": "https://localhost:8080/"
        },
        "id": "owf9A8xit0yo",
        "outputId": "4d4f2117-b692-4393-efec-767b4815e4dc"
      },
      "outputs": [
        {
          "name": "stdout",
          "output_type": "stream",
          "text": [
            "Name ents : []\n",
            "Question:  What are the names of coronavirus variants\n",
            "__________________________________________________\n",
            "\n",
            "[Article id]: z2fdced4\n",
            "[Answer]:\n",
            " A similar strategy could be employed to curb the surging production of cytokines in SARS-CoV2 infection, where cucurbitacins could be a critical source of future anti-inflammatory drugs for severe viral infections.\n",
            "[Score]: 0.7640966176986694 \n",
            "\n",
            "[Article id]: ala3zf7w\n",
            "[Answer]:\n",
            " The etiological agent of this pandemic is a positive-sense single-stranded RNA virus designated as severe acute respiratory syndrome coronavirus 2 (SARS-CoV-2), while the disease has been named as coronavirus disease of 2019 (COVID-19) [1,4].\n",
            "[Score]: 0.7494943141937256 \n",
            "\n",
            "[Article id]: 0n0vbax3\n",
            "[Answer]:\n",
            " None.\n",
            "[Score]: 0.72635817527771 \n",
            "\n",
            "[Article id]: n606m6lp\n",
            "[Answer]:\n",
            " The patient had cancer and previously recovered from coronavirus disease-2019 (COVID-19).\n",
            "[Score]: 0.7104241847991943 \n",
            "\n",
            "[Article id]: g0bgp3t7\n",
            "[Answer]:\n",
            " The rapid emergence and dissemination of severe acute respiratory syndrome coronavirus 2 (SARS-CoV-2) and subsequent development of COVD-19 disease has placed an unprecedented burden on the public health system, with greater than 4 million deaths worldwide (https://www.cdc.gov/nchs/nvss/vsrr/covid19/index.htm).\n",
            "[Score]: 0.7055847644805908 \n",
            "\n"
          ]
        }
      ],
      "source": [
        "# question for text matching\n",
        "question = \"What are the names of coronavirus variants\"\n",
        "result = matching.text_matching(question, k=5,word_vector=\"covid_w2v\")\n",
        "print(\"Question: \",question)\n",
        "matching.display_results(result)   "
      ]
    },
    {
      "cell_type": "markdown",
      "id": "rBTGqWmkt3Py",
      "metadata": {
        "id": "rBTGqWmkt3Py"
      },
      "source": [
        "##### 4.4.4 Using GoogleNew-Word2Vec pretrained word vector for text matching"
      ]
    },
    {
      "cell_type": "code",
      "execution_count": null,
      "id": "ccu_Qphpt2nQ",
      "metadata": {
        "id": "ccu_Qphpt2nQ"
      },
      "outputs": [],
      "source": [
        "# # call the class\n",
        "matching = text_matching_utility(entities_100, data_v2_clean[:100], KB)"
      ]
    },
    {
      "cell_type": "code",
      "execution_count": null,
      "id": "JLTUL7zmt9bn",
      "metadata": {
        "colab": {
          "base_uri": "https://localhost:8080/"
        },
        "id": "JLTUL7zmt9bn",
        "outputId": "24d760f8-fd6d-4016-baed-53ca1aa22c7e"
      },
      "outputs": [
        {
          "name": "stdout",
          "output_type": "stream",
          "text": [
            "Name ents : []\n",
            "Question:  how to use face mask\n",
            "__________________________________________________\n",
            "\n",
            "[Article id]: fp5t9w6e\n",
            "[Answer]:\n",
            " Using the #GetUsPPE hashtag, physicians shared photographs of themselves without proper PPE, video tutorials teaching each other how to create homemade PPE [18], and images of store shelves fully stocked with boxes of N95 masks [19] while hospitals had none [20].\n",
            "[Score]: 0.48593926429748535 \n",
            "\n",
            "[Article id]: hm0ovsq4\n",
            "[Answer]:\n",
            " Vaccination, social distancing, hand hygiene, and face masks are among the common measures to contain the pandemic.5 The clinical manifestation of the disease is often mild and the disease is usually self-limited.\n",
            "[Score]: 0.4526519952525633 \n",
            "\n"
          ]
        }
      ],
      "source": [
        "# question for text matching\n",
        "question = \"how to use face mask\"\n",
        "result = matching.text_matching(question, k=5, word_vector=\"googleNews_w2v\")\n",
        "print(\"Question: \",question)\n",
        "matching.display_results(result)"
      ]
    },
    {
      "cell_type": "code",
      "execution_count": null,
      "id": "-nRm6tjjt_d3",
      "metadata": {
        "colab": {
          "base_uri": "https://localhost:8080/"
        },
        "id": "-nRm6tjjt_d3",
        "outputId": "577db147-b472-4aeb-be24-2451139b813c"
      },
      "outputs": [
        {
          "name": "stdout",
          "output_type": "stream",
          "text": [
            "Name ents : []\n",
            "Question:  what is COVID-19\n",
            "__________________________________________________\n",
            "\n",
            "[Article id]: om1airzt\n",
            "[Answer]:\n",
            " The COVID-19 pandemic is in transition.\n",
            "[Score]: 0.0 \n",
            "\n",
            "[Article id]: odg5duik\n",
            "[Answer]:\n",
            " Coronavirus disease 2019 (COVID-19), provoked by severe acute respiratory syndrome coronavirus 2 (SARS-CoV-2), poses a major challenge in intestinal transplantation (ITx) due to the high immunogenicity of the graft, requiring high levels of immunosuppression.\n",
            "[Score]: 0.0 \n",
            "\n",
            "[Article id]: xeqdknea\n",
            "[Answer]:\n",
            " Biologically plausible routes of perinatal SARS-CoV-2 transmission include transplacental, contact with infected secretions during delivery and with respiratory droplets after delivery, and breast milk.\n",
            "[Score]: 0.0 \n",
            "\n",
            "[Article id]: whchytrr\n",
            "[Answer]:\n",
            " Reactive unilateral lymphadenopathy, along with associated 2-deoxy-2-[18F]fluor-D-glucose (FDG) uptake following vaccination against severe acute respiratory syndrome coronavirus type 2 (SARS-CoV2) has been well-documented [1], [2], [3], [4].\n",
            "[Score]: 0.0 \n",
            "\n",
            "[Article id]: qspkh86p\n",
            "[Answer]:\n",
            " Dear Sirs,\n",
            "Novel Corona Virus Disease 2019 (COVID-19) poses an unpredictable risk for patients with myasthenia gravis (MG) due to potentially additive effects of bulbar and respiratory muscle weakness and viral lung affection [1].\n",
            "[Score]: 0.0 \n",
            "\n"
          ]
        }
      ],
      "source": [
        "# question for text matching\n",
        "question = \"what is COVID-19\"\n",
        "result = matching.text_matching(question, k=5,word_vector=\"googleNews_w2v\")\n",
        "print(\"Question: \",question)\n",
        "matching.display_results(result)             "
      ]
    },
    {
      "cell_type": "code",
      "execution_count": null,
      "id": "_U04Wi3auAJY",
      "metadata": {
        "colab": {
          "base_uri": "https://localhost:8080/"
        },
        "id": "_U04Wi3auAJY",
        "outputId": "906cb8bd-60cc-4c36-f4fb-df60a3dc8ecd"
      },
      "outputs": [
        {
          "name": "stdout",
          "output_type": "stream",
          "text": [
            "Name ents : []\n",
            "Question:  What are the names of coronavirus variants\n",
            "__________________________________________________\n",
            "\n",
            "[Article id]: ffsjv82v\n",
            "[Answer]:\n",
            " The rate of male bias mortality in COVID-19 patients has been documented72.\n",
            "[Score]: 0.6824206336209659 \n",
            "\n",
            "[Article id]: olyq4eii\n",
            "[Answer]:\n",
            " Humanity is currently facing a deadly threat, a severe acute respiratory syndrome coronavirus 2 (SARS-CoV-2) pandemic, which is due to the novel 2019 coronavirus outbreak, also known as Coronavirus Disease (COVID-19) (1).\n",
            "[Score]: 0.6666566729545593 \n",
            "\n",
            "[Article id]: z2fdced4\n",
            "[Answer]:\n",
            " Moreover, the structural proteins of coronaviruses such as spike (S) proteins are known to show considerable variability among coronavirus species, and targeting the spike proteins has been an extremely laborious task.\n",
            "[Score]: 0.6572620868682861 \n",
            "\n",
            "[Article id]: g0bgp3t7\n",
            "[Answer]:\n",
            " Subjects infected with Influenza A virus, Respiratory Syncytial Virus (RSV), human Metapneumovirus (hMPV), various flaviruses and coronaviruses all exhibit interferon gene signatures (29–34).\n",
            "[Score]: 0.652350902557373 \n",
            "\n",
            "[Article id]: a8hvtcqe\n",
            "[Answer]:\n",
            " In most cases, a hereditary origin can be identified, related to genetic abnormalities such as single nucleotide polymorphisms in the genes of complement factor H (CFH) and CD46, copy-number variations in the CFH-related 1 and 3 genes (CFHR), and fusion or deletion of genes in the CFHR region caused by non-allelic homologous recombination (5).\n",
            "[Score]: 0.5998634099960327 \n",
            "\n"
          ]
        }
      ],
      "source": [
        "# question for text matching\n",
        "question = \"What are the names of coronavirus variants\"\n",
        "result = matching.text_matching(question, k=5,word_vector=\"googleNews_w2v\")\n",
        "print(\"Question: \",question)\n",
        "matching.display_results(result)   "
      ]
    },
    {
      "cell_type": "markdown",
      "id": "IBWLmd1l_oGb",
      "metadata": {
        "id": "IBWLmd1l_oGb"
      },
      "source": [
        "#### 4.6 Result Discussion\n",
        "Here, we discuss about pretrained word vector model selection and testing results.\n",
        "\n",
        "In this part, we can see that GloVe is not maintained, and it is hard to find words like \"COVID-19\" and \"covid\" (see below code). And it takes too much time to train our own corpus. That's why, we tried tf-idf and spaCy pretrained Word Vector model.\n",
        "\n",
        "Our questions are\n",
        "\n",
        "1.   how to use face mask\n",
        "2.   what is COVID-19\n",
        "3.   What are the names of cornavirus variants\n",
        "\n",
        "Table: Score comparision\n",
        "\n",
        "| Question ID |    tf-idf   |     spaCy   |\n",
        "| ----------- | ----------- | ----------- |\n",
        "|      1      |    0.329    |   0.618     |\n",
        "|      2      |    0.462    |   0.602     |\n",
        "|      3      |    0.60     |   0.626     |\n",
        "\n",
        "From table, we can see spaCy got higher scores than tf-idf for all three questions when we compare top 1 answer score. However, answer from spaCy is not related to our query. \n",
        "\n",
        "\n",
        "For question 1 about face mask, our tf-idf answer is \"Vaccination, social distancing, hand hygiene, and face masks are among the common measures to contain the pandemic.5 The clinical manifestation of the disease is often mild and the disease is usually self-limited.\" (top1 answer) However, spaCy answers \" I knew I could help and make a difference but was unable to.\" Although spaCy had higher score, it's answer is incorrect and irrelevant. At least tf-idf is good at matching the key word \"face mask\" of our query with text and find a answer related to our query. For the second and last questions, both of them are not answer correctly. In total, tf-idf tried to match text as much as possible.\n",
        "\n",
        "Therefore, we can conclude that tf-idf has better performance than spaCy. It helps to identify the most important words in a document. It reduces the impact of common words, such as \"the\", \"and\", and \"a\" appear frequently in most documents. By computing the TF-IDF scores for different documents, it is possible to compare them and identify similarities and differences.\n",
        "\n",
        "spaCy uses pre-trained word embeddings that are trained on large, diverse datasets, which results in high-quality embeddings. But actually, it does not work well in text matching in our experiment. \n",
        "\n",
        "A possible reason why TF-IDF may be more effective is that it is based on the frequency of words in a document or corpus, whereas spaCy word embeddings capture more complex semantic relationships between words. After preprocessing query, only some keywords are left and it may hard for Sapcy to work."
      ]
    },
    {
      "cell_type": "markdown",
      "id": "333ba5cb",
      "metadata": {
        "id": "333ba5cb"
      },
      "source": [
        "### 5. Test utility and test results"
      ]
    },
    {
      "cell_type": "markdown",
      "id": "sZ8IQ_TFtoeR",
      "metadata": {
        "id": "sZ8IQ_TFtoeR"
      },
      "source": [
        "#### 5.1 Summary\n",
        "MRR stands for Mean Reciprocal Rank, and it is a measure used to evaluate the effectiveness of a search engine algorithm. IMRR measures the average rank of the first relevant result in a set of search results, where each rank is weighted by its reciprocal value. \n",
        "\n",
        "The formula for MRR is as follows (shown in **gett_mrr_rank** and **calculate_mrr** function):\n",
        "MRR = (1/N) * sum(1/rank) [3]\n",
        "\n",
        "Our MRR result is only 0.158, which means that our search engine algorithm is not effective. As MRR takes into account not only whether a result is relevant or not, but also the order in which the results are presented.\n",
        "\n",
        "A possible reason is it is hard to match the question patten to a best sentence in the article. And it is hard to analyze semantics according to relationship such as \"How many\", \"when\", \"what\" and \"which\". If we can use update our KB with more \"relation\", it may imporve MRR result.  "
      ]
    },
    {
      "cell_type": "markdown",
      "id": "5U4tBsrqvdIP",
      "metadata": {
        "id": "5U4tBsrqvdIP"
      },
      "source": [
        "#### 5.2 Test utility class and MRR result"
      ]
    },
    {
      "cell_type": "code",
      "execution_count": null,
      "id": "MJsE9b5Ljjw1",
      "metadata": {
        "id": "MJsE9b5Ljjw1"
      },
      "outputs": [],
      "source": [
        "class test_utility(text_matching_utility):\n",
        "    def __init__(self, entities, dataset, kb):\n",
        "      super().__init__(entities, dataset, kb)\n",
        "    \n",
        "    # Function to get the reciprocal rank\n",
        "    def get_mrr_rank(self, answers, correct_answer):\n",
        "      for i, answer in enumerate(answers):\n",
        "              if answer is None:\n",
        "                  answer = \"\"\n",
        "              if correct_answer in answer:\n",
        "                  return 1 / (i + 1), correct_answer\n",
        "      return 0, None\n",
        "\n",
        "    # Function to get query answer\n",
        "    def get_query_answer(self, question, k, word_vector, speed):\n",
        "        answers = []\n",
        "        top_results = self.text_matching(question, k, word_vector, speed)\n",
        "        # print(\"Question:\", question)\n",
        "        # self.display_results(top_results)\n",
        "        if top_results is None:\n",
        "            answers.append(\"None\")\n",
        "        else:\n",
        "          for index, row in top_results.iterrows():\n",
        "              answers.append(row['Answer'])  \n",
        "              # answers.append(row['Docid'])\n",
        "        return answers\n",
        "\n",
        "    # Function to calculate MRR\n",
        "    def calculate_mrr(self, test_questions, answers):        \n",
        "        rr_sum = 0\n",
        "        results_answers = []\n",
        "        for i in range(1,11):\n",
        "            # correct_answer = test_questions[i]['article_id']\n",
        "            correct_answer = test_questions[i]['answer']\n",
        "            result_mrr = self.get_mrr_rank(answers[i-1], correct_answer)\n",
        "            # print(\"Result_mrr\", result_mrr)\n",
        "            rr_sum += result_mrr[0]\n",
        "            results_answers.append(result_mrr[1])\n",
        "        \n",
        "        return rr_sum / len(test_questions), results_answers\n",
        "\n",
        "    def display(self ,test_questions, k, word_vector,speed):\n",
        "      answers = []\n",
        "      for i in range(1,11):\n",
        "          answers.append(self.get_query_answer(test_questions[i]['query'], k, word_vector,speed))\n",
        "      mrr_result = self.calculate_mrr(test_questions, answers)\n",
        "      print(\"[MRR result]:\", mrr_result[0])\n",
        "      # print(\"Answers: \\n\", answers)"
      ]
    },
    {
      "cell_type": "code",
      "execution_count": null,
      "id": "Rpq4e0Nh2ZMP",
      "metadata": {
        "id": "Rpq4e0Nh2ZMP"
      },
      "outputs": [],
      "source": [
        "test_questions = {\n",
        "   1: {\"query\":\"how to use face mask\", \"answer\":\"both N-95 filtering facemask respirators and powered air-purifying respirators should be accompanied by the use of a full-face shield, helmet, or headpiece.\",\"article_id\":\"hm0ovsq4\"}, \n",
        "   2: {\"query\":\"when did Wuhan reported COVID-19\", \"answer\":\"31 December 2019\",\"article_id\":data_v2_clean['docid'][7]}, # \"article_id\":data_v2_clean['docid'][7]\n",
        "   3: {\"query\":\"In 1936, how many cases André Lemierre published\", \"answer\":\"20\", \"article_id\":data_v2_clean['docid'][9]}, # \"article_id\":data_v2_clean['docid'][9]\n",
        "   4: {\"query\":\"which city initially reported COVID-19\", \"answer\":\"Wuhan\",\"article_id\":data_v2_clean['docid'][7]}, # \"article_id\":data_v2_clean['docid'][7]\n",
        "   5: {\"query\":\"what Iran ranks in the world in deaths due to COVID-19\",  \"answer\":\"eigth\", \"article_id\":data_v2_clean['docid'][10]}, #\"article_id\":data_v2_clean['docid'][10]\n",
        "   6: {\"query\":\"Nightingale Hospitals in UK\", \"answer\":\"constructed\", \"article_id\":data_v2_clean['docid'][16]}, # \"article_id\":data_v2_clean['docid'][16]\n",
        "   7: {\"query\":\"when is the first COVID-19 patient in Japan was diagnosed\",  \"answer\":\"January 2020\", \"article_id\":data_v2_clean['docid'][17]}, # \"article_id\":data_v2_clean['docid'][17],\n",
        "   8: {\"query\":\"what is Tuberculosis\", \"answer\":\"disease\", \"article_id\":data_v2_clean['docid'][19]}, # \"article_id\":data_v2_clean['docid'][19], \n",
        "   9: {\"query\":\"Has COVID-19 pandemic spread to Japan\", \"answer\":\"Japan\", \"article_id\":data_v2_clean['docid'][17]}, # \"article_id\":data_v2_clean['docid'][25]\n",
        "   10:{\"query\":\"On 11 March 2020, how many countries reported cases of COVID-19\", \"answer\":\"114\", \"article_id\":data_v2_clean['docid'][7]}, # \"article_id\":data_v2_clean['docid'][7]\n",
        "}"
      ]
    },
    {
      "cell_type": "markdown",
      "id": "nRHCK2nzyhFN",
      "metadata": {
        "id": "nRHCK2nzyhFN"
      },
      "source": [
        "##### version1 and version2 result (compare to correct ids)"
      ]
    },
    {
      "cell_type": "code",
      "execution_count": null,
      "id": "6gMKJzcitho7",
      "metadata": {
        "colab": {
          "base_uri": "https://localhost:8080/"
        },
        "id": "6gMKJzcitho7",
        "outputId": "4fd22660-9817-4ffc-ec78-d3fa49990b21"
      },
      "outputs": [
        {
          "name": "stdout",
          "output_type": "stream",
          "text": [
            "[MRR result]: 0.5333333333333333\n",
            "[MRR result]: 0.75\n",
            "[MRR result]: 0.5499999999999999\n",
            "[MRR result]: 0.6833333333333333\n"
          ]
        }
      ],
      "source": [
        "# call the class\n",
        "test = test_utility(entities_100, data_v2_clean[:100], KB)\n",
        "# get mrr of version 2\n",
        "test.display(test_questions,k=5, word_vector=\"normal_tfidf\", speed=\"fast\")\n",
        "test.display(test_questions,k=5, word_vector=\"pattern_tfidf\", speed=\"fast\")\n",
        "test.display(test_questions,k=5, word_vector=\"covid_w2v\", speed=\"fast\")\n",
        "test.display(test_questions,k=5, word_vector=\"googleNews_w2v\", speed=\"fast\")"
      ]
    },
    {
      "cell_type": "code",
      "execution_count": null,
      "id": "mdvhbdYijfei",
      "metadata": {
        "colab": {
          "base_uri": "https://localhost:8080/"
        },
        "id": "mdvhbdYijfei",
        "outputId": "7b3a3e16-049d-4e08-a306-ecfca0b1f965"
      },
      "outputs": [
        {
          "name": "stdout",
          "output_type": "stream",
          "text": [
            "[MRR result]: 0.55\n",
            "[MRR result]: 0.65\n",
            "[MRR result]: 0.35\n",
            "[MRR result]: 0.45\n"
          ]
        }
      ],
      "source": [
        "# get mrr of version1\n",
        "test.display(test_questions,k=5, word_vector=\"normal_tfidf\", speed=\"slow\")\n",
        "test.display(test_questions,k=5, word_vector=\"pattern_tfidf\", speed=\"slow\")\n",
        "test.display(test_questions,k=5, word_vector=\"covid_w2v\", speed=\"slow\")\n",
        "test.display(test_questions,k=5, word_vector=\"googleNews_w2v\", speed=\"slow\")"
      ]
    },
    {
      "cell_type": "markdown",
      "id": "O6OhkTS5YaK-",
      "metadata": {
        "id": "O6OhkTS5YaK-"
      },
      "source": [
        "##### version1 and 2 result (compare to correct answers)"
      ]
    },
    {
      "cell_type": "code",
      "execution_count": null,
      "id": "0mPrHavxYaK-",
      "metadata": {
        "colab": {
          "base_uri": "https://localhost:8080/"
        },
        "id": "0mPrHavxYaK-",
        "outputId": "6153892d-7e01-4140-dda2-0e54f6e5e274"
      },
      "outputs": [
        {
          "name": "stdout",
          "output_type": "stream",
          "text": [
            "[MRR result]: 0.45\n",
            "[MRR result]: 0.55\n",
            "[MRR result]: 0.6333333333333333\n",
            "[MRR result]: 0.4533333333333333\n"
          ]
        }
      ],
      "source": [
        "# call the class\n",
        "test = test_utility(entities_100, data_v2_clean[:100], KB)\n",
        "# get mrr of version2\n",
        "test.display(test_questions,k=5, word_vector=\"normal_tfidf\", speed=\"fast\")\n",
        "test.display(test_questions,k=5, word_vector=\"pattern_tfidf\", speed=\"fast\")\n",
        "test.display(test_questions,k=5, word_vector=\"covid_w2v\", speed=\"fast\")\n",
        "test.display(test_questions,k=5, word_vector=\"googleNews_w2v\", speed=\"fast\")"
      ]
    },
    {
      "cell_type": "code",
      "execution_count": null,
      "id": "TBcxSifRYaK-",
      "metadata": {
        "colab": {
          "base_uri": "https://localhost:8080/"
        },
        "id": "TBcxSifRYaK-",
        "outputId": "639cab48-2f20-4a85-cebb-8a3c4b6bebc7"
      },
      "outputs": [
        {
          "name": "stdout",
          "output_type": "stream",
          "text": [
            "[MRR result]: 0.33333333333333337\n",
            "[MRR result]: 0.4\n",
            "[MRR result]: 0.475\n",
            "[MRR result]: 0.4\n"
          ]
        }
      ],
      "source": [
        "# get mrr of version1\n",
        "test.display(test_questions,k=5, word_vector=\"normal_tfidf\", speed=\"slow\")\n",
        "test.display(test_questions,k=5, word_vector=\"pattern_tfidf\", speed=\"slow\")\n",
        "test.display(test_questions,k=5, word_vector=\"covid_w2v\", speed=\"slow\")\n",
        "test.display(test_questions,k=5, word_vector=\"googleNews_w2v\", speed=\"slow\")"
      ]
    },
    {
      "cell_type": "markdown",
      "id": "xa4BRu84pDoF",
      "metadata": {
        "id": "xa4BRu84pDoF"
      },
      "source": [
        "#### 5.3 Compare Article Retrieval Methods"
      ]
    },
    {
      "cell_type": "code",
      "execution_count": null,
      "id": "cniRPC18qB7s",
      "metadata": {
        "colab": {
          "base_uri": "https://localhost:8080/"
        },
        "id": "cniRPC18qB7s",
        "outputId": "5443c82d-4d20-4102-ae2c-65be0d16af03"
      },
      "outputs": [
        {
          "name": "stdout",
          "output_type": "stream",
          "text": [
            "Length of entities_100: 100\n",
            "Length of entities_1000: 1000\n",
            "Length of entities_10000: 10000\n"
          ]
        }
      ],
      "source": [
        "# create related entities dictionaries\n",
        "# entities_100 = {}\n",
        "# for cnt, (k, v) in enumerate(entities.items(), 1):\n",
        "#     entities_100[k] = v\n",
        "#     if cnt == 100:\n",
        "#         break\n",
        "print(\"Length of entities_100:\", len(entities_100.keys()))\n",
        "entities_1000 = {}\n",
        "for cnt, (k, v) in enumerate(entities.items(), 1):\n",
        "    entities_1000[k] = v\n",
        "    if cnt == 1000:\n",
        "        break\n",
        "print(\"Length of entities_1000:\",len(entities_1000.keys()))\n",
        "entities_10000 = {}\n",
        "for cnt, (k, v) in enumerate(entities.items(), 1):\n",
        "    entities_10000[k] = v\n",
        "    if cnt == 10000:\n",
        "        break\n",
        "print(\"Length of entities_10000:\", len(entities_10000.keys()))"
      ]
    },
    {
      "cell_type": "code",
      "execution_count": null,
      "id": "oZpBfQF_jT05",
      "metadata": {
        "id": "oZpBfQF_jT05"
      },
      "outputs": [],
      "source": [
        "def get_runtime(entities, data, KB, method):\n",
        "    \"\"\"\n",
        "    Perform text matching using entities, data, and KB as parameters.\n",
        "    \n",
        "    Args:\n",
        "        entities (list): List of entities for text matching.\n",
        "        data (list): List of data for text matching.\n",
        "        KB (object): KB object for text matching.\n",
        "        \n",
        "    Returns:\n",
        "        int: Number of related articles.\n",
        "        float: Execution time in seconds.\n",
        "    \"\"\"\n",
        "    # call the class\n",
        "    matching = text_matching_utility(entities, data, KB)\n",
        "    # question for text matching\n",
        "    runtimes = []\n",
        "    result_size = []\n",
        "    for i in range(1, 11):\n",
        "        question = test_questions[i]['query']\n",
        "        query = matching.query_preprocessing(question)\n",
        "        \n",
        "        start,end = None , None\n",
        "        # get the start time\n",
        "        start = time.time()\n",
        "\n",
        "        # get article ids\n",
        "        if method == \"fast\":\n",
        "            article_ids = matching.fast_article_retrieval(query)\n",
        "        elif method == \"slow\":\n",
        "            article_ids = matching.slow_article_retrieval(query)\n",
        "        result_size.append(len(article_ids))\n",
        "\n",
        "        # get the end time\n",
        "        end = time.time()\n",
        "\n",
        "        # get the execution time\n",
        "        elapsed_time = end - start\n",
        "        runtimes.append(elapsed_time)\n",
        "    avg_time = np.mean(runtimes)\n",
        "    avg_size = np.mean(result_size)\n",
        "    # print('Execution time:', avg_time, 'seconds')\n",
        "\n",
        "    return avg_time, avg_size"
      ]
    },
    {
      "cell_type": "code",
      "execution_count": null,
      "id": "8lCzW-imljIw",
      "metadata": {
        "id": "8lCzW-imljIw"
      },
      "outputs": [],
      "source": [
        "import time\n",
        "datas = [data_v2_clean[:100], data_v2_clean[:1000],data_v2_clean[:10000]]\n",
        "entities_lst = [entities_100, entities_1000,entities_10000]\n",
        "\n",
        "index = [100, 1000, 10000]\n",
        "\n",
        "fast_runtimes = []\n",
        "fast_size = []\n",
        "\n",
        "for i in range(3):\n",
        "   elaspsed_time, size = get_runtime(entities_lst[i], datas[i], KB, method=\"fast\")\n",
        "   fast_runtimes.append(elaspsed_time)\n",
        "   fast_size.append(size)\n",
        "\n",
        "slow_runtimes = []\n",
        "slow_size = []\n",
        "for i in range(3):\n",
        "   elaspsed_time, size = get_runtime(entities_lst[i], datas[i], KB, method=\"slow\")\n",
        "   slow_runtimes.append(elaspsed_time)\n",
        "   slow_size.append(size)\n"
      ]
    },
    {
      "cell_type": "code",
      "execution_count": null,
      "id": "qiGfBF2fSLWs",
      "metadata": {
        "colab": {
          "base_uri": "https://localhost:8080/",
          "height": 472
        },
        "id": "qiGfBF2fSLWs",
        "outputId": "a55fa597-29e1-4ae1-f969-594a07ec4c8b"
      },
      "outputs": [
        {
          "data": {
            "image/png": "[encoded data removed]",
            "text/plain": [
              "<Figure size 640x480 with 1 Axes>"
            ]
          },
          "metadata": {},
          "output_type": "display_data"
        }
      ],
      "source": [
        "# plot lines\n",
        "plt.plot(index, fast_runtimes, label=\"fast retrieval\")\n",
        "plt.plot(index, slow_runtimes, label=\"slow retrieval\", linestyle=\"-.\")\n",
        "plt.title(\"Runtime of fast and slow article retrieval\")\n",
        "plt.xlabel(\"Retrieval Range\")\n",
        "plt.ylabel(\"Runtime(seconds)\")\n",
        "plt.legend()\n",
        "plt.show()"
      ]
    },
    {
      "cell_type": "code",
      "execution_count": null,
      "id": "HNHQbr-nNZcR",
      "metadata": {
        "colab": {
          "base_uri": "https://localhost:8080/",
          "height": 472
        },
        "id": "HNHQbr-nNZcR",
        "outputId": "09ff5f11-0cf7-4e22-8464-c5eb2a0286b7"
      },
      "outputs": [
        {
          "data": {
            "image/png": "[encoded data removed]",
            "text/plain": [
              "<Figure size 640x480 with 1 Axes>"
            ]
          },
          "metadata": {},
          "output_type": "display_data"
        }
      ],
      "source": [
        "barWidth = 0.25\n",
        "\n",
        "br1 = np.arange(len(fast_size))\n",
        "br2 = [x + barWidth for x in br1]\n",
        "\n",
        "plt.bar(br1, fast_size,  width = barWidth,\n",
        "        edgecolor ='grey', label ='fast')\n",
        "plt.bar(br2, slow_size,  width = barWidth,\n",
        "        edgecolor ='grey', label ='slow')\n",
        "plt.xlabel('Retrieval Range')\n",
        "plt.ylabel('Relevant Articles (Count)')\n",
        "plt.xticks(br2, ['100', '1000', '10000'])\n",
        "plt.title(\"Relevant article count for fast and slow article retrieval\")\n",
        "plt.legend()\n",
        "plt.show()"
      ]
    },
    {
      "cell_type": "markdown",
      "id": "ba7ea3a2",
      "metadata": {
        "id": "ba7ea3a2"
      },
      "source": [
        "### user interface"
      ]
    },
    {
      "cell_type": "markdown",
      "id": "76f69d11",
      "metadata": {
        "id": "76f69d11"
      },
      "source": [
        "#### 6.1 Summary\n",
        "Our user interface outputs three top ranked answers: article number, snippets of text that answers the question and the confidence of the answer.\n",
        "\n",
        "We had asked two questions in our QA_interface:\n",
        "\n",
        "1.   which city initially reported COVID-19\n",
        "2.   what Iran ranks in the world in deaths due to COVID-19\n",
        "\n",
        "For the first question, our correct answer ranks first, with confidence score of 0.425.\n",
        "\n",
        "For the second question, our correct answer ranks first, with confidence score of 0.592.\n",
        "\n",
        "Although our confidence score is not high, we can find out the correct answer in top 3 ranked answers, which means the performance of our search engine is acceptable.\n",
        "\n",
        "The possible reason is our query parttens match well with the correct answer sentence using tf-idf. "
      ]
    },
    {
      "cell_type": "code",
      "execution_count": null,
      "id": "e9ab4d71",
      "metadata": {
        "id": "e9ab4d71"
      },
      "outputs": [],
      "source": [
        "class QA_interface(text_matching_utility):\n",
        "    def __init__(self, entities, dataset, kb):\n",
        "      super().__init__(entities, dataset, kb)\n",
        "\n",
        "    def main(self):\n",
        "        question = None\n",
        "        print(\"Please ask a question about COVID.\\n\")\n",
        "        print(\"Please enter 'quit' for quit.\\n\")\n",
        "        while True:\n",
        "          print(\"Your query is:\\n\")\n",
        "          question = str(input())\n",
        "          if question == 'quit':\n",
        "              print(\"\\nThank you for your query.\")\n",
        "              break\n",
        "          top_results = self.text_matching(question, k=5, word_vector=\"pattern_tfidf\")\n",
        "          plot = self.display_results(top_results)\n",
        "          "
      ]
    },
    {
      "cell_type": "code",
      "execution_count": null,
      "id": "7090ac2b",
      "metadata": {
        "colab": {
          "base_uri": "https://localhost:8080/"
        },
        "id": "7090ac2b",
        "outputId": "6f04ba68-994c-47fe-b814-d75113c8079d"
      },
      "outputs": [
        {
          "name": "stdout",
          "output_type": "stream",
          "text": [
            "Please ask a question about COVID.\n",
            "\n",
            "Please enter 'quit' for quit.\n",
            "\n",
            "Your query is:\n",
            "\n",
            "which city initially reported COVID-19\n",
            "__________________________________________________\n",
            "\n",
            "[Article id]: ymebxodh\n",
            "[Answer]:\n",
            " More data on recruitability in patients with COVID-19 are urgently needed to understand the heterogeneity within COVID-19 ARDS.\n",
            "[Score]: 0.3670539641031466 \n",
            "\n",
            "[Article id]: qd30tmuy\n",
            "[Answer]:\n",
            " Compared with the control measures taken by other cities, Wuhan have sealed off the city from all outside contact to stop the spread of the COVID-19.\n",
            "[Score]: 0.32837633200635896 \n",
            "\n",
            "[Article id]: om1airzt\n",
            "[Answer]:\n",
            " The COVID-19 pandemic is in transition.\n",
            "[Score]: 0.30899498767644706 \n",
            "\n",
            "[Article id]: qk0cyee2\n",
            "[Answer]:\n",
            " Third, the distribution of and disparities in the relative vulnerability to severe illness from COVID-19 in the U.S. adult population reported below will be driven by the marginal contributions of individual risk factors displayed in Figure 1 based on the DeCaprio et al.\n",
            "[Score]: 0.2649603620419183 \n",
            "\n",
            "[Article id]: 4kfyevgg\n",
            "[Answer]:\n",
            " The only significant predictor of PA variation in the postlockdown period was the lockdown to prelockdown PA ratio (odds ratio 2.26, 95% CI 1.0-5.22; P=.05).\n",
            "[Score]: 0.25460995622824223 \n",
            "\n",
            "Your query is:\n",
            "\n",
            "quit\n",
            "\n",
            "Thank you for your query.\n"
          ]
        }
      ],
      "source": [
        "user_query = QA_interface(entities_100, data_v2_clean[:100], KB)\n",
        "user_query.main()"
      ]
    },
    {
      "cell_type": "markdown",
      "id": "9d3a91b4",
      "metadata": {
        "id": "9d3a91b4"
      },
      "source": [
        "### 7. References"
      ]
    },
    {
      "cell_type": "markdown",
      "id": "tBjwDHO0PJVL",
      "metadata": {
        "id": "tBjwDHO0PJVL"
      },
      "source": [
        "[1] https://www.kaggle.com/datasets/allen-institute-for-ai/CORD-19-research-challenge\n",
        "\n",
        "[2] https://www.kaggle.com/code/maksimeren/covid-19-literature-clustering\n",
        "\n",
        "[3] Jurafsky, D & Martin,JH, 2023, 'Speech and Language Processing', https://web.stanford.edu/~jurafsky/slp3/\n",
        "\n",
        "\n",
        "[4] https://www.holisticseo.digital/python-seo/information-extraction/\n",
        "\n",
        "[5] https://www.turing.com/kb/guide-on-word-embeddings-in-nlp#glove:-global-vector-for-word-representation\n",
        "\n",
        "[6] https://nlp.stanford.edu/pubs/glove.pdf\n",
        "\n",
        "[7] https://pandas.pydata.org/docs/reference/api/pandas.DataFrame.sort_values.html\n",
        "\n",
        "[8] https://spacy.io/\n",
        "\n",
        "[9] https://code.google.com/archive/p/word2vec/\n",
        "\n",
        "[10] https://radimrehurek.com/gensim/models/keyedvectors.html\n",
        "\n",
        "[11] https://stackoverflow.com/questions/67413006/typeerror-init-got-an-unexpected-keyword-argument-size\n",
        "\n",
        "[12] https://github.com/vibhavnirmal/Knowledge-Graph-based-QnA/blob/master/kwQnA/_graph.py"
      ]
    }
  ],
  "metadata": {
    "accelerator": "GPU",
    "colab": {
      "machine_shape": "hm",
      "provenance": [],
      "collapsed_sections": [
        "69E2I0PrsBCx",
        "MsAjFaNGWAdU",
        "h21cueXltqqo"
      ],
      "gpuType": "A100",
      "gpuClass": "premium"
    },
    "gpuClass": "premium",
    "kernelspec": {
      "display_name": "Python 3",
      "name": "python3"
    },
    "language_info": {
      "codemirror_mode": {
        "name": "ipython",
        "version": 3
      },
      "file_extension": ".py",
      "mimetype": "text/x-python",
      "name": "python",
      "nbconvert_exporter": "python",
      "pygments_lexer": "ipython3",
      "version": "3.9.12"
    }
  },
  "nbformat": 4,
  "nbformat_minor": 5
}