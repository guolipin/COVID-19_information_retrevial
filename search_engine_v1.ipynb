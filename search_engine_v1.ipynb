{
  "cells": [
    {
      "cell_type": "markdown",
      "id": "6730fecf",
      "metadata": {
        "id": "6730fecf"
      },
      "source": [
        "## Assignment 2 \n",
        "### \\<Lipin Guo> \\<a1865281>"
      ]
    },
    {
      "cell_type": "code",
      "execution_count": 3,
      "id": "Cx7GMtoHdsXi",
      "metadata": {
        "id": "Cx7GMtoHdsXi",
        "colab": {
          "base_uri": "https://localhost:8080/"
        },
        "outputId": "2f895233-ed7c-4341-f816-f328d6f8a1ea"
      },
      "outputs": [
        {
          "output_type": "stream",
          "name": "stdout",
          "text": [
            "Drive already mounted at /content/drive; to attempt to forcibly remount, call drive.mount(\"/content/drive\", force_remount=True).\n"
          ]
        },
        {
          "output_type": "stream",
          "name": "stderr",
          "text": [
            "[nltk_data] Downloading package punkt to /root/nltk_data...\n",
            "[nltk_data]   Package punkt is already up-to-date!\n",
            "[nltk_data] Downloading package stopwords to /root/nltk_data...\n",
            "[nltk_data]   Package stopwords is already up-to-date!\n",
            "[nltk_data] Downloading package wordnet to /root/nltk_data...\n",
            "[nltk_data]   Package wordnet is already up-to-date!\n",
            "[nltk_data] Downloading package omw-1.4 to /root/nltk_data...\n",
            "[nltk_data]   Package omw-1.4 is already up-to-date!\n"
          ]
        }
      ],
      "source": [
        "# Libraries for reading data\n",
        "import numpy as np\n",
        "import pandas as pd \n",
        "from tqdm import tqdm\n",
        "import glob\n",
        "import json\n",
        "from google.colab import drive\n",
        "drive.mount('/content/drive')\n",
        "\n",
        "# Libraries for pre-processing\n",
        "import re\n",
        "import nltk\n",
        "import string\n",
        "nltk.download('punkt')\n",
        "from nltk import tokenize\n",
        "from nltk.tokenize import word_tokenize\n",
        "nltk.download('stopwords')\n",
        "from nltk.corpus import stopwords\n",
        "nltk.download('wordnet')\n",
        "nltk.download('omw-1.4')\n",
        "from nltk.stem import WordNetLemmatizer\n",
        "\n",
        "# Libraries for information retrival\n",
        "# !pip install spacy\n",
        "import spacy\n",
        "# Load English tokenizer, tagger, parser and NER\n",
        "# !python -m spacy download en_core_web_sm\n",
        "nlp = spacy.load(\"en_core_web_sm\")\n",
        "# !python -m spacy download en_core_web_md\n",
        "nlp_md = spacy.load(\"en_core_web_md\")\n",
        "from spacy.lang.en import English\n",
        "import networkx as nx\n",
        "from sklearn.feature_extraction.text import TfidfVectorizer\n",
        "from sklearn.metrics.pairwise import cosine_similarity\n",
        "\n",
        "# Libraries for data analysis\n",
        "import matplotlib.pyplot as plt\n",
        "# # !pip install tabulate\n",
        "# from tabulate import tabulate"
      ]
    },
    {
      "cell_type": "markdown",
      "id": "3df2aac6",
      "metadata": {
        "id": "3df2aac6"
      },
      "source": [
        "### 1. Reading dataset and pre-processing"
      ]
    },
    {
      "cell_type": "markdown",
      "id": "cn9r76_pN2uq",
      "metadata": {
        "id": "cn9r76_pN2uq"
      },
      "source": [
        "#### 1.1 Summary\n",
        "Our dataset is COVID-19 Open Research Dataset (CORD-19). According to Kaggle, the dataset contains \"1,000,000 scholarly articles,  including over 400,000 with full text\" and topics are about \"COVID-19, SARS-CoV-2, and related coronaviruses\" [1]. \n",
        "\n",
        "First, we manully download dataset from Kaggle and reading data. For full text, there are two formats: PDF and PMC. In our experiment, we selected PMC as the PDF data has more missing information especially missing some cord_uid. The whole dataset has the size of around 20 Gigabytesis so we need to use a random sample. Our **sample size is 10,000 articles**, which is 1% of orginal data size. (Section 1.2 Reading dataset) \n",
        "\n",
        "data columns:\n",
        "\n",
        "*   docid: using cord_uid\n",
        "*   doi\n",
        "*   authors\n",
        "*   title\n",
        "*   journal\n",
        "*   body\n",
        "\n",
        "Then, we pre-process data including **removing stopwords and Lemmalization**(Section 1.3 Data Pre-processing). **Removing stopwords** help to concentrate on important information. **Lemmalization** return root words. **removing stopwords and Lemmalization** will not influence the major semantic of sentences. We would like to keep data in sentence level to analyze semantics, that's why we does not remove puncuation. In order to have better named entity recognition, we keep capitalization as captical words have special meaning and can be used to identify name, organization and place.\n",
        "\n",
        "Finally, we saved the data into data_v2_clean. \n",
        "\n",
        "P.S. Save each version of data into csv format to avoid repeating operation."
      ]
    },
    {
      "cell_type": "markdown",
      "id": "ZMoG9gvgOH-a",
      "metadata": {
        "id": "ZMoG9gvgOH-a"
      },
      "source": [
        "#### 1.2 Reading dataset"
      ]
    },
    {
      "cell_type": "code",
      "execution_count": null,
      "id": "e967e07b",
      "metadata": {
        "id": "e967e07b",
        "outputId": "85a00434-95af-4b3b-961e-4dd2cbcf86ca"
      },
      "outputs": [
        {
          "data": {
            "text/html": [
              "<div>\n",
              "<style scoped>\n",
              "    .dataframe tbody tr th:only-of-type {\n",
              "        vertical-align: middle;\n",
              "    }\n",
              "\n",
              "    .dataframe tbody tr th {\n",
              "        vertical-align: top;\n",
              "    }\n",
              "\n",
              "    .dataframe thead th {\n",
              "        text-align: right;\n",
              "    }\n",
              "</style>\n",
              "<table border=\"1\" class=\"dataframe\">\n",
              "  <thead>\n",
              "    <tr style=\"text-align: right;\">\n",
              "      <th></th>\n",
              "      <th>cord_uid</th>\n",
              "      <th>sha</th>\n",
              "      <th>source_x</th>\n",
              "      <th>title</th>\n",
              "      <th>doi</th>\n",
              "      <th>pmcid</th>\n",
              "      <th>pubmed_id</th>\n",
              "      <th>license</th>\n",
              "      <th>abstract</th>\n",
              "      <th>publish_time</th>\n",
              "      <th>authors</th>\n",
              "      <th>journal</th>\n",
              "      <th>mag_id</th>\n",
              "      <th>who_covidence_id</th>\n",
              "      <th>arxiv_id</th>\n",
              "      <th>pdf_json_files</th>\n",
              "      <th>pmc_json_files</th>\n",
              "      <th>url</th>\n",
              "      <th>s2_id</th>\n",
              "    </tr>\n",
              "  </thead>\n",
              "  <tbody>\n",
              "    <tr>\n",
              "      <th>0</th>\n",
              "      <td>ug7v899j</td>\n",
              "      <td>d1aafb70c066a2068b02786f8929fd9c900897fb</td>\n",
              "      <td>PMC</td>\n",
              "      <td>Clinical features of culture-proven Mycoplasma...</td>\n",
              "      <td>10.1186/1471-2334-1-6</td>\n",
              "      <td>PMC35282</td>\n",
              "      <td>11472636</td>\n",
              "      <td>no-cc</td>\n",
              "      <td>OBJECTIVE: This retrospective chart review des...</td>\n",
              "      <td>2001-07-04</td>\n",
              "      <td>Madani, Tariq A; Al-Ghamdi, Aisha A</td>\n",
              "      <td>BMC Infect Dis</td>\n",
              "      <td>NaN</td>\n",
              "      <td>NaN</td>\n",
              "      <td>NaN</td>\n",
              "      <td>document_parses/pdf_json/d1aafb70c066a2068b027...</td>\n",
              "      <td>document_parses/pmc_json/PMC35282.xml.json</td>\n",
              "      <td>https://www.ncbi.nlm.nih.gov/pmc/articles/PMC3...</td>\n",
              "      <td>NaN</td>\n",
              "    </tr>\n",
              "    <tr>\n",
              "      <th>1</th>\n",
              "      <td>02tnwd4m</td>\n",
              "      <td>6b0567729c2143a66d737eb0a2f63f2dce2e5a7d</td>\n",
              "      <td>PMC</td>\n",
              "      <td>Nitric oxide: a pro-inflammatory mediator in l...</td>\n",
              "      <td>10.1186/rr14</td>\n",
              "      <td>PMC59543</td>\n",
              "      <td>11667967</td>\n",
              "      <td>no-cc</td>\n",
              "      <td>Inflammatory diseases of the respiratory tract...</td>\n",
              "      <td>2000-08-15</td>\n",
              "      <td>Vliet, Albert van der; Eiserich, Jason P; Cros...</td>\n",
              "      <td>Respir Res</td>\n",
              "      <td>NaN</td>\n",
              "      <td>NaN</td>\n",
              "      <td>NaN</td>\n",
              "      <td>document_parses/pdf_json/6b0567729c2143a66d737...</td>\n",
              "      <td>document_parses/pmc_json/PMC59543.xml.json</td>\n",
              "      <td>https://www.ncbi.nlm.nih.gov/pmc/articles/PMC5...</td>\n",
              "      <td>NaN</td>\n",
              "    </tr>\n",
              "    <tr>\n",
              "      <th>2</th>\n",
              "      <td>ejv2xln0</td>\n",
              "      <td>06ced00a5fc04215949aa72528f2eeaae1d58927</td>\n",
              "      <td>PMC</td>\n",
              "      <td>Surfactant protein-D and pulmonary host defense</td>\n",
              "      <td>10.1186/rr19</td>\n",
              "      <td>PMC59549</td>\n",
              "      <td>11667972</td>\n",
              "      <td>no-cc</td>\n",
              "      <td>Surfactant protein-D (SP-D) participates in th...</td>\n",
              "      <td>2000-08-25</td>\n",
              "      <td>Crouch, Erika C</td>\n",
              "      <td>Respir Res</td>\n",
              "      <td>NaN</td>\n",
              "      <td>NaN</td>\n",
              "      <td>NaN</td>\n",
              "      <td>document_parses/pdf_json/06ced00a5fc04215949aa...</td>\n",
              "      <td>document_parses/pmc_json/PMC59549.xml.json</td>\n",
              "      <td>https://www.ncbi.nlm.nih.gov/pmc/articles/PMC5...</td>\n",
              "      <td>NaN</td>\n",
              "    </tr>\n",
              "    <tr>\n",
              "      <th>3</th>\n",
              "      <td>2b73a28n</td>\n",
              "      <td>348055649b6b8cf2b9a376498df9bf41f7123605</td>\n",
              "      <td>PMC</td>\n",
              "      <td>Role of endothelin-1 in lung disease</td>\n",
              "      <td>10.1186/rr44</td>\n",
              "      <td>PMC59574</td>\n",
              "      <td>11686871</td>\n",
              "      <td>no-cc</td>\n",
              "      <td>Endothelin-1 (ET-1) is a 21 amino acid peptide...</td>\n",
              "      <td>2001-02-22</td>\n",
              "      <td>Fagan, Karen A; McMurtry, Ivan F; Rodman, David M</td>\n",
              "      <td>Respir Res</td>\n",
              "      <td>NaN</td>\n",
              "      <td>NaN</td>\n",
              "      <td>NaN</td>\n",
              "      <td>document_parses/pdf_json/348055649b6b8cf2b9a37...</td>\n",
              "      <td>document_parses/pmc_json/PMC59574.xml.json</td>\n",
              "      <td>https://www.ncbi.nlm.nih.gov/pmc/articles/PMC5...</td>\n",
              "      <td>NaN</td>\n",
              "    </tr>\n",
              "    <tr>\n",
              "      <th>4</th>\n",
              "      <td>9785vg6d</td>\n",
              "      <td>5f48792a5fa08bed9f56016f4981ae2ca6031b32</td>\n",
              "      <td>PMC</td>\n",
              "      <td>Gene expression in epithelial cells in respons...</td>\n",
              "      <td>10.1186/rr61</td>\n",
              "      <td>PMC59580</td>\n",
              "      <td>11686888</td>\n",
              "      <td>no-cc</td>\n",
              "      <td>Respiratory syncytial virus (RSV) and pneumoni...</td>\n",
              "      <td>2001-05-11</td>\n",
              "      <td>Domachowske, Joseph B; Bonville, Cynthia A; Ro...</td>\n",
              "      <td>Respir Res</td>\n",
              "      <td>NaN</td>\n",
              "      <td>NaN</td>\n",
              "      <td>NaN</td>\n",
              "      <td>document_parses/pdf_json/5f48792a5fa08bed9f560...</td>\n",
              "      <td>document_parses/pmc_json/PMC59580.xml.json</td>\n",
              "      <td>https://www.ncbi.nlm.nih.gov/pmc/articles/PMC5...</td>\n",
              "      <td>NaN</td>\n",
              "    </tr>\n",
              "  </tbody>\n",
              "</table>\n",
              "</div>"
            ],
            "text/plain": [
              "   cord_uid                                       sha source_x  \\\n",
              "0  ug7v899j  d1aafb70c066a2068b02786f8929fd9c900897fb      PMC   \n",
              "1  02tnwd4m  6b0567729c2143a66d737eb0a2f63f2dce2e5a7d      PMC   \n",
              "2  ejv2xln0  06ced00a5fc04215949aa72528f2eeaae1d58927      PMC   \n",
              "3  2b73a28n  348055649b6b8cf2b9a376498df9bf41f7123605      PMC   \n",
              "4  9785vg6d  5f48792a5fa08bed9f56016f4981ae2ca6031b32      PMC   \n",
              "\n",
              "                                               title                    doi  \\\n",
              "0  Clinical features of culture-proven Mycoplasma...  10.1186/1471-2334-1-6   \n",
              "1  Nitric oxide: a pro-inflammatory mediator in l...           10.1186/rr14   \n",
              "2    Surfactant protein-D and pulmonary host defense           10.1186/rr19   \n",
              "3               Role of endothelin-1 in lung disease           10.1186/rr44   \n",
              "4  Gene expression in epithelial cells in respons...           10.1186/rr61   \n",
              "\n",
              "      pmcid pubmed_id license  \\\n",
              "0  PMC35282  11472636   no-cc   \n",
              "1  PMC59543  11667967   no-cc   \n",
              "2  PMC59549  11667972   no-cc   \n",
              "3  PMC59574  11686871   no-cc   \n",
              "4  PMC59580  11686888   no-cc   \n",
              "\n",
              "                                            abstract publish_time  \\\n",
              "0  OBJECTIVE: This retrospective chart review des...   2001-07-04   \n",
              "1  Inflammatory diseases of the respiratory tract...   2000-08-15   \n",
              "2  Surfactant protein-D (SP-D) participates in th...   2000-08-25   \n",
              "3  Endothelin-1 (ET-1) is a 21 amino acid peptide...   2001-02-22   \n",
              "4  Respiratory syncytial virus (RSV) and pneumoni...   2001-05-11   \n",
              "\n",
              "                                             authors         journal  mag_id  \\\n",
              "0                Madani, Tariq A; Al-Ghamdi, Aisha A  BMC Infect Dis     NaN   \n",
              "1  Vliet, Albert van der; Eiserich, Jason P; Cros...      Respir Res     NaN   \n",
              "2                                    Crouch, Erika C      Respir Res     NaN   \n",
              "3  Fagan, Karen A; McMurtry, Ivan F; Rodman, David M      Respir Res     NaN   \n",
              "4  Domachowske, Joseph B; Bonville, Cynthia A; Ro...      Respir Res     NaN   \n",
              "\n",
              "  who_covidence_id arxiv_id  \\\n",
              "0              NaN      NaN   \n",
              "1              NaN      NaN   \n",
              "2              NaN      NaN   \n",
              "3              NaN      NaN   \n",
              "4              NaN      NaN   \n",
              "\n",
              "                                      pdf_json_files  \\\n",
              "0  document_parses/pdf_json/d1aafb70c066a2068b027...   \n",
              "1  document_parses/pdf_json/6b0567729c2143a66d737...   \n",
              "2  document_parses/pdf_json/06ced00a5fc04215949aa...   \n",
              "3  document_parses/pdf_json/348055649b6b8cf2b9a37...   \n",
              "4  document_parses/pdf_json/5f48792a5fa08bed9f560...   \n",
              "\n",
              "                               pmc_json_files  \\\n",
              "0  document_parses/pmc_json/PMC35282.xml.json   \n",
              "1  document_parses/pmc_json/PMC59543.xml.json   \n",
              "2  document_parses/pmc_json/PMC59549.xml.json   \n",
              "3  document_parses/pmc_json/PMC59574.xml.json   \n",
              "4  document_parses/pmc_json/PMC59580.xml.json   \n",
              "\n",
              "                                                 url  s2_id  \n",
              "0  https://www.ncbi.nlm.nih.gov/pmc/articles/PMC3...    NaN  \n",
              "1  https://www.ncbi.nlm.nih.gov/pmc/articles/PMC5...    NaN  \n",
              "2  https://www.ncbi.nlm.nih.gov/pmc/articles/PMC5...    NaN  \n",
              "3  https://www.ncbi.nlm.nih.gov/pmc/articles/PMC5...    NaN  \n",
              "4  https://www.ncbi.nlm.nih.gov/pmc/articles/PMC5...    NaN  "
            ]
          },
          "execution_count": 2,
          "metadata": {},
          "output_type": "execute_result"
        }
      ],
      "source": [
        "# ref: https://www.kaggle.com/code/maksimeren/covid-19-literature-clustering\n",
        "# First, manually download data from Kaggle\n",
        "# Second, loading data from local directory\n",
        "metadata_path = './archive/metadata.csv'\n",
        "meta_df = pd.read_csv(metadata_path,low_memory=False)\n",
        "meta_df.head()"
      ]
    },
    {
      "cell_type": "code",
      "execution_count": null,
      "id": "bUupp5g6oGBo",
      "metadata": {
        "id": "bUupp5g6oGBo",
        "outputId": "310a257f-b49b-4361-9743-48345f48ae3c"
      },
      "outputs": [
        {
          "name": "stdout",
          "output_type": "stream",
          "text": [
            "<class 'IPython.utils.text.SList'>\n",
            "The size of PMC JSON file is  315742\n"
          ]
        },
        {
          "data": {
            "text/plain": [
              "['./archive/document_parses/pmc_json/PMC1054884.xml.json',\n",
              " './archive/document_parses/pmc_json/PMC1065028.xml.json',\n",
              " './archive/document_parses/pmc_json/PMC1065064.xml.json',\n",
              " './archive/document_parses/pmc_json/PMC1065120.xml.json',\n",
              " './archive/document_parses/pmc_json/PMC1065257.xml.json']"
            ]
          },
          "execution_count": 3,
          "metadata": {},
          "output_type": "execute_result"
        }
      ],
      "source": [
        "# ref: https://www.kaggle.com/code/maksimeren/covid-19-literature-clustering\n",
        "# fetching PMC JSON file\n",
        "pmc_json = ! ls ./archive/document_parses/pmc_json\n",
        "print(type(pmc_json))\n",
        "print(\"The size of PMC JSON file is \", len(pmc_json))\n",
        "pmc_json = [\"./archive/document_parses/pmc_json/\" + s for s in pmc_json]\n",
        "pmc_json[:5]"
      ]
    },
    {
      "cell_type": "code",
      "execution_count": null,
      "id": "N0jiE25SoGBo",
      "metadata": {
        "id": "N0jiE25SoGBo",
        "outputId": "8fc38fe4-4aa4-41bc-b39a-d3f44860b269"
      },
      "outputs": [
        {
          "name": "stdout",
          "output_type": "stream",
          "text": [
            "PMC1065028: Why can't I visit? The ethics of visitation restrictions – lessons learned from SARS... The sudden emergence of severe acute respiratory syndrome (SARS) in April 2003 caused much concern and reaction. Refereed medical journals ever since have been rife with articles about SARS. The event...\n"
          ]
        }
      ],
      "source": [
        "# ref: https://www.kaggle.com/code/maksimeren/covid-19-literature-clustering\n",
        "# Reader class for JSON file\n",
        "class Reader:\n",
        "    def __init__(self, file_path):\n",
        "        with open(file_path) as f:\n",
        "            content = json.load(f)\n",
        "            self.paper_id = content['paper_id']\n",
        "            self.title = content['metadata']['title']\n",
        "            self.body_text = []\n",
        "            # Body text\n",
        "            for entry in content['body_text']:\n",
        "                self.body_text.append(entry['text'])   \n",
        "            self.body_text = '\\n'.join(self.body_text)\n",
        "    def __repr__(self):\n",
        "        return f'{self.paper_id}: {self.title[:200]}... {self.body_text[:200]}...'\n",
        "    \n",
        "first_row = Reader(pmc_json[1])\n",
        "print(first_row)"
      ]
    },
    {
      "cell_type": "code",
      "execution_count": null,
      "id": "GHnytJe8oGBp",
      "metadata": {
        "id": "GHnytJe8oGBp"
      },
      "outputs": [],
      "source": [
        "# ref: https://www.kaggle.com/code/maksimeren/covid-19-literature-clustering\n",
        "# Data Sampling\n",
        "def data_sampling(sample_size):\n",
        "\n",
        "    # Using random seed to sample data  \n",
        "    import random\n",
        "    random.seed(0)\n",
        "    pmc_sample = random.sample(pmc_json, sample_size)\n",
        "\n",
        "    # Data sampling\n",
        "    article_df = {\n",
        "        'docid': [],\n",
        "        'doi': [], \n",
        "        'authors': [], \n",
        "        'title': [], \n",
        "        'journal': [],\n",
        "        'body': []}\n",
        "\n",
        "    for idx, entry in tqdm(enumerate(pmc_sample), total = len(pmc_sample)):\n",
        "        try:\n",
        "            content = Reader(entry)\n",
        "        except Exception as e:\n",
        "            continue  # invalid paper format, skip\n",
        "        \n",
        "        # get metadata information\n",
        "        meta_data = meta_df.loc[meta_df['pmcid'] == content.paper_id]\n",
        "        # no metadata, skip this paper\n",
        "        if len(meta_data) == 0:\n",
        "            continue\n",
        "        if len(content.body_text) == 0:\n",
        "            continue\n",
        "            \n",
        "        \n",
        "        article_df['body'].append(content.body_text)\n",
        "        article_df['title'].append(content.title)\n",
        "        article_df['docid'].append(meta_data['cord_uid'].values[0])\n",
        "        article_df['authors'].append(meta_data['authors'].values[0])\n",
        "        \n",
        "        # add the journal information\n",
        "        article_df['journal'].append(meta_data['journal'].values[0])\n",
        "        \n",
        "        # add doi\n",
        "        article_df['doi'].append(meta_data['doi'].values[0])\n",
        "    covid_df = pd.DataFrame(article_df, columns=['docid','doi', 'authors', 'title', 'journal','body'])\n",
        "    return covid_df"
      ]
    },
    {
      "cell_type": "code",
      "execution_count": null,
      "id": "4wNebdBCqH0q",
      "metadata": {
        "id": "4wNebdBCqH0q",
        "outputId": "bc3ebf50-002e-466a-d6ec-afe2e87a8a1e"
      },
      "outputs": [
        {
          "name": "stderr",
          "output_type": "stream",
          "text": [
            "100%|█████████████████████████████████████| 10000/10000 [06:04<00:00, 27.46it/s]\n"
          ]
        }
      ],
      "source": [
        "# Data downsampling\n",
        "sample_size = 10000\n",
        "covid_df = data_sampling(sample_size)\n",
        "# Save dataset as csv\n",
        "covid_df.to_csv(\"covid_articles.csv\",index=False)"
      ]
    },
    {
      "cell_type": "markdown",
      "id": "k6x_cfJBOQSi",
      "metadata": {
        "id": "k6x_cfJBOQSi"
      },
      "source": [
        "#### 1.3 Data Pre-processing"
      ]
    },
    {
      "cell_type": "code",
      "execution_count": null,
      "id": "4e8e40e5",
      "metadata": {
        "colab": {
          "base_uri": "https://localhost:8080/",
          "height": 476
        },
        "id": "4e8e40e5",
        "outputId": "b39a5b16-a9ea-4a6b-b38e-9ba645fe67df"
      },
      "outputs": [
        {
          "output_type": "execute_result",
          "data": {
            "text/plain": [
              "      docid                          doi  \\\n",
              "0  ynh8eo6x   10.1007/s11125-021-09564-8   \n",
              "1  g0bgp3t7    10.3389/fimmu.2021.754642   \n",
              "2  x1r99rlm            10.3382/ps/pev336   \n",
              "3  m5pwtv7d  10.1007/978-3-030-51761-8_5   \n",
              "4  ztzsj45b        10.3390/cells11030575   \n",
              "\n",
              "                                             authors  \\\n",
              "0                        Amin, Nyna; Mahabeer, Pryah   \n",
              "1  Coleman, Celeste; Doyle-Meyers, Lara A.; Russe...   \n",
              "2      Yokhana, J. S.; Parkinson, G.; Frankel, T. L.   \n",
              "3                               Alonayq, Abdulmohsen   \n",
              "4  Suzuki, Hiroyuki; Kaneko, Mika K.; Kato, Yukinari   \n",
              "\n",
              "                                               title  \\\n",
              "0  Curriculum tinkering in situations of crises a...   \n",
              "1  Similarities and Differences in the Acute-Phas...   \n",
              "2  Effect of insoluble fiber supplementation appl...   \n",
              "3  Narrating Arabic Translation Online: Another P...   \n",
              "4  Roles of Podoplanin in Malignant Progression o...   \n",
              "\n",
              "                         journal  \\\n",
              "0              Prospects (Paris)   \n",
              "1                  Front Immunol   \n",
              "2                      Poult Sci   \n",
              "3  When Translation Goes Digital   \n",
              "4                          Cells   \n",
              "\n",
              "                                                body  \n",
              "0  In this section, we provide an overview of Sou...  \n",
              "1  The rapid emergence and dissemination of sever...  \n",
              "2  Growth and development in layer pullets during...  \n",
              "3  The translation sector has seen an increase in...  \n",
              "4  Podoplanin (PDPN)/T1α/E11 antigen/PA2.26 antig...  "
            ],
            "text/html": [
              "\n",
              "  <div id=\"df-e33812a9-78d0-49ba-acac-b892035d220b\">\n",
              "    <div class=\"colab-df-container\">\n",
              "      <div>\n",
              "<style scoped>\n",
              "    .dataframe tbody tr th:only-of-type {\n",
              "        vertical-align: middle;\n",
              "    }\n",
              "\n",
              "    .dataframe tbody tr th {\n",
              "        vertical-align: top;\n",
              "    }\n",
              "\n",
              "    .dataframe thead th {\n",
              "        text-align: right;\n",
              "    }\n",
              "</style>\n",
              "<table border=\"1\" class=\"dataframe\">\n",
              "  <thead>\n",
              "    <tr style=\"text-align: right;\">\n",
              "      <th></th>\n",
              "      <th>docid</th>\n",
              "      <th>doi</th>\n",
              "      <th>authors</th>\n",
              "      <th>title</th>\n",
              "      <th>journal</th>\n",
              "      <th>body</th>\n",
              "    </tr>\n",
              "  </thead>\n",
              "  <tbody>\n",
              "    <tr>\n",
              "      <th>0</th>\n",
              "      <td>ynh8eo6x</td>\n",
              "      <td>10.1007/s11125-021-09564-8</td>\n",
              "      <td>Amin, Nyna; Mahabeer, Pryah</td>\n",
              "      <td>Curriculum tinkering in situations of crises a...</td>\n",
              "      <td>Prospects (Paris)</td>\n",
              "      <td>In this section, we provide an overview of Sou...</td>\n",
              "    </tr>\n",
              "    <tr>\n",
              "      <th>1</th>\n",
              "      <td>g0bgp3t7</td>\n",
              "      <td>10.3389/fimmu.2021.754642</td>\n",
              "      <td>Coleman, Celeste; Doyle-Meyers, Lara A.; Russe...</td>\n",
              "      <td>Similarities and Differences in the Acute-Phas...</td>\n",
              "      <td>Front Immunol</td>\n",
              "      <td>The rapid emergence and dissemination of sever...</td>\n",
              "    </tr>\n",
              "    <tr>\n",
              "      <th>2</th>\n",
              "      <td>x1r99rlm</td>\n",
              "      <td>10.3382/ps/pev336</td>\n",
              "      <td>Yokhana, J. S.; Parkinson, G.; Frankel, T. L.</td>\n",
              "      <td>Effect of insoluble fiber supplementation appl...</td>\n",
              "      <td>Poult Sci</td>\n",
              "      <td>Growth and development in layer pullets during...</td>\n",
              "    </tr>\n",
              "    <tr>\n",
              "      <th>3</th>\n",
              "      <td>m5pwtv7d</td>\n",
              "      <td>10.1007/978-3-030-51761-8_5</td>\n",
              "      <td>Alonayq, Abdulmohsen</td>\n",
              "      <td>Narrating Arabic Translation Online: Another P...</td>\n",
              "      <td>When Translation Goes Digital</td>\n",
              "      <td>The translation sector has seen an increase in...</td>\n",
              "    </tr>\n",
              "    <tr>\n",
              "      <th>4</th>\n",
              "      <td>ztzsj45b</td>\n",
              "      <td>10.3390/cells11030575</td>\n",
              "      <td>Suzuki, Hiroyuki; Kaneko, Mika K.; Kato, Yukinari</td>\n",
              "      <td>Roles of Podoplanin in Malignant Progression o...</td>\n",
              "      <td>Cells</td>\n",
              "      <td>Podoplanin (PDPN)/T1α/E11 antigen/PA2.26 antig...</td>\n",
              "    </tr>\n",
              "  </tbody>\n",
              "</table>\n",
              "</div>\n",
              "      <button class=\"colab-df-convert\" onclick=\"convertToInteractive('df-e33812a9-78d0-49ba-acac-b892035d220b')\"\n",
              "              title=\"Convert this dataframe to an interactive table.\"\n",
              "              style=\"display:none;\">\n",
              "        \n",
              "  <svg xmlns=\"http://www.w3.org/2000/svg\" height=\"24px\"viewBox=\"0 0 24 24\"\n",
              "       width=\"24px\">\n",
              "    <path d=\"M0 0h24v24H0V0z\" fill=\"none\"/>\n",
              "    <path d=\"M18.56 5.44l.94 2.06.94-2.06 2.06-.94-2.06-.94-.94-2.06-.94 2.06-2.06.94zm-11 1L8.5 8.5l.94-2.06 2.06-.94-2.06-.94L8.5 2.5l-.94 2.06-2.06.94zm10 10l.94 2.06.94-2.06 2.06-.94-2.06-.94-.94-2.06-.94 2.06-2.06.94z\"/><path d=\"M17.41 7.96l-1.37-1.37c-.4-.4-.92-.59-1.43-.59-.52 0-1.04.2-1.43.59L10.3 9.45l-7.72 7.72c-.78.78-.78 2.05 0 2.83L4 21.41c.39.39.9.59 1.41.59.51 0 1.02-.2 1.41-.59l7.78-7.78 2.81-2.81c.8-.78.8-2.07 0-2.86zM5.41 20L4 18.59l7.72-7.72 1.47 1.35L5.41 20z\"/>\n",
              "  </svg>\n",
              "      </button>\n",
              "      \n",
              "  <style>\n",
              "    .colab-df-container {\n",
              "      display:flex;\n",
              "      flex-wrap:wrap;\n",
              "      gap: 12px;\n",
              "    }\n",
              "\n",
              "    .colab-df-convert {\n",
              "      background-color: #E8F0FE;\n",
              "      border: none;\n",
              "      border-radius: 50%;\n",
              "      cursor: pointer;\n",
              "      display: none;\n",
              "      fill: #1967D2;\n",
              "      height: 32px;\n",
              "      padding: 0 0 0 0;\n",
              "      width: 32px;\n",
              "    }\n",
              "\n",
              "    .colab-df-convert:hover {\n",
              "      background-color: #E2EBFA;\n",
              "      box-shadow: 0px 1px 2px rgba(60, 64, 67, 0.3), 0px 1px 3px 1px rgba(60, 64, 67, 0.15);\n",
              "      fill: #174EA6;\n",
              "    }\n",
              "\n",
              "    [theme=dark] .colab-df-convert {\n",
              "      background-color: #3B4455;\n",
              "      fill: #D2E3FC;\n",
              "    }\n",
              "\n",
              "    [theme=dark] .colab-df-convert:hover {\n",
              "      background-color: #434B5C;\n",
              "      box-shadow: 0px 1px 3px 1px rgba(0, 0, 0, 0.15);\n",
              "      filter: drop-shadow(0px 1px 2px rgba(0, 0, 0, 0.3));\n",
              "      fill: #FFFFFF;\n",
              "    }\n",
              "  </style>\n",
              "\n",
              "      <script>\n",
              "        const buttonEl =\n",
              "          document.querySelector('#df-e33812a9-78d0-49ba-acac-b892035d220b button.colab-df-convert');\n",
              "        buttonEl.style.display =\n",
              "          google.colab.kernel.accessAllowed ? 'block' : 'none';\n",
              "\n",
              "        async function convertToInteractive(key) {\n",
              "          const element = document.querySelector('#df-e33812a9-78d0-49ba-acac-b892035d220b');\n",
              "          const dataTable =\n",
              "            await google.colab.kernel.invokeFunction('convertToInteractive',\n",
              "                                                     [key], {});\n",
              "          if (!dataTable) return;\n",
              "\n",
              "          const docLinkHtml = 'Like what you see? Visit the ' +\n",
              "            '<a target=\"_blank\" href=https://colab.research.google.com/notebooks/data_table.ipynb>data table notebook</a>'\n",
              "            + ' to learn more about interactive tables.';\n",
              "          element.innerHTML = '';\n",
              "          dataTable['output_type'] = 'display_data';\n",
              "          await google.colab.output.renderOutput(dataTable, element);\n",
              "          const docLink = document.createElement('div');\n",
              "          docLink.innerHTML = docLinkHtml;\n",
              "          element.appendChild(docLink);\n",
              "        }\n",
              "      </script>\n",
              "    </div>\n",
              "  </div>\n",
              "  "
            ]
          },
          "metadata": {},
          "execution_count": 84
        }
      ],
      "source": [
        "# Overview of sampled data\n",
        "# data_v1: original data\n",
        "data_v1 = pd.read_csv(\"/content/drive/My Drive/covid_articles.csv\", index_col=False)\n",
        "data_v1.head()"
      ]
    },
    {
      "cell_type": "code",
      "execution_count": null,
      "id": "bc2a4ee3",
      "metadata": {
        "colab": {
          "base_uri": "https://localhost:8080/"
        },
        "id": "bc2a4ee3",
        "outputId": "6688f527-c708-40c8-aebc-ee86f9fa31f8"
      },
      "outputs": [
        {
          "output_type": "stream",
          "name": "stdout",
          "text": [
            "<class 'pandas.core.frame.DataFrame'>\n",
            "RangeIndex: 10000 entries, 0 to 9999\n",
            "Data columns (total 6 columns):\n",
            " #   Column   Non-Null Count  Dtype \n",
            "---  ------   --------------  ----- \n",
            " 0   docid    10000 non-null  object\n",
            " 1   doi      9973 non-null   object\n",
            " 2   authors  9849 non-null   object\n",
            " 3   title    10000 non-null  object\n",
            " 4   journal  9946 non-null   object\n",
            " 5   body     10000 non-null  object\n",
            "dtypes: object(6)\n",
            "memory usage: 468.9+ KB\n"
          ]
        }
      ],
      "source": [
        "# Step 1: Checking data type\n",
        "data_v1.info()"
      ]
    },
    {
      "cell_type": "code",
      "execution_count": null,
      "id": "0a7b3d4a",
      "metadata": {
        "colab": {
          "base_uri": "https://localhost:8080/"
        },
        "id": "0a7b3d4a",
        "outputId": "fcbe081c-1f12-4c89-aa18-3eed9853b7b6"
      },
      "outputs": [
        {
          "output_type": "stream",
          "name": "stdout",
          "text": [
            "data_v2: handling missing value\n",
            "Missing value in original data data_v1\n",
            " docid        0\n",
            "doi         27\n",
            "authors    151\n",
            "title        0\n",
            "journal     54\n",
            "body         0\n",
            "dtype: int64\n",
            "____________________\n",
            "Missing value in new data data_v2\n",
            " docid      0\n",
            "doi        0\n",
            "authors    0\n",
            "title      0\n",
            "journal    0\n",
            "body       0\n",
            "dtype: int64\n"
          ]
        }
      ],
      "source": [
        "# Step 2: Handling missing value\n",
        "def handling_missing_value(data):\n",
        "    # checking missing value\n",
        "    print(\"Missing value in original data data_v1\\n\", data.isnull().sum())\n",
        "    # Handling missing value\n",
        "    data['doi'] = data['doi'].fillna('No_doi')\n",
        "    data['authors'] = data['authors'].fillna('No_authors')\n",
        "    data['journal'] = data['journal'].fillna('No_journal')\n",
        "    # checking missing value after handling missing value\n",
        "    print(\"_\"*20)\n",
        "    print(\"Missing value in new data data_v2\\n\", data.isnull().sum())\n",
        "    return data\n",
        "\n",
        "print(\"data_v2: handling missing value\")\n",
        "data_v2 = handling_missing_value(data_v1)"
      ]
    },
    {
      "cell_type": "code",
      "execution_count": null,
      "id": "5fc5642b",
      "metadata": {
        "id": "5fc5642b"
      },
      "outputs": [],
      "source": [
        "# Step 3: Data pre-processing\n",
        "stop_words = stopwords.words('english')\n",
        "stop_words.extend([\"This\", \"The\", \"the\"])\n",
        "def pre_process(data):\n",
        "\n",
        "    # regular expression to match text patterns\n",
        "    s = \" \\[(?=.*\\d).*?\\]\" \n",
        "\n",
        "    # Removing stopwords + Lemmalization\n",
        "    # Stop words are common words that are typically removed from text data before analysis.\n",
        "    # Lemmatization is the process of reducing a word to its base form, known as its lemma.   \n",
        "    lemmatizer = WordNetLemmatizer()\n",
        "    result = [\" \".join([lemmatizer.lemmatize(word) for word in re.sub(s, \"\", text).split() if word not in stop_words]) for text in data]\n",
        "\n",
        "    return result"
      ]
    },
    {
      "cell_type": "code",
      "source": [
        "# data_v2['clean'] includes data_v2['body'] pre-processing\n",
        "data_v2['clean'] = pre_process(data_v2['body'])\n",
        "# Save dataset as csv\n",
        "data_v2.to_csv(\"/content/drive/My Drive/covid_data_v2.csv\",index=False)"
      ],
      "metadata": {
        "id": "EVwcT0tt5gCM"
      },
      "id": "EVwcT0tt5gCM",
      "execution_count": null,
      "outputs": []
    },
    {
      "cell_type": "code",
      "source": [
        "# data_v2_clean: data_v2 + pre-processing\n",
        "data_v2_clean = pd.read_csv(\"/content/drive/My Drive/covid_data_v2.csv\", index_col=False)\n",
        "data_v2_clean.head()"
      ],
      "metadata": {
        "colab": {
          "base_uri": "https://localhost:8080/",
          "height": 337
        },
        "id": "rCljso_vRhyr",
        "outputId": "7d6abf8b-3acf-496a-c618-9dc7522a6650"
      },
      "id": "rCljso_vRhyr",
      "execution_count": 4,
      "outputs": [
        {
          "output_type": "execute_result",
          "data": {
            "text/plain": [
              "      docid                          doi  \\\n",
              "0  ynh8eo6x   10.1007/s11125-021-09564-8   \n",
              "1  g0bgp3t7    10.3389/fimmu.2021.754642   \n",
              "2  x1r99rlm            10.3382/ps/pev336   \n",
              "3  m5pwtv7d  10.1007/978-3-030-51761-8_5   \n",
              "4  ztzsj45b        10.3390/cells11030575   \n",
              "\n",
              "                                             authors  \\\n",
              "0                        Amin, Nyna; Mahabeer, Pryah   \n",
              "1  Coleman, Celeste; Doyle-Meyers, Lara A.; Russe...   \n",
              "2      Yokhana, J. S.; Parkinson, G.; Frankel, T. L.   \n",
              "3                               Alonayq, Abdulmohsen   \n",
              "4  Suzuki, Hiroyuki; Kaneko, Mika K.; Kato, Yukinari   \n",
              "\n",
              "                                               title  \\\n",
              "0  Curriculum tinkering in situations of crises a...   \n",
              "1  Similarities and Differences in the Acute-Phas...   \n",
              "2  Effect of insoluble fiber supplementation appl...   \n",
              "3  Narrating Arabic Translation Online: Another P...   \n",
              "4  Roles of Podoplanin in Malignant Progression o...   \n",
              "\n",
              "                         journal  \\\n",
              "0              Prospects (Paris)   \n",
              "1                  Front Immunol   \n",
              "2                      Poult Sci   \n",
              "3  When Translation Goes Digital   \n",
              "4                          Cells   \n",
              "\n",
              "                                                body  \\\n",
              "0  In this section, we provide an overview of Sou...   \n",
              "1  The rapid emergence and dissemination of sever...   \n",
              "2  Growth and development in layer pullets during...   \n",
              "3  The translation sector has seen an increase in...   \n",
              "4  Podoplanin (PDPN)/T1α/E11 antigen/PA2.26 antig...   \n",
              "\n",
              "                                               clean  \n",
              "0  In section, provide overview South Africa’s de...  \n",
              "1  rapid emergence dissemination severe acute res...  \n",
              "2  Growth development layer pullet rearing early ...  \n",
              "3  translation sector seen increase volunteer tra...  \n",
              "4  Podoplanin (PDPN)/T1α/E11 antigen/PA2.26 antig...  "
            ],
            "text/html": [
              "\n",
              "  <div id=\"df-3485a0bc-f618-45d9-a84f-2afe8f01dee6\">\n",
              "    <div class=\"colab-df-container\">\n",
              "      <div>\n",
              "<style scoped>\n",
              "    .dataframe tbody tr th:only-of-type {\n",
              "        vertical-align: middle;\n",
              "    }\n",
              "\n",
              "    .dataframe tbody tr th {\n",
              "        vertical-align: top;\n",
              "    }\n",
              "\n",
              "    .dataframe thead th {\n",
              "        text-align: right;\n",
              "    }\n",
              "</style>\n",
              "<table border=\"1\" class=\"dataframe\">\n",
              "  <thead>\n",
              "    <tr style=\"text-align: right;\">\n",
              "      <th></th>\n",
              "      <th>docid</th>\n",
              "      <th>doi</th>\n",
              "      <th>authors</th>\n",
              "      <th>title</th>\n",
              "      <th>journal</th>\n",
              "      <th>body</th>\n",
              "      <th>clean</th>\n",
              "    </tr>\n",
              "  </thead>\n",
              "  <tbody>\n",
              "    <tr>\n",
              "      <th>0</th>\n",
              "      <td>ynh8eo6x</td>\n",
              "      <td>10.1007/s11125-021-09564-8</td>\n",
              "      <td>Amin, Nyna; Mahabeer, Pryah</td>\n",
              "      <td>Curriculum tinkering in situations of crises a...</td>\n",
              "      <td>Prospects (Paris)</td>\n",
              "      <td>In this section, we provide an overview of Sou...</td>\n",
              "      <td>In section, provide overview South Africa’s de...</td>\n",
              "    </tr>\n",
              "    <tr>\n",
              "      <th>1</th>\n",
              "      <td>g0bgp3t7</td>\n",
              "      <td>10.3389/fimmu.2021.754642</td>\n",
              "      <td>Coleman, Celeste; Doyle-Meyers, Lara A.; Russe...</td>\n",
              "      <td>Similarities and Differences in the Acute-Phas...</td>\n",
              "      <td>Front Immunol</td>\n",
              "      <td>The rapid emergence and dissemination of sever...</td>\n",
              "      <td>rapid emergence dissemination severe acute res...</td>\n",
              "    </tr>\n",
              "    <tr>\n",
              "      <th>2</th>\n",
              "      <td>x1r99rlm</td>\n",
              "      <td>10.3382/ps/pev336</td>\n",
              "      <td>Yokhana, J. S.; Parkinson, G.; Frankel, T. L.</td>\n",
              "      <td>Effect of insoluble fiber supplementation appl...</td>\n",
              "      <td>Poult Sci</td>\n",
              "      <td>Growth and development in layer pullets during...</td>\n",
              "      <td>Growth development layer pullet rearing early ...</td>\n",
              "    </tr>\n",
              "    <tr>\n",
              "      <th>3</th>\n",
              "      <td>m5pwtv7d</td>\n",
              "      <td>10.1007/978-3-030-51761-8_5</td>\n",
              "      <td>Alonayq, Abdulmohsen</td>\n",
              "      <td>Narrating Arabic Translation Online: Another P...</td>\n",
              "      <td>When Translation Goes Digital</td>\n",
              "      <td>The translation sector has seen an increase in...</td>\n",
              "      <td>translation sector seen increase volunteer tra...</td>\n",
              "    </tr>\n",
              "    <tr>\n",
              "      <th>4</th>\n",
              "      <td>ztzsj45b</td>\n",
              "      <td>10.3390/cells11030575</td>\n",
              "      <td>Suzuki, Hiroyuki; Kaneko, Mika K.; Kato, Yukinari</td>\n",
              "      <td>Roles of Podoplanin in Malignant Progression o...</td>\n",
              "      <td>Cells</td>\n",
              "      <td>Podoplanin (PDPN)/T1α/E11 antigen/PA2.26 antig...</td>\n",
              "      <td>Podoplanin (PDPN)/T1α/E11 antigen/PA2.26 antig...</td>\n",
              "    </tr>\n",
              "  </tbody>\n",
              "</table>\n",
              "</div>\n",
              "      <button class=\"colab-df-convert\" onclick=\"convertToInteractive('df-3485a0bc-f618-45d9-a84f-2afe8f01dee6')\"\n",
              "              title=\"Convert this dataframe to an interactive table.\"\n",
              "              style=\"display:none;\">\n",
              "        \n",
              "  <svg xmlns=\"http://www.w3.org/2000/svg\" height=\"24px\"viewBox=\"0 0 24 24\"\n",
              "       width=\"24px\">\n",
              "    <path d=\"M0 0h24v24H0V0z\" fill=\"none\"/>\n",
              "    <path d=\"M18.56 5.44l.94 2.06.94-2.06 2.06-.94-2.06-.94-.94-2.06-.94 2.06-2.06.94zm-11 1L8.5 8.5l.94-2.06 2.06-.94-2.06-.94L8.5 2.5l-.94 2.06-2.06.94zm10 10l.94 2.06.94-2.06 2.06-.94-2.06-.94-.94-2.06-.94 2.06-2.06.94z\"/><path d=\"M17.41 7.96l-1.37-1.37c-.4-.4-.92-.59-1.43-.59-.52 0-1.04.2-1.43.59L10.3 9.45l-7.72 7.72c-.78.78-.78 2.05 0 2.83L4 21.41c.39.39.9.59 1.41.59.51 0 1.02-.2 1.41-.59l7.78-7.78 2.81-2.81c.8-.78.8-2.07 0-2.86zM5.41 20L4 18.59l7.72-7.72 1.47 1.35L5.41 20z\"/>\n",
              "  </svg>\n",
              "      </button>\n",
              "      \n",
              "  <style>\n",
              "    .colab-df-container {\n",
              "      display:flex;\n",
              "      flex-wrap:wrap;\n",
              "      gap: 12px;\n",
              "    }\n",
              "\n",
              "    .colab-df-convert {\n",
              "      background-color: #E8F0FE;\n",
              "      border: none;\n",
              "      border-radius: 50%;\n",
              "      cursor: pointer;\n",
              "      display: none;\n",
              "      fill: #1967D2;\n",
              "      height: 32px;\n",
              "      padding: 0 0 0 0;\n",
              "      width: 32px;\n",
              "    }\n",
              "\n",
              "    .colab-df-convert:hover {\n",
              "      background-color: #E2EBFA;\n",
              "      box-shadow: 0px 1px 2px rgba(60, 64, 67, 0.3), 0px 1px 3px 1px rgba(60, 64, 67, 0.15);\n",
              "      fill: #174EA6;\n",
              "    }\n",
              "\n",
              "    [theme=dark] .colab-df-convert {\n",
              "      background-color: #3B4455;\n",
              "      fill: #D2E3FC;\n",
              "    }\n",
              "\n",
              "    [theme=dark] .colab-df-convert:hover {\n",
              "      background-color: #434B5C;\n",
              "      box-shadow: 0px 1px 3px 1px rgba(0, 0, 0, 0.15);\n",
              "      filter: drop-shadow(0px 1px 2px rgba(0, 0, 0, 0.3));\n",
              "      fill: #FFFFFF;\n",
              "    }\n",
              "  </style>\n",
              "\n",
              "      <script>\n",
              "        const buttonEl =\n",
              "          document.querySelector('#df-3485a0bc-f618-45d9-a84f-2afe8f01dee6 button.colab-df-convert');\n",
              "        buttonEl.style.display =\n",
              "          google.colab.kernel.accessAllowed ? 'block' : 'none';\n",
              "\n",
              "        async function convertToInteractive(key) {\n",
              "          const element = document.querySelector('#df-3485a0bc-f618-45d9-a84f-2afe8f01dee6');\n",
              "          const dataTable =\n",
              "            await google.colab.kernel.invokeFunction('convertToInteractive',\n",
              "                                                     [key], {});\n",
              "          if (!dataTable) return;\n",
              "\n",
              "          const docLinkHtml = 'Like what you see? Visit the ' +\n",
              "            '<a target=\"_blank\" href=https://colab.research.google.com/notebooks/data_table.ipynb>data table notebook</a>'\n",
              "            + ' to learn more about interactive tables.';\n",
              "          element.innerHTML = '';\n",
              "          dataTable['output_type'] = 'display_data';\n",
              "          await google.colab.output.renderOutput(dataTable, element);\n",
              "          const docLink = document.createElement('div');\n",
              "          docLink.innerHTML = docLinkHtml;\n",
              "          element.appendChild(docLink);\n",
              "        }\n",
              "      </script>\n",
              "    </div>\n",
              "  </div>\n",
              "  "
            ]
          },
          "metadata": {},
          "execution_count": 4
        }
      ]
    },
    {
      "cell_type": "markdown",
      "id": "31d75afc",
      "metadata": {
        "id": "31d75afc"
      },
      "source": [
        "### 2. Named Entity Recognition and Knowledge Base"
      ]
    },
    {
      "cell_type": "markdown",
      "source": [
        "#### 2.1 Summary\n",
        "For NER, we use **Spacy** by **get_ner function** to recognize named entitites as it has better performance compared to NLTK. Our NER (called **entities**) is a dictionary using \"docid\" as keys, while a list of dictionaries (named entities and named entities labels as key) are associated items related to a specail key(Section 2.2 NER).\n",
        "\n",
        "For Knowledge Base, we create a dictionary called self.kb in Knowledge Base class. The keys are canonical names, such as \"COVID-19\", and values for each key are {\"relation\": xx, \"objects\"(associated name): [xx,xx]}. We would like to use KB \"relation\" to help text matching in sentence level and find a better answer according to relation in Section 4 Test Matching Utility. Use KB \"object\" in case that we miss some associated named entities, for example, \"covid\", \"COVD-19\". \n",
        "\n",
        "It can be more complex such as build a knowledge base by anaylzeing each sentence and create dictionary/DataFrame for each sentence in all sample articles. However, it can be time consuming which is not suitable for this small project. But it may be an experiment in the feature. Also, as we removing stopwords, which will affect us to construct relationship of each sentence.\n",
        "\n",
        "In our experiment, manualy build knowledge base has correct relationship between subjects and objects compared to auto build knowledge base, in which using tagging to analysis each word in a sentence. (Section 2.3 Knowledge Base)\n",
        "\n",
        "P.S. Save NER dictionary to json file as it is very large and needs massive computing time. **In order to handle a small knowledge base and entities, we only use the first 30 articles for experiments in the following part**."
      ],
      "metadata": {
        "id": "L5MaXow4Hcbo"
      },
      "id": "L5MaXow4Hcbo"
    },
    {
      "cell_type": "markdown",
      "id": "e0f5f75d",
      "metadata": {
        "id": "e0f5f75d"
      },
      "source": [
        "#### 2.2 NER"
      ]
    },
    {
      "cell_type": "code",
      "source": [
        "from spacy import displacy\n",
        "class named_entity_recognition:\n",
        "    def __init__(self):\n",
        "        self.NER = {}\n",
        "    \n",
        "    def example(self, doc):\n",
        "        # Process whole document\n",
        "        text = nlp(doc)\n",
        "        displacy.render(text, style=\"ent\",jupyter=True)\n",
        "        return None\n",
        "    \n",
        "    def get_ner(self, data):\n",
        "        \"\"\"\n",
        "        The function is about name entity recognition.\n",
        "        Input:\n",
        "        data-> whole data includes \"docid\" and \"clean\"\n",
        "        Output: dictionary\n",
        "\n",
        "        \"\"\"\n",
        "\n",
        "        for i in range(data.shape[0]):\n",
        "            # Get document id\n",
        "            key = data['docid'][i]\n",
        "            # Process whole documents\n",
        "            text = nlp(str(data['clean'][i]))\n",
        "            # Find named entities, labels\n",
        "            for ent in text.ents: \n",
        "                # Check named entities existing or not\n",
        "                if key not in self.NER.keys():\n",
        "                    self.NER[key] = [{\"text\":ent.text.strip(),\"label\":ent.label_}]\n",
        "                else:\n",
        "                    # Avoid duplicate named entities\n",
        "                    if [ent.text.strip(), ent.label_] not in self.NER[key]:\n",
        "                        self.NER[key].append({\"text\":ent.text.strip(),\"label\":ent.label_})    \n",
        "        return self.NER"
      ],
      "metadata": {
        "id": "OZEKVge1S8Xb"
      },
      "id": "OZEKVge1S8Xb",
      "execution_count": null,
      "outputs": []
    },
    {
      "cell_type": "code",
      "source": [
        "ner = named_entity_recognition()\n",
        "# visualization of part of named entities from an article\n",
        "ner.example(data_v2_clean['clean'][0][:400])"
      ],
      "metadata": {
        "colab": {
          "base_uri": "https://localhost:8080/",
          "height": 157
        },
        "id": "kLQCfpr_fk7q",
        "outputId": "f06bb1c9-711b-4b14-9aeb-05c41ba5be84"
      },
      "id": "kLQCfpr_fk7q",
      "execution_count": null,
      "outputs": [
        {
          "output_type": "display_data",
          "data": {
            "text/plain": [
              "<IPython.core.display.HTML object>"
            ],
            "text/html": [
              "<span class=\"tex2jax_ignore\"><div class=\"entities\" style=\"line-height: 2.5; direction: ltr\">In section, provide overview \n",
              "<mark class=\"entity\" style=\"background: #feca74; padding: 0.45em 0.6em; margin: 0 0.25em; line-height: 1; border-radius: 0.35em;\">\n",
              "    South Africa’s\n",
              "    <span style=\"font-size: 0.8em; font-weight: bold; line-height: 1; border-radius: 0.35em; vertical-align: middle; margin-left: 0.5rem\">GPE</span>\n",
              "</mark>\n",
              " demographic framework ass curriculum recovery plan. situational reading recovery plan necessary education curriculum represent constitute material basis political motif interest (see, Brennan \n",
              "<mark class=\"entity\" style=\"background: #bfe1d9; padding: 0.45em 0.6em; margin: 0 0.25em; line-height: 1; border-radius: 0.35em;\">\n",
              "    2011\n",
              "    <span style=\"font-size: 0.8em; font-weight: bold; line-height: 1; border-radius: 0.35em; vertical-align: middle; margin-left: 0.5rem\">DATE</span>\n",
              "</mark>\n",
              "; \n",
              "<mark class=\"entity\" style=\"background: #feca74; padding: 0.45em 0.6em; margin: 0 0.25em; line-height: 1; border-radius: 0.35em;\">\n",
              "    Shrestha\n",
              "    <span style=\"font-size: 0.8em; font-weight: bold; line-height: 1; border-radius: 0.35em; vertical-align: middle; margin-left: 0.5rem\">GPE</span>\n",
              "</mark>\n",
              " et \n",
              "<mark class=\"entity\" style=\"background: #feca74; padding: 0.45em 0.6em; margin: 0 0.25em; line-height: 1; border-radius: 0.35em;\">\n",
              "    al. 2019\n",
              "    <span style=\"font-size: 0.8em; font-weight: bold; line-height: 1; border-radius: 0.35em; vertical-align: middle; margin-left: 0.5rem\">GPE</span>\n",
              "</mark>\n",
              "). It state’s responsibility provide condition optimal learning outcomes; therefore, important describe context \n",
              "<mark class=\"entity\" style=\"background: #c887fb; padding: 0.45em 0.6em; margin: 0 0.25em; line-height: 1; border-radius: 0.35em;\">\n",
              "    South African\n",
              "    <span style=\"font-size: 0.8em; font-weight: bold; line-height: 1; border-radius: 0.35em; vertical-align: middle; margin-left: 0.5rem\">NORP</span>\n",
              "</mark>\n",
              " schooling co</div></span>"
            ]
          },
          "metadata": {}
        }
      ]
    },
    {
      "cell_type": "code",
      "source": [
        "# ner_dic includes document id and NER\n",
        "ner_dic = ner.get_ner(data_v2_clean)"
      ],
      "metadata": {
        "id": "5p1c3pDEhQtJ"
      },
      "id": "5p1c3pDEhQtJ",
      "execution_count": null,
      "outputs": []
    },
    {
      "cell_type": "code",
      "source": [
        "def write_json(dictionary, filename):\n",
        "    # save dic as a string\n",
        "    string =  json.dumps(dictionary)\n",
        "    \n",
        "    # save string to json file\n",
        "    with open(filename, 'w') as f1:\n",
        "        f1.write(string)\n",
        "  \n",
        "def read_json(filename):\n",
        "    # read string from json file\n",
        "    with open(filename, 'r') as f2:\n",
        "        content = f2.read()\n",
        "\n",
        "    # get the dictionary from json file\n",
        "    output = json.loads(content)\n",
        "    \n",
        "    return output"
      ],
      "metadata": {
        "id": "gRvqUQV1rL87"
      },
      "id": "gRvqUQV1rL87",
      "execution_count": 5,
      "outputs": []
    },
    {
      "cell_type": "code",
      "source": [
        "# As ner_dic is very large, we decided to save the ner_dic into json format and store in google drive\n",
        "write_json(ner_dic, '/content/drive/My Drive/ner.json')"
      ],
      "metadata": {
        "id": "sffL-XAXY0yN"
      },
      "id": "sffL-XAXY0yN",
      "execution_count": null,
      "outputs": []
    },
    {
      "cell_type": "code",
      "source": [
        "# Get ner_dic in json format from google drive and rename as entities\n",
        "entities = read_json('/content/drive/My Drive/ner.json')"
      ],
      "metadata": {
        "id": "cTcgPpOgrpeV"
      },
      "id": "cTcgPpOgrpeV",
      "execution_count": 6,
      "outputs": []
    },
    {
      "cell_type": "code",
      "source": [
        "# The entities dictionary is too big to overview, we just simply print the length of it.\n",
        "print(\"The length of entities is: \",len(entities))\n",
        "print(\"A example of entities is \\n\", entities['ynh8eo6x'])"
      ],
      "metadata": {
        "colab": {
          "base_uri": "https://localhost:8080/"
        },
        "id": "wF6UTnDwNpb0",
        "outputId": "9c9c74b0-b372-4188-fd1b-3bed528de6e2"
      },
      "id": "wF6UTnDwNpb0",
      "execution_count": null,
      "outputs": [
        {
          "output_type": "stream",
          "name": "stdout",
          "text": [
            "The length of entities is:  9820\n",
            "A example of entities is \n",
            " [{'text': 'South Africa’s', 'label': 'GPE'}, {'text': '2011', 'label': 'DATE'}, {'text': 'Shrestha', 'label': 'GPE'}, {'text': 'al. 2019', 'label': 'GPE'}, {'text': 'South African', 'label': 'NORP'}, {'text': 'Taba', 'label': 'GPE'}, {'text': '50 year ago', 'label': 'DATE'}, {'text': '1962', 'label': 'DATE'}, {'text': '33', 'label': 'CARDINAL'}, {'text': 'twenty-first century', 'label': 'DATE'}, {'text': 'World Bank', 'label': 'ORG'}, {'text': 'International Labour Organisation', 'label': 'ORG'}, {'text': 'UNESCO', 'label': 'ORG'}, {'text': 'World Economic Forum', 'label': 'ORG'}, {'text': 'South Africa', 'label': 'GPE'}, {'text': 'South African', 'label': 'NORP'}, {'text': '2017', 'label': 'DATE'}, {'text': 'South Africa', 'label': 'GPE'}, {'text': '55%', 'label': 'PERCENT'}, {'text': '30.4 million', 'label': 'CARDINAL'}, {'text': '25.2%', 'label': 'PERCENT'}, {'text': '13.8 million', 'label': 'CARDINAL'}, {'text': '30.4 million', 'label': 'CARDINAL'}, {'text': '2017', 'label': 'DATE'}, {'text': '4', 'label': 'CARDINAL'}, {'text': '2016', 'label': 'CARDINAL'}, {'text': '13.4%', 'label': 'PERCENT'}, {'text': '61%', 'label': 'PERCENT'}, {'text': '12 million', 'label': 'CARDINAL'}, {'text': '2017', 'label': 'DATE'}, {'text': '52', 'label': 'CARDINAL'}, {'text': '30%', 'label': 'PERCENT'}, {'text': '13%', 'label': 'PERCENT'}, {'text': '2017', 'label': 'DATE'}, {'text': '100', 'label': 'CARDINAL'}, {'text': '90.3%', 'label': 'PERCENT'}, {'text': '83.5%', 'label': 'PERCENT'}, {'text': '66.6%', 'label': 'PERCENT'}, {'text': '1996', 'label': 'DATE'}, {'text': '2017', 'label': 'DATE'}, {'text': '9', 'label': 'CARDINAL'}, {'text': 'five', 'label': 'CARDINAL'}, {'text': 'Quintile 1', 'label': 'PRODUCT'}, {'text': '1', 'label': 'CARDINAL'}, {'text': '5', 'label': 'CARDINAL'}, {'text': '5', 'label': 'CARDINAL'}, {'text': 'DBE', 'label': 'ORG'}, {'text': 'Spaull 2012', 'label': 'DATE'}, {'text': '1', 'label': 'CARDINAL'}, {'text': '2 3', 'label': 'CARDINAL'}, {'text': 'South Africa', 'label': 'GPE'}, {'text': 'two', 'label': 'CARDINAL'}, {'text': 'One', 'label': 'CARDINAL'}, {'text': 'Spaull 2012', 'label': 'DATE'}, {'text': '14', 'label': 'CARDINAL'}, {'text': 'Jabulani Mkhwente', 'label': 'PERSON'}, {'text': '5', 'label': 'CARDINAL'}, {'text': 'two', 'label': 'CARDINAL'}, {'text': 'Eastern Cape', 'label': 'LOC'}, {'text': 'Christmas', 'label': 'DATE'}, {'text': 'May 2020', 'label': 'DATE'}, {'text': 'Mkhwente', 'label': 'GPE'}, {'text': 'Mkhwente', 'label': 'GPE'}, {'text': 'Mkhwente', 'label': 'GPE'}, {'text': 'month May 2020', 'label': 'DATE'}, {'text': 'two', 'label': 'CARDINAL'}, {'text': 'first', 'label': 'ORDINAL'}, {'text': 'second', 'label': 'ORDINAL'}, {'text': '25%', 'label': 'PERCENT'}, {'text': '75%', 'label': 'PERCENT'}, {'text': '25%', 'label': 'PERCENT'}, {'text': '2021', 'label': 'CARDINAL'}, {'text': 'two academic year', 'label': 'DATE'}, {'text': '2020 2021', 'label': 'DATE'}, {'text': 'Grades', 'label': 'GPE'}, {'text': 'DBE', 'label': 'ORG'}, {'text': '23)Curriculum', 'label': 'CARDINAL'}, {'text': 'DBE', 'label': 'ORG'}, {'text': '15', 'label': 'CARDINAL'}, {'text': 'two', 'label': 'CARDINAL'}, {'text': 'DBE', 'label': 'ORG'}, {'text': 'year', 'label': 'DATE'}, {'text': '2021', 'label': 'DATE'}, {'text': '2020', 'label': 'DATE'}, {'text': '2020 year', 'label': 'DATE'}, {'text': '25%', 'label': 'PERCENT'}, {'text': '25%', 'label': 'PERCENT'}, {'text': '2021 year', 'label': 'DATE'}, {'text': '125%', 'label': 'PERCENT'}, {'text': 'year', 'label': 'DATE'}, {'text': '2020', 'label': 'DATE'}, {'text': '2021', 'label': 'DATE'}, {'text': 'South Africa', 'label': 'GPE'}, {'text': '1998', 'label': 'DATE'}, {'text': 'South Africa', 'label': 'GPE'}, {'text': 'Schollar 2018', 'label': 'DATE'}, {'text': 'Fleisch 2008', 'label': 'DATE'}, {'text': 'Hoadley', 'label': 'PERSON'}, {'text': 'Taylor Vinjevold', 'label': 'PERSON'}, {'text': '1999', 'label': 'DATE'}, {'text': 'Taylor', 'label': 'PERSON'}, {'text': '2003', 'label': 'DATE'}, {'text': 'two', 'label': 'CARDINAL'}, {'text': 'DBE', 'label': 'ORG'}, {'text': 'year', 'label': 'DATE'}, {'text': 'DBE', 'label': 'ORG'}, {'text': '15', 'label': 'CARDINAL'}, {'text': 'South Africa', 'label': 'GPE'}, {'text': 'Taylor', 'label': 'PERSON'}, {'text': '2019', 'label': 'DATE'}, {'text': 'Maphalala', 'label': 'GPE'}, {'text': '2018', 'label': 'DATE'}, {'text': 'Carr-Hill', 'label': 'ORG'}, {'text': '2018', 'label': 'DATE'}, {'text': 'Debarger et al', 'label': 'PERSON'}, {'text': 'DBE', 'label': 'ORG'}, {'text': 'pp.', 'label': 'GPE'}, {'text': 'De Clercq', 'label': 'PERSON'}, {'text': 'al. 2018', 'label': 'GPE'}, {'text': 'approximately 80%', 'label': 'PERCENT'}, {'text': 'one', 'label': 'CARDINAL'}, {'text': 'South Africa’s', 'label': 'GPE'}, {'text': 'two', 'label': 'CARDINAL'}, {'text': 'year', 'label': 'DATE'}, {'text': 'next year', 'label': 'DATE'}, {'text': 'year', 'label': 'DATE'}, {'text': 'Carl 2002', 'label': 'DATE'}, {'text': 'Garrison', 'label': 'PERSON'}, {'text': '2009', 'label': 'DATE'}, {'text': 'Covid-19', 'label': 'ORG'}, {'text': '1–3', 'label': 'CARDINAL'}, {'text': 'additional hour school day', 'label': 'TIME'}, {'text': 'hour', 'label': 'TIME'}, {'text': 'two', 'label': 'CARDINAL'}, {'text': 'Spaull', 'label': 'PERSON'}, {'text': '2012', 'label': 'DATE'}, {'text': 'Wiseman', 'label': 'PERSON'}, {'text': '2012', 'label': 'DATE'}, {'text': 'Ball 2007', 'label': 'DATE'}, {'text': 'Sayed Motala', 'label': 'PERSON'}, {'text': '2012', 'label': 'DATE'}, {'text': 'McDonald Van Der Horst 2007', 'label': 'ORG'}, {'text': 'South Africa', 'label': 'GPE'}, {'text': 'Jansen et al.', 'label': 'PERSON'}, {'text': '2007', 'label': 'DATE'}, {'text': '1994', 'label': 'DATE'}, {'text': 'McDonald Van Der Horst 2007', 'label': 'ORG'}, {'text': '30 million', 'label': 'CARDINAL'}, {'text': 'South Africans', 'label': 'NORP'}, {'text': 'two month', 'label': 'DATE'}, {'text': '2009', 'label': 'DATE'}, {'text': 'Melrose', 'label': 'PERSON'}, {'text': '1998', 'label': 'DATE'}, {'text': 'one', 'label': 'CARDINAL'}, {'text': 'first', 'label': 'ORDINAL'}, {'text': '1', 'label': 'CARDINAL'}, {'text': '2', 'label': 'CARDINAL'}, {'text': '3', 'label': 'CARDINAL'}, {'text': 'second', 'label': 'ORDINAL'}, {'text': '1', 'label': 'CARDINAL'}, {'text': '2', 'label': 'CARDINAL'}, {'text': '3', 'label': 'CARDINAL'}, {'text': '4', 'label': 'CARDINAL'}, {'text': 'third', 'label': 'ORDINAL'}, {'text': 'September 2020', 'label': 'DATE'}, {'text': 'Dewey', 'label': 'ORG'}, {'text': 'Haddad Demsky', 'label': 'PERSON'}, {'text': '1995', 'label': 'DATE'}, {'text': 'William Kilpatrick', 'label': 'PERSON'}, {'text': 'Kilpatrick', 'label': 'PERSON'}, {'text': '320', 'label': 'CARDINAL'}, {'text': 'Two', 'label': 'CARDINAL'}, {'text': 'Jansen', 'label': 'PERSON'}, {'text': '1990', 'label': 'DATE'}, {'text': 'Jansen', 'label': 'PERSON'}, {'text': '1990', 'label': 'DATE'}, {'text': 'South Africa', 'label': 'GPE'}, {'text': '1993', 'label': 'DATE'}, {'text': '68', 'label': 'CARDINAL'}, {'text': 'South Africans', 'label': 'NORP'}, {'text': 'National Education Policy Act', 'label': 'ORG'}, {'text': '27 1996', 'label': 'DATE'}, {'text': 'Section 3', 'label': 'LAW'}, {'text': '4', 'label': 'CARDINAL'}, {'text': 'DBE', 'label': 'ORG'}, {'text': 'Jansen', 'label': 'PERSON'}, {'text': '1990', 'label': 'DATE'}, {'text': '2020', 'label': 'DATE'}, {'text': 'Toquero 2020', 'label': 'DATE'}, {'text': 'DBE', 'label': 'ORG'}, {'text': 'pp. 19,', 'label': 'GPE'}, {'text': '22', 'label': 'DATE'}, {'text': 'DBE', 'label': 'ORG'}, {'text': '2011', 'label': 'DATE'}, {'text': '2016', 'label': 'DATE'}, {'text': '69)—a', 'label': 'CARDINAL'}, {'text': 'Tyack Cuban', 'label': 'EVENT'}, {'text': '1995', 'label': 'DATE'}, {'text': 'day day', 'label': 'DATE'}, {'text': 'million', 'label': 'CARDINAL'}, {'text': '2021–2022', 'label': 'CARDINAL'}, {'text': 'Covid-19', 'label': 'ORG'}, {'text': 'South Africa', 'label': 'GPE'}, {'text': 'one', 'label': 'CARDINAL'}, {'text': 'DBE', 'label': 'ORG'}, {'text': 'South Africa', 'label': 'GPE'}, {'text': 'three year', 'label': 'DATE'}, {'text': 'Young', 'label': 'PERSON'}, {'text': '2008', 'label': 'DATE'}, {'text': '12', 'label': 'CARDINAL'}, {'text': '2008', 'label': 'DATE'}, {'text': '14', 'label': 'CARDINAL'}, {'text': 'Young 2008', 'label': 'DATE'}, {'text': '14', 'label': 'CARDINAL'}, {'text': 'Young 2008', 'label': 'DATE'}]\n"
          ]
        }
      ]
    },
    {
      "cell_type": "code",
      "source": [
        "# Manually handling some specail case\n",
        "entities['ynh8eo6x'][0]['text'] = 'South Africa'\n",
        "print(\"A example of entities is \\n\", entities['ynh8eo6x'])"
      ],
      "metadata": {
        "colab": {
          "base_uri": "https://localhost:8080/"
        },
        "id": "z8tzCRh5ym0i",
        "outputId": "8c4bb814-8485-4300-eea8-efb37a453436"
      },
      "id": "z8tzCRh5ym0i",
      "execution_count": null,
      "outputs": [
        {
          "output_type": "stream",
          "name": "stdout",
          "text": [
            "A example of entities is \n",
            " [{'text': 'South Africa', 'label': 'GPE'}, {'text': '2011', 'label': 'DATE'}, {'text': 'Shrestha', 'label': 'GPE'}, {'text': 'al. 2019', 'label': 'GPE'}, {'text': 'South African', 'label': 'NORP'}, {'text': 'Taba', 'label': 'GPE'}, {'text': '50 year ago', 'label': 'DATE'}, {'text': '1962', 'label': 'DATE'}, {'text': '33', 'label': 'CARDINAL'}, {'text': 'twenty-first century', 'label': 'DATE'}, {'text': 'World Bank', 'label': 'ORG'}, {'text': 'International Labour Organisation', 'label': 'ORG'}, {'text': 'UNESCO', 'label': 'ORG'}, {'text': 'World Economic Forum', 'label': 'ORG'}, {'text': 'South Africa', 'label': 'GPE'}, {'text': 'South African', 'label': 'NORP'}, {'text': '2017', 'label': 'DATE'}, {'text': 'South Africa', 'label': 'GPE'}, {'text': '55%', 'label': 'PERCENT'}, {'text': '30.4 million', 'label': 'CARDINAL'}, {'text': '25.2%', 'label': 'PERCENT'}, {'text': '13.8 million', 'label': 'CARDINAL'}, {'text': '30.4 million', 'label': 'CARDINAL'}, {'text': '2017', 'label': 'DATE'}, {'text': '4', 'label': 'CARDINAL'}, {'text': '2016', 'label': 'CARDINAL'}, {'text': '13.4%', 'label': 'PERCENT'}, {'text': '61%', 'label': 'PERCENT'}, {'text': '12 million', 'label': 'CARDINAL'}, {'text': '2017', 'label': 'DATE'}, {'text': '52', 'label': 'CARDINAL'}, {'text': '30%', 'label': 'PERCENT'}, {'text': '13%', 'label': 'PERCENT'}, {'text': '2017', 'label': 'DATE'}, {'text': '100', 'label': 'CARDINAL'}, {'text': '90.3%', 'label': 'PERCENT'}, {'text': '83.5%', 'label': 'PERCENT'}, {'text': '66.6%', 'label': 'PERCENT'}, {'text': '1996', 'label': 'DATE'}, {'text': '2017', 'label': 'DATE'}, {'text': '9', 'label': 'CARDINAL'}, {'text': 'five', 'label': 'CARDINAL'}, {'text': 'Quintile 1', 'label': 'PRODUCT'}, {'text': '1', 'label': 'CARDINAL'}, {'text': '5', 'label': 'CARDINAL'}, {'text': '5', 'label': 'CARDINAL'}, {'text': 'DBE', 'label': 'ORG'}, {'text': 'Spaull 2012', 'label': 'DATE'}, {'text': '1', 'label': 'CARDINAL'}, {'text': '2 3', 'label': 'CARDINAL'}, {'text': 'South Africa', 'label': 'GPE'}, {'text': 'two', 'label': 'CARDINAL'}, {'text': 'One', 'label': 'CARDINAL'}, {'text': 'Spaull 2012', 'label': 'DATE'}, {'text': '14', 'label': 'CARDINAL'}, {'text': 'Jabulani Mkhwente', 'label': 'PERSON'}, {'text': '5', 'label': 'CARDINAL'}, {'text': 'two', 'label': 'CARDINAL'}, {'text': 'Eastern Cape', 'label': 'LOC'}, {'text': 'Christmas', 'label': 'DATE'}, {'text': 'May 2020', 'label': 'DATE'}, {'text': 'Mkhwente', 'label': 'GPE'}, {'text': 'Mkhwente', 'label': 'GPE'}, {'text': 'Mkhwente', 'label': 'GPE'}, {'text': 'month May 2020', 'label': 'DATE'}, {'text': 'two', 'label': 'CARDINAL'}, {'text': 'first', 'label': 'ORDINAL'}, {'text': 'second', 'label': 'ORDINAL'}, {'text': '25%', 'label': 'PERCENT'}, {'text': '75%', 'label': 'PERCENT'}, {'text': '25%', 'label': 'PERCENT'}, {'text': '2021', 'label': 'CARDINAL'}, {'text': 'two academic year', 'label': 'DATE'}, {'text': '2020 2021', 'label': 'DATE'}, {'text': 'Grades', 'label': 'GPE'}, {'text': 'DBE', 'label': 'ORG'}, {'text': '23)Curriculum', 'label': 'CARDINAL'}, {'text': 'DBE', 'label': 'ORG'}, {'text': '15', 'label': 'CARDINAL'}, {'text': 'two', 'label': 'CARDINAL'}, {'text': 'DBE', 'label': 'ORG'}, {'text': 'year', 'label': 'DATE'}, {'text': '2021', 'label': 'DATE'}, {'text': '2020', 'label': 'DATE'}, {'text': '2020 year', 'label': 'DATE'}, {'text': '25%', 'label': 'PERCENT'}, {'text': '25%', 'label': 'PERCENT'}, {'text': '2021 year', 'label': 'DATE'}, {'text': '125%', 'label': 'PERCENT'}, {'text': 'year', 'label': 'DATE'}, {'text': '2020', 'label': 'DATE'}, {'text': '2021', 'label': 'DATE'}, {'text': 'South Africa', 'label': 'GPE'}, {'text': '1998', 'label': 'DATE'}, {'text': 'South Africa', 'label': 'GPE'}, {'text': 'Schollar 2018', 'label': 'DATE'}, {'text': 'Fleisch 2008', 'label': 'DATE'}, {'text': 'Hoadley', 'label': 'PERSON'}, {'text': 'Taylor Vinjevold', 'label': 'PERSON'}, {'text': '1999', 'label': 'DATE'}, {'text': 'Taylor', 'label': 'PERSON'}, {'text': '2003', 'label': 'DATE'}, {'text': 'two', 'label': 'CARDINAL'}, {'text': 'DBE', 'label': 'ORG'}, {'text': 'year', 'label': 'DATE'}, {'text': 'DBE', 'label': 'ORG'}, {'text': '15', 'label': 'CARDINAL'}, {'text': 'South Africa', 'label': 'GPE'}, {'text': 'Taylor', 'label': 'PERSON'}, {'text': '2019', 'label': 'DATE'}, {'text': 'Maphalala', 'label': 'GPE'}, {'text': '2018', 'label': 'DATE'}, {'text': 'Carr-Hill', 'label': 'ORG'}, {'text': '2018', 'label': 'DATE'}, {'text': 'Debarger et al', 'label': 'PERSON'}, {'text': 'DBE', 'label': 'ORG'}, {'text': 'pp.', 'label': 'GPE'}, {'text': 'De Clercq', 'label': 'PERSON'}, {'text': 'al. 2018', 'label': 'GPE'}, {'text': 'approximately 80%', 'label': 'PERCENT'}, {'text': 'one', 'label': 'CARDINAL'}, {'text': 'South Africa’s', 'label': 'GPE'}, {'text': 'two', 'label': 'CARDINAL'}, {'text': 'year', 'label': 'DATE'}, {'text': 'next year', 'label': 'DATE'}, {'text': 'year', 'label': 'DATE'}, {'text': 'Carl 2002', 'label': 'DATE'}, {'text': 'Garrison', 'label': 'PERSON'}, {'text': '2009', 'label': 'DATE'}, {'text': 'Covid-19', 'label': 'ORG'}, {'text': '1–3', 'label': 'CARDINAL'}, {'text': 'additional hour school day', 'label': 'TIME'}, {'text': 'hour', 'label': 'TIME'}, {'text': 'two', 'label': 'CARDINAL'}, {'text': 'Spaull', 'label': 'PERSON'}, {'text': '2012', 'label': 'DATE'}, {'text': 'Wiseman', 'label': 'PERSON'}, {'text': '2012', 'label': 'DATE'}, {'text': 'Ball 2007', 'label': 'DATE'}, {'text': 'Sayed Motala', 'label': 'PERSON'}, {'text': '2012', 'label': 'DATE'}, {'text': 'McDonald Van Der Horst 2007', 'label': 'ORG'}, {'text': 'South Africa', 'label': 'GPE'}, {'text': 'Jansen et al.', 'label': 'PERSON'}, {'text': '2007', 'label': 'DATE'}, {'text': '1994', 'label': 'DATE'}, {'text': 'McDonald Van Der Horst 2007', 'label': 'ORG'}, {'text': '30 million', 'label': 'CARDINAL'}, {'text': 'South Africans', 'label': 'NORP'}, {'text': 'two month', 'label': 'DATE'}, {'text': '2009', 'label': 'DATE'}, {'text': 'Melrose', 'label': 'PERSON'}, {'text': '1998', 'label': 'DATE'}, {'text': 'one', 'label': 'CARDINAL'}, {'text': 'first', 'label': 'ORDINAL'}, {'text': '1', 'label': 'CARDINAL'}, {'text': '2', 'label': 'CARDINAL'}, {'text': '3', 'label': 'CARDINAL'}, {'text': 'second', 'label': 'ORDINAL'}, {'text': '1', 'label': 'CARDINAL'}, {'text': '2', 'label': 'CARDINAL'}, {'text': '3', 'label': 'CARDINAL'}, {'text': '4', 'label': 'CARDINAL'}, {'text': 'third', 'label': 'ORDINAL'}, {'text': 'September 2020', 'label': 'DATE'}, {'text': 'Dewey', 'label': 'ORG'}, {'text': 'Haddad Demsky', 'label': 'PERSON'}, {'text': '1995', 'label': 'DATE'}, {'text': 'William Kilpatrick', 'label': 'PERSON'}, {'text': 'Kilpatrick', 'label': 'PERSON'}, {'text': '320', 'label': 'CARDINAL'}, {'text': 'Two', 'label': 'CARDINAL'}, {'text': 'Jansen', 'label': 'PERSON'}, {'text': '1990', 'label': 'DATE'}, {'text': 'Jansen', 'label': 'PERSON'}, {'text': '1990', 'label': 'DATE'}, {'text': 'South Africa', 'label': 'GPE'}, {'text': '1993', 'label': 'DATE'}, {'text': '68', 'label': 'CARDINAL'}, {'text': 'South Africans', 'label': 'NORP'}, {'text': 'National Education Policy Act', 'label': 'ORG'}, {'text': '27 1996', 'label': 'DATE'}, {'text': 'Section 3', 'label': 'LAW'}, {'text': '4', 'label': 'CARDINAL'}, {'text': 'DBE', 'label': 'ORG'}, {'text': 'Jansen', 'label': 'PERSON'}, {'text': '1990', 'label': 'DATE'}, {'text': '2020', 'label': 'DATE'}, {'text': 'Toquero 2020', 'label': 'DATE'}, {'text': 'DBE', 'label': 'ORG'}, {'text': 'pp. 19,', 'label': 'GPE'}, {'text': '22', 'label': 'DATE'}, {'text': 'DBE', 'label': 'ORG'}, {'text': '2011', 'label': 'DATE'}, {'text': '2016', 'label': 'DATE'}, {'text': '69)—a', 'label': 'CARDINAL'}, {'text': 'Tyack Cuban', 'label': 'EVENT'}, {'text': '1995', 'label': 'DATE'}, {'text': 'day day', 'label': 'DATE'}, {'text': 'million', 'label': 'CARDINAL'}, {'text': '2021–2022', 'label': 'CARDINAL'}, {'text': 'Covid-19', 'label': 'ORG'}, {'text': 'South Africa', 'label': 'GPE'}, {'text': 'one', 'label': 'CARDINAL'}, {'text': 'DBE', 'label': 'ORG'}, {'text': 'South Africa', 'label': 'GPE'}, {'text': 'three year', 'label': 'DATE'}, {'text': 'Young', 'label': 'PERSON'}, {'text': '2008', 'label': 'DATE'}, {'text': '12', 'label': 'CARDINAL'}, {'text': '2008', 'label': 'DATE'}, {'text': '14', 'label': 'CARDINAL'}, {'text': 'Young 2008', 'label': 'DATE'}, {'text': '14', 'label': 'CARDINAL'}, {'text': 'Young 2008', 'label': 'DATE'}]\n"
          ]
        }
      ]
    },
    {
      "cell_type": "code",
      "source": [
        "# In order to perform experiment in small dataset\n",
        "# only get the named entities in first 20 articles\n",
        "cnt = 0\n",
        "entities_30 = {}\n",
        "for k, v in entities.items():\n",
        "    entities_30[k] = v\n",
        "    cnt += 1\n",
        "    if cnt == 30:\n",
        "      break\n",
        "\n",
        "print(entities_30.keys())"
      ],
      "metadata": {
        "colab": {
          "base_uri": "https://localhost:8080/"
        },
        "id": "x7BfVfl9iR5Z",
        "outputId": "e2523b07-e012-4045-aa66-f46f249a07ec"
      },
      "id": "x7BfVfl9iR5Z",
      "execution_count": 7,
      "outputs": [
        {
          "output_type": "stream",
          "name": "stdout",
          "text": [
            "dict_keys(['ynh8eo6x', 'g0bgp3t7', 'x1r99rlm', 'm5pwtv7d', 'ztzsj45b', 'whchytrr', 'yi870wr8', 'lswvw426', 'l9vye5ci', '1iyz9nn2', 'hm0ovsq4', 'ltgadsp7', '0n0vbax3', '0o4zxngp', 'c2ibxbgo', '7rrwtmw2', '10409mar', 'okihfpp6', 'xtu9r72l', 'jfca5rv6', '9k1fb5bs', 'qk0cyee2', 'ymebxodh', 'h4hxvov8', 'dtyrjfo5', 'daix3d5e', 'yajnzgd5', 'gcc1qjej', 'r9c4odva', 'njrtn2jg'])\n"
          ]
        }
      ]
    },
    {
      "cell_type": "markdown",
      "id": "a70fdf73",
      "metadata": {
        "id": "a70fdf73"
      },
      "source": [
        "#### 2.3 Knowledge Base"
      ]
    },
    {
      "cell_type": "code",
      "source": [
        "# code ref :\n",
        "# https://www.holisticseo.digital/python-seo/information-extraction/\n",
        "# https://github.com/vibhavnirmal/Knowledge-Graph-based-QnA/blob/master/kwQnA/_graph.py\n",
        "\n",
        "class KnowledgeBase:\n",
        "    def __init__(self, data):\n",
        "        self.data = data\n",
        "        self.kb= {}\n",
        "\n",
        "    def getSentences(self,text):\n",
        "        nlp = English()\n",
        "        nlp.add_pipe(nlp.create_pipe('sentencizer'))\n",
        "        document = nlp(text)\n",
        "        return [sent.string.strip() for sent in document.sents]\n",
        "\n",
        "    def appendChunk(self, original, chunk):\n",
        "        return original + ' ' + chunk\n",
        "\n",
        "    def isRelationCandidate(self, token):\n",
        "        # defines a list of dependencies called \"deps\" \n",
        "        # that are commonly associated with relations in a sentence\n",
        "        deps = [\"ROOT\", \"adj\", \"attr\", \"agent\", \"amod\"]\n",
        "        return any(subs in token.dep_ for subs in deps)\n",
        "\n",
        "    def isConstructionCandidate(self, token):\n",
        "        deps = [\"compound\", \"prep\", \"conj\", \"mod\"]\n",
        "        return any(subs in token.dep_ for subs in deps)\n",
        "\n",
        "    def processSubjectObjectPairs(self, tokens):\n",
        "        sub = ''\n",
        "        obj = ''\n",
        "        relation = ''\n",
        "        subjectConstruction = ''\n",
        "        objectConstruction = ''\n",
        "        for token in tokens:\n",
        "            if \"punct\" in token.dep_:\n",
        "                continue\n",
        "            if self.isRelationCandidate(token):\n",
        "                relation = self.appendChunk(relation, token.lemma_)\n",
        "            if self.isConstructionCandidate(token):\n",
        "                if subjectConstruction:\n",
        "                    subjectConstruction = self.appendChunk(subjectConstruction, token.text)\n",
        "                if objectConstruction:\n",
        "                    objectConstruction = self.appendChunk(objectConstruction, token.text)\n",
        "            if \"subj\" in token.dep_:\n",
        "                sub = self.appendChunk(sub, token.text)\n",
        "                sub = self.appendChunk(subjectConstruction, sub)\n",
        "                subjectConstruction = ''\n",
        "            if \"obj\" in token.dep_:\n",
        "                obj = self.appendChunk(obj, token.text)\n",
        "                obj = self.appendChunk(objectConstruction, obj)\n",
        "                objectConstruction = ''\n",
        "\n",
        "        return (sub.strip(), relation.strip(), obj.strip())\n",
        "\n",
        "    def auto_build_kb(self):\n",
        "        for i in range(len(self.data)):\n",
        "            doc = self.data['clean'][i]\n",
        "            sentences = list(doc.split('.'))\n",
        "            # print(len(sentences))\n",
        "            for sentence in sentences:                 \n",
        "                s = nlp(sentence)\n",
        "                sub, rel, obj = self.processSubjectObjectPairs(s)\n",
        "                # set conditions\n",
        "                if sub not in self.kb.keys() and sub.strip() != \"\" and rel.strip() != \"\" and obj.strip() != \"\":\n",
        "                    self.kb[sub] = [{\"relation\":rel, \"object\": obj}]\n",
        "                elif sub in self.kb.keys() and sub.strip() != \"\" and rel.strip() != \"\" and obj.strip() != \"\":\n",
        "                    self.kb[sub].append({\"relation\":rel, \"object\": obj})\n",
        "\n",
        "    def manually_build_kb(self, ent_pairs):\n",
        "        if ent_pairs['canonical'] != self.kb.keys():\n",
        "            self.kb[ent_pairs['canonical']] = [{\"relation\":ent_pairs['relation'], \"object\": ent_pairs['associated']}]\n",
        "        else:\n",
        "            self.kb[ent_pairs['canonical']].append({\"relation\":ent_pairs['relation'], \"object\": ent_pairs['associated']})\n",
        "\n",
        "    def df_plot(self):\n",
        "        \"\"\"Get DataFrame from kb dictionary\"\"\"\n",
        "        subjects, relations, objects = [],[],[]\n",
        "\n",
        "        for k in self.kb.keys():\n",
        "            subjects.append(k)\n",
        "            for i in range(len(self.kb[k])):\n",
        "              relations.append(self.kb[k][i]['relation'])\n",
        "              objects.append(self.kb[k][i]['object'])\n",
        "\n",
        "        kg_df = pd.DataFrame({'subject':subjects,'relation':relations, 'object': objects})       \n",
        "        return kg_df\n",
        "\n",
        "    def knowledge_graph(self):\n",
        "        \"\"\"knowledge graph\"\"\"\n",
        "        knowledge_dict = {}\n",
        "        for name in self.kb.keys():\n",
        "            for i in range(len(self.kb[name])):\n",
        "              knowledge_dict[name] = self.kb[name][i]['object']\n",
        "\n",
        "        # Create a new graph\n",
        "        G = nx.Graph()\n",
        "\n",
        "        # Add nodes to the graph\n",
        "        G.add_nodes_from(knowledge_dict.keys())\n",
        "\n",
        "        # Add edges to the graph\n",
        "        for node, neighbors in knowledge_dict.items():\n",
        "            for neighbor in neighbors:\n",
        "                G.add_edge(node, neighbor)\n",
        "\n",
        "        # Set node positions\n",
        "        pos = nx.spring_layout(G)\n",
        "\n",
        "        # Draw the graph\n",
        "        nx.draw_networkx_nodes(G, pos, node_color='lightblue', node_size=1000)\n",
        "        nx.draw_networkx_edges(G, pos, edge_color='grey')\n",
        "        nx.draw_networkx_labels(G, pos, font_size=12, font_family='sans-serif')\n",
        "\n",
        "        # Show the plot\n",
        "        plt.axis('off')\n",
        "        plt.show()\n",
        "\n",
        "\n",
        "    def search(self, query):\n",
        "        candidates = []\n",
        "        for name in self.kb.keys():  \n",
        "            if query == name:\n",
        "              for i in self.kb[name]:\n",
        "                  candidates.extend(i['object']) \n",
        "        # if candidates == []:\n",
        "        #   print(\"There is no associated name for this canonical name.\")\n",
        "        return candidates\n"
      ],
      "metadata": {
        "id": "bB1wxEhVTOQl"
      },
      "id": "bB1wxEhVTOQl",
      "execution_count": 32,
      "outputs": []
    },
    {
      "cell_type": "markdown",
      "source": [
        "##### 2.3.1 Manually create KB"
      ],
      "metadata": {
        "id": "5Opgrd_qzko4"
      },
      "id": "5Opgrd_qzko4"
    },
    {
      "cell_type": "code",
      "source": [
        "# build KB using the first 20 articles\n",
        "KB = KnowledgeBase(data_v2_clean[:30])\n",
        "\n",
        "# Avoid repeated\n",
        "KB.kb = {} \n",
        "\n",
        "# Manually create dictionary\n",
        "ent_pairs = {\n",
        "    1: {'canonical': \"COVID-19\",  'relation':\"is\", 'associated':[\"covid19\",\"covid\",\"SARS-CoV-2\", \"COVD-19\", \"coronavirus\"]},\n",
        "    2: {'canonical': \"coronavirus\",  'relation':\"is\", 'associated':[\"covid19\",\"covid\",\"COVID-19\", \"COVD-19\", \"SARS-CoV-2\"]},\n",
        "    3: {'canonical': \"mask\",  'relation':\"is\", 'associated':[\"face mask\",\"P2 mask\"]},\n",
        "}\n",
        "\n",
        "# Add dictionary to kb\n",
        "for k in ent_pairs.keys():\n",
        "    KB.manually_build_kb(ent_pairs[k])\n",
        "\n",
        "# Visulization of kb\n",
        "# Relationships are described correctly and the objects are expected\n",
        "kg_df = KB.df_plot()\n",
        "kg_df.head()"
      ],
      "metadata": {
        "colab": {
          "base_uri": "https://localhost:8080/",
          "height": 143
        },
        "id": "oWAdVpZ3o1ZX",
        "outputId": "1b8e4202-d7b8-46cd-971a-e76932d6f7e9"
      },
      "id": "oWAdVpZ3o1ZX",
      "execution_count": 33,
      "outputs": [
        {
          "output_type": "execute_result",
          "data": {
            "text/plain": [
              "       subject relation                                             object\n",
              "0     COVID-19       is  [covid19, covid, SARS-CoV-2, COVD-19, coronavi...\n",
              "1  coronavirus       is    [covid19, covid, COVID-19, COVD-19, SARS-CoV-2]\n",
              "2         mask       is                               [face mask, P2 mask]"
            ],
            "text/html": [
              "\n",
              "  <div id=\"df-a3a4a8c2-52b3-450d-b17e-1f7f52ea4788\">\n",
              "    <div class=\"colab-df-container\">\n",
              "      <div>\n",
              "<style scoped>\n",
              "    .dataframe tbody tr th:only-of-type {\n",
              "        vertical-align: middle;\n",
              "    }\n",
              "\n",
              "    .dataframe tbody tr th {\n",
              "        vertical-align: top;\n",
              "    }\n",
              "\n",
              "    .dataframe thead th {\n",
              "        text-align: right;\n",
              "    }\n",
              "</style>\n",
              "<table border=\"1\" class=\"dataframe\">\n",
              "  <thead>\n",
              "    <tr style=\"text-align: right;\">\n",
              "      <th></th>\n",
              "      <th>subject</th>\n",
              "      <th>relation</th>\n",
              "      <th>object</th>\n",
              "    </tr>\n",
              "  </thead>\n",
              "  <tbody>\n",
              "    <tr>\n",
              "      <th>0</th>\n",
              "      <td>COVID-19</td>\n",
              "      <td>is</td>\n",
              "      <td>[covid19, covid, SARS-CoV-2, COVD-19, coronavi...</td>\n",
              "    </tr>\n",
              "    <tr>\n",
              "      <th>1</th>\n",
              "      <td>coronavirus</td>\n",
              "      <td>is</td>\n",
              "      <td>[covid19, covid, COVID-19, COVD-19, SARS-CoV-2]</td>\n",
              "    </tr>\n",
              "    <tr>\n",
              "      <th>2</th>\n",
              "      <td>mask</td>\n",
              "      <td>is</td>\n",
              "      <td>[face mask, P2 mask]</td>\n",
              "    </tr>\n",
              "  </tbody>\n",
              "</table>\n",
              "</div>\n",
              "      <button class=\"colab-df-convert\" onclick=\"convertToInteractive('df-a3a4a8c2-52b3-450d-b17e-1f7f52ea4788')\"\n",
              "              title=\"Convert this dataframe to an interactive table.\"\n",
              "              style=\"display:none;\">\n",
              "        \n",
              "  <svg xmlns=\"http://www.w3.org/2000/svg\" height=\"24px\"viewBox=\"0 0 24 24\"\n",
              "       width=\"24px\">\n",
              "    <path d=\"M0 0h24v24H0V0z\" fill=\"none\"/>\n",
              "    <path d=\"M18.56 5.44l.94 2.06.94-2.06 2.06-.94-2.06-.94-.94-2.06-.94 2.06-2.06.94zm-11 1L8.5 8.5l.94-2.06 2.06-.94-2.06-.94L8.5 2.5l-.94 2.06-2.06.94zm10 10l.94 2.06.94-2.06 2.06-.94-2.06-.94-.94-2.06-.94 2.06-2.06.94z\"/><path d=\"M17.41 7.96l-1.37-1.37c-.4-.4-.92-.59-1.43-.59-.52 0-1.04.2-1.43.59L10.3 9.45l-7.72 7.72c-.78.78-.78 2.05 0 2.83L4 21.41c.39.39.9.59 1.41.59.51 0 1.02-.2 1.41-.59l7.78-7.78 2.81-2.81c.8-.78.8-2.07 0-2.86zM5.41 20L4 18.59l7.72-7.72 1.47 1.35L5.41 20z\"/>\n",
              "  </svg>\n",
              "      </button>\n",
              "      \n",
              "  <style>\n",
              "    .colab-df-container {\n",
              "      display:flex;\n",
              "      flex-wrap:wrap;\n",
              "      gap: 12px;\n",
              "    }\n",
              "\n",
              "    .colab-df-convert {\n",
              "      background-color: #E8F0FE;\n",
              "      border: none;\n",
              "      border-radius: 50%;\n",
              "      cursor: pointer;\n",
              "      display: none;\n",
              "      fill: #1967D2;\n",
              "      height: 32px;\n",
              "      padding: 0 0 0 0;\n",
              "      width: 32px;\n",
              "    }\n",
              "\n",
              "    .colab-df-convert:hover {\n",
              "      background-color: #E2EBFA;\n",
              "      box-shadow: 0px 1px 2px rgba(60, 64, 67, 0.3), 0px 1px 3px 1px rgba(60, 64, 67, 0.15);\n",
              "      fill: #174EA6;\n",
              "    }\n",
              "\n",
              "    [theme=dark] .colab-df-convert {\n",
              "      background-color: #3B4455;\n",
              "      fill: #D2E3FC;\n",
              "    }\n",
              "\n",
              "    [theme=dark] .colab-df-convert:hover {\n",
              "      background-color: #434B5C;\n",
              "      box-shadow: 0px 1px 3px 1px rgba(0, 0, 0, 0.15);\n",
              "      filter: drop-shadow(0px 1px 2px rgba(0, 0, 0, 0.3));\n",
              "      fill: #FFFFFF;\n",
              "    }\n",
              "  </style>\n",
              "\n",
              "      <script>\n",
              "        const buttonEl =\n",
              "          document.querySelector('#df-a3a4a8c2-52b3-450d-b17e-1f7f52ea4788 button.colab-df-convert');\n",
              "        buttonEl.style.display =\n",
              "          google.colab.kernel.accessAllowed ? 'block' : 'none';\n",
              "\n",
              "        async function convertToInteractive(key) {\n",
              "          const element = document.querySelector('#df-a3a4a8c2-52b3-450d-b17e-1f7f52ea4788');\n",
              "          const dataTable =\n",
              "            await google.colab.kernel.invokeFunction('convertToInteractive',\n",
              "                                                     [key], {});\n",
              "          if (!dataTable) return;\n",
              "\n",
              "          const docLinkHtml = 'Like what you see? Visit the ' +\n",
              "            '<a target=\"_blank\" href=https://colab.research.google.com/notebooks/data_table.ipynb>data table notebook</a>'\n",
              "            + ' to learn more about interactive tables.';\n",
              "          element.innerHTML = '';\n",
              "          dataTable['output_type'] = 'display_data';\n",
              "          await google.colab.output.renderOutput(dataTable, element);\n",
              "          const docLink = document.createElement('div');\n",
              "          docLink.innerHTML = docLinkHtml;\n",
              "          element.appendChild(docLink);\n",
              "        }\n",
              "      </script>\n",
              "    </div>\n",
              "  </div>\n",
              "  "
            ]
          },
          "metadata": {},
          "execution_count": 33
        }
      ]
    },
    {
      "cell_type": "code",
      "source": [
        "# test accuracy of manaully create KB \n",
        "KB.search(\"COVID-19\")"
      ],
      "metadata": {
        "colab": {
          "base_uri": "https://localhost:8080/"
        },
        "id": "KWKAaGhnztD_",
        "outputId": "99d05bf9-be2d-4a37-d6fc-af96051c0a7a"
      },
      "id": "KWKAaGhnztD_",
      "execution_count": null,
      "outputs": [
        {
          "output_type": "execute_result",
          "data": {
            "text/plain": [
              "['covid19', 'covid', 'SARS-CoV-2', 'COVD-19', 'coronavirus']"
            ]
          },
          "metadata": {},
          "execution_count": 221
        }
      ]
    },
    {
      "cell_type": "code",
      "source": [
        "# KB knowledge_graph\n",
        "# It is clear to see the associated names for cannonical name\n",
        "KB.knowledge_graph()"
      ],
      "metadata": {
        "colab": {
          "base_uri": "https://localhost:8080/",
          "height": 248
        },
        "id": "-AufDi-yJK1y",
        "outputId": "eb2de41e-6d21-40e8-a1d2-e4cac561d38f"
      },
      "id": "-AufDi-yJK1y",
      "execution_count": null,
      "outputs": [
        {
          "output_type": "display_data",
          "data": {
            "text/plain": [
              "<Figure size 432x288 with 1 Axes>"
            ],
            "image/png": "[encoded data removed]"
          },
          "metadata": {}
        }
      ]
    },
    {
      "cell_type": "markdown",
      "source": [
        "##### 2.3.2 Auto create KB"
      ],
      "metadata": {
        "id": "xDyMEFaG1Xrp"
      },
      "id": "xDyMEFaG1Xrp"
    },
    {
      "cell_type": "code",
      "source": [
        "# build KB2 using the first 20 articles\n",
        "KB2 = KnowledgeBase(data_v2_clean[:30])\n",
        "\n",
        "# Avoid repeated\n",
        "KB2.kb = {} \n",
        "\n",
        "# Auto build kb\n",
        "KB2.auto_build_kb()"
      ],
      "metadata": {
        "id": "Ptqj_OQNujAS"
      },
      "id": "Ptqj_OQNujAS",
      "execution_count": null,
      "outputs": []
    },
    {
      "cell_type": "code",
      "source": [
        "# Visulization of patial of auto kb\n",
        "# Relationships are not described correctly and the objects are not expected\n",
        "print(KB2.kb['COVID-19'])"
      ],
      "metadata": {
        "colab": {
          "base_uri": "https://localhost:8080/"
        },
        "id": "fiVDWptI6ukJ",
        "outputId": "84c4dd46-884e-4870-faf8-1572aca66c21"
      },
      "id": "fiVDWptI6ukJ",
      "execution_count": null,
      "outputs": [
        {
          "output_type": "stream",
          "name": "stdout",
          "text": [
            "[{'relation': 'conform typical clinical positive nasopharyngeal oropharyngeal', 'object': 'presentation swab'}, {'relation': 'high physical correlate impair physical mental', 'object': 'comparison SF-36'}, {'relation': 'ass prior conclude natural', 'object': 'history'}, {'relation': 'report new', 'object': 'March countries coronavirus WHO'}, {'relation': 'potential severe propose', 'object': '21'}, {'relation': 'common include dry', 'object': 'fever'}, {'relation': 'coronary thrombotic vaccinate', 'object': 'India'}, {'relation': 'disease affect various', 'object': 'way world'}, {'relation': 'pandemic cause potential economic', 'object': 'infection'}, {'relation': 'depend', 'object': 'recipients'}, {'relation': 'rise cite mental natural', 'object': 'awareness life address reflection death deaths'}]\n"
          ]
        }
      ]
    },
    {
      "cell_type": "code",
      "source": [
        "# test auto_build_kb accuracy\n",
        "KB2.search(\"COVID-19\")"
      ],
      "metadata": {
        "colab": {
          "base_uri": "https://localhost:8080/"
        },
        "id": "qsYu6quOyrp_",
        "outputId": "cd534e6b-e260-46af-f889-bb6dca1665f1"
      },
      "id": "qsYu6quOyrp_",
      "execution_count": null,
      "outputs": [
        {
          "output_type": "execute_result",
          "data": {
            "text/plain": [
              "['presentation swab',\n",
              " 'comparison SF-36',\n",
              " 'history',\n",
              " 'March countries coronavirus WHO',\n",
              " '21',\n",
              " 'fever',\n",
              " 'India',\n",
              " 'way world',\n",
              " 'infection',\n",
              " 'recipients',\n",
              " 'awareness life address reflection death deaths']"
            ]
          },
          "metadata": {},
          "execution_count": 218
        }
      ]
    },
    {
      "cell_type": "code",
      "source": [
        "# KB knowledge_graph\n",
        "# It is hard to see the associated names for cannonical name\n",
        "KB2.knowledge_graph()"
      ],
      "metadata": {
        "colab": {
          "base_uri": "https://localhost:8080/",
          "height": 248
        },
        "id": "R183B3yGLit-",
        "outputId": "d4ad47ca-215f-43b8-bf25-1f1a540d5153"
      },
      "id": "R183B3yGLit-",
      "execution_count": null,
      "outputs": [
        {
          "output_type": "display_data",
          "data": {
            "text/plain": [
              "<Figure size 432x288 with 1 Axes>"
            ],
            "image/png": "[encoded data removed]"
          },
          "metadata": {}
        }
      ]
    },
    {
      "cell_type": "markdown",
      "id": "333cefa8",
      "metadata": {
        "id": "333cefa8"
      },
      "source": [
        "### 3. Indexing method"
      ]
    },
    {
      "cell_type": "markdown",
      "source": [
        "#### 3.1 summary\n",
        "Our **InvertedIndex** function use Named Entity as index.\n",
        "\n",
        "First, it will perfrom a quick search for all the Named Entity based on NER dictionary / entities (in Section 2.2). If we found the query Named Entity in entities, docs_index list will add the related docid according to entities dictionary.\n",
        "\n",
        "Then, if it cannot be found in entities dictionary, we will perform a greedy search based on the content of all the articles. If we found the query Named Entity exsiting in a article, docs_index list will add the related docid. This is used to handle some special cases, such as \"coronavirus\".\n",
        "\n",
        "Finally, we return a docs_index list.\n",
        "\n",
        "P.S. Code in Section 3.2 Inverted indexing method"
      ],
      "metadata": {
        "id": "XcwiuHjRNRwu"
      },
      "id": "XcwiuHjRNRwu"
    },
    {
      "cell_type": "markdown",
      "source": [
        "#### 3.2 Inverted indexing method"
      ],
      "metadata": {
        "id": "O0r-Z3n5NUM2"
      },
      "id": "O0r-Z3n5NUM2"
    },
    {
      "cell_type": "code",
      "source": [
        "def InvertedIndex(query, ent_dic, data):\n",
        "    \"\"\"\n",
        "    Retrieve a set of documents containing the given query term\n",
        "    Input:\n",
        "    query -> one word representing the query term\n",
        "    ent_dic -> control the range of entities\n",
        "    data -> control the size of data\n",
        "    output:\n",
        "    doc_index -> list of document IDs\n",
        "    \"\"\"\n",
        "    # empty dictionary to store a set of documents\n",
        "    docs_index = []\n",
        "\n",
        "    # Retrieve the set of documents containing each query term\n",
        "    # k: docid; v: name entities and labels\n",
        "    for k, v in ent_dic.items():\n",
        "        for i in v[0]['text'].split():\n",
        "           if query == i:\n",
        "              # if doc_id not in docs_index list\n",
        "              if k not in docs_index:\n",
        "                  docs_index.append(k)\n",
        "\n",
        "    # In case cannot find the named_entities, use query to match text\n",
        "    for i in range(data.shape[0]):\n",
        "       if query in data['clean'][i]:\n",
        "          id = data['docid'][i]\n",
        "          if id not in docs_index:\n",
        "            docs_index.append(id)\n",
        "\n",
        "    return docs_index"
      ],
      "metadata": {
        "id": "5WMWgNI0Jj25"
      },
      "id": "5WMWgNI0Jj25",
      "execution_count": 116,
      "outputs": []
    },
    {
      "cell_type": "code",
      "source": [
        "# Create an inverted index\n",
        "# Search for documents containing \"COVID-19\"\n",
        "result = InvertedIndex(\"COVID-19\", entities_30, data_v2_clean[:30])\n",
        "print('Search for documents containing \"COVID-19\", result:\\n', result)"
      ],
      "metadata": {
        "colab": {
          "base_uri": "https://localhost:8080/"
        },
        "id": "qjRRQ9GrJrZw",
        "outputId": "cf79f5ea-28b6-49f1-d931-5cf8a69e72c0"
      },
      "id": "qjRRQ9GrJrZw",
      "execution_count": null,
      "outputs": [
        {
          "output_type": "stream",
          "name": "stdout",
          "text": [
            "Search for documents containing \"COVID-19\", result:\n",
            " ['qk0cyee2', 'ymebxodh', 'g0bgp3t7', 'm5pwtv7d', 'whchytrr', 'yi870wr8', 'lswvw426', 'l9vye5ci', 'hm0ovsq4', 'ltgadsp7', '0n0vbax3', '0o4zxngp', 'c2ibxbgo', '10409mar', 'okihfpp6', 'xtu9r72l', 'jfca5rv6', '9k1fb5bs', 'h4hxvov8', 'dtyrjfo5', 'daix3d5e', 'yajnzgd5', 'gcc1qjej', 'r9c4odva']\n"
          ]
        }
      ]
    },
    {
      "cell_type": "markdown",
      "id": "067cebcf",
      "metadata": {
        "id": "067cebcf"
      },
      "source": [
        "### 4. Text matching utility"
      ]
    },
    {
      "cell_type": "markdown",
      "source": [
        "#### 4.1 Summary\n",
        "Our **text_matching_utility class**  retrieves articles based on a question (in Section 4.2). \n",
        "\n",
        "Our main function is **text_matching** function (in Section 4.2). Process:\n",
        "\n",
        "1.   First, we pre-process the question by removing stopwords and lemmization by **query_preprocessing** function.\n",
        "2.   After we identify named entities in question, we use question named entities by using **get_article_ids** funtion (using **InvertedIndex method** inside function) to find related article ids. Use **KB** to provide a supplement (giving associated name) to named entities in query and get article ids by **get_article_ids** funtion again. \n",
        "3. If no article ids, print \"\"Sorry, no answer for this question.\" and return. \n",
        "4. If we get article ids, we use **get_topk_answers** function to get top k article id, top k answers (first using similarity score to compare question and possible articles, then calculate similarity score between question and each sentence in one article and get best sentence), and cosine similarity score (compare question and best sentence).\n",
        "\n",
        "NER and KB is useful for my task:\n",
        "\n",
        "*   Combination of NER and Inverted Index method helps to find article ids efficiently. We only compare question and those articles including named entities rather than all articles. \n",
        "*   Using KB as a supplement to find associated named entities for query will help to increase the accuracy of retrieval. Also, 'relation' of named entities will help to find the best answer (this will be explored in the future). \n",
        "\n",
        "Pretrained Word Vectors model:\n",
        "\n",
        "*   At the Begining, we considered Word2Vec and GloVe. After research, we found that GloVe may be better suited for tasks that require a more holistic understanding of language and the relationships between words, which will help us to find a better answer [5][6]. And Word2Vec may be better suited for tasks that require more precise word-level associations. We decide to use GolVe but it's embedding dictionary does not include word such as \"COVID-19\". (in section 4.5.1)\n",
        "*   Therefore, we tried tf-idf (in section 4.3) and spaCy pretrain word vector model (in section 4.4). Result discussion in section 4.5.\n",
        "\n",
        "\n",
        "\n",
        "\n",
        "\n",
        "  "
      ],
      "metadata": {
        "id": "AvNQ2iFQUFzd"
      },
      "id": "AvNQ2iFQUFzd"
    },
    {
      "cell_type": "markdown",
      "id": "2a82fbc6",
      "metadata": {
        "id": "2a82fbc6"
      },
      "source": [
        "#### 4.2 Text matching utility class"
      ]
    },
    {
      "cell_type": "code",
      "source": [
        "sting = \"a b\"\n",
        "sting.split(\" \")"
      ],
      "metadata": {
        "colab": {
          "base_uri": "https://localhost:8080/"
        },
        "id": "kUafpuvBUjaV",
        "outputId": "b5af02be-57ce-4141-8be7-f49acf3b3ab8"
      },
      "id": "kUafpuvBUjaV",
      "execution_count": 166,
      "outputs": [
        {
          "output_type": "execute_result",
          "data": {
            "text/plain": [
              "['a', 'b']"
            ]
          },
          "metadata": {},
          "execution_count": 166
        }
      ]
    },
    {
      "cell_type": "code",
      "execution_count": 209,
      "id": "54a65190",
      "metadata": {
        "id": "54a65190"
      },
      "outputs": [],
      "source": [
        "from nltk.sem.logic import read_type\n",
        "# https://spacy.io/models/en#en_vectors_web_lg\n",
        "class text_matching_utility():\n",
        "    def __init__(self, entities, dataset, kb):\n",
        "        self.ner = entities              # named entity recognition result\n",
        "        self.data = dataset              # dataset\n",
        "        self.kb = kb                     # Knowledge Base\n",
        "\n",
        "    def query_preprocessing(self, query):\n",
        "        # regular expression to match text patterns\n",
        "        s = \" \\[(?=.*\\d).*?\\]\" \n",
        "\n",
        "        # Removing stopwords + Lemmalization\n",
        "        # Stop words are common words that are typically removed from text data before analysis.\n",
        "        # Lemmatization is the process of reducing a word to its base form, known as its lemma. \n",
        "        stop_words = stopwords.words('english')\n",
        "        stop_words.extend([\"This\", \"The\", \"the\"])\n",
        "        lemmatizer = WordNetLemmatizer()\n",
        "        result = [\" \".join([lemmatizer.lemmatize(word) for word in re.sub(s, \"\", query).split() if word not in stop_words])]\n",
        "        return result\n",
        "    \n",
        "    def get_article_ids(self, query):\n",
        "        \"\"\"\n",
        "        Use inverted index method.\n",
        "        query-> list of words\n",
        "        output -> article_ids\n",
        "        \"\"\"\n",
        "        index_dic = []\n",
        "        if len(query) == 1:\n",
        "            docs_index = InvertedIndex(\"\".join(query), self.ner, self.data) \n",
        "            index_dic.extend(docs_index)\n",
        "        else:\n",
        "            for i in query:\n",
        "              # use inverted index method\n",
        "              docs_index =  InvertedIndex(i, self.ner, self.data) \n",
        "              index_dic.extend(docs_index)\n",
        "        # avoid repeated doc_id\n",
        "        index_dic = list(set(index_dic))\n",
        "\n",
        "        return index_dic\n",
        "\n",
        "    def tf_idf_score(self, query, articles):\n",
        "        \"\"\"\n",
        "        Use TfidfVectorizer() to convert the text into a matrix of TF-IDF features.\n",
        "        Return tf-idf similarity score.\n",
        "        \"\"\"          \n",
        "        vectorizer = TfidfVectorizer()\n",
        "        # convert to word vector\n",
        "        articles_wv = vectorizer.fit_transform(articles)\n",
        "        # convert to word vector\n",
        "        query_wv = vectorizer.transform(query)\n",
        "        # calculate similarity\n",
        "        similarities = cosine_similarity(query_wv, articles_wv)[0]\n",
        "        return similarities\n",
        "\n",
        "    def spacy_score(self,query, articles):\n",
        "        \"\"\"\n",
        "        Use Spacy to convert text into word vectors.\n",
        "        Return Spacy similarity score.\n",
        "        \"\"\"\n",
        "        # convert to word vector\n",
        "        query_nlp = nlp_md(str(query))\n",
        "        # convert to word vector\n",
        "        articles_nlp = [nlp_md(article) for article in articles]\n",
        "        # calculate similarity\n",
        "        similarities = [query_nlp.similarity(article_nlp) for article_nlp in articles_nlp]\n",
        "        return similarities\n",
        "    \n",
        "    def get_best_sentence(self, query, article, article_id, word_vector):\n",
        "        \"\"\"\n",
        "        Get the best sentence in one article for a query. \n",
        "        Based on cosine similarity score between query and sentences.\n",
        "        \"\"\"\n",
        "        # convert to text into sentences\n",
        "        sentences_clean = tokenize.sent_tokenize(article)\n",
        "\n",
        "        # calculate similarity\n",
        "         # Step 3: select different method according to word_vector\n",
        "        # Then, get cosine similarity between question and articles\n",
        "        if word_vector == \"tf-idf\":\n",
        "           similarities = self.tf_idf_score(query, sentences_clean)\n",
        "        if word_vector == \"spaCy\":\n",
        "           similarities = self.spacy_score(query, sentences_clean)\n",
        "\n",
        "        # get the maximum score index position\n",
        "        best_idx = np.array(similarities).argmax()\n",
        "        # get the best score\n",
        "        best_score = max(similarities)\n",
        "        # get original data\n",
        "        for j in range(len(self.data['docid'])):\n",
        "              if self.data['docid'][j] == article_id:\n",
        "                  body = self.data['body'][j]\n",
        "        sentences_body = tokenize.sent_tokenize(body)\n",
        "        answer = sentences_body[best_idx]\n",
        "        return answer,best_score\n",
        "        \n",
        "\n",
        "    def get_topk_answers(self, query, article_ids, k, word_vector):\n",
        "        # print(word_vector)\n",
        "        \"\"\"\n",
        "        Calculate similarity score of matching with the question.\n",
        "        Get the answer from articles.\n",
        "        Return top k result based on similarity score\n",
        "        \"\"\"\n",
        "        # Step 1: creat a  empty DataFrame  \n",
        "        answer_score_df = pd.DataFrame()\n",
        "        # store article ids\n",
        "        answer_score_df['Docid'] = article_ids       \n",
        "\n",
        "        # Step 2: get articles based on ids\n",
        "        articles = []\n",
        "        answers = []\n",
        "        for i in article_ids:\n",
        "            for j in range(len(self.data['docid'])):\n",
        "              if self.data['docid'][j] == i:\n",
        "                articles.append(self.data['clean'][j])\n",
        "        answer_score_df['Articles'] = articles\n",
        "        # answer_score_df['Answer'] = answers\n",
        "\n",
        "        # Step 3: select different method according to word_vector\n",
        "        # Then, get cosine similarity between question and articles\n",
        "        if word_vector == \"tf-idf\":\n",
        "           similarities = self.tf_idf_score(query, articles)\n",
        "        if word_vector == \"spaCy\":\n",
        "           similarities = self.spacy_score(query, articles)\n",
        "        # store similarity socre\n",
        "        answer_score_df['Article_Score'] = similarities\n",
        "\n",
        "        # Step 4: sort the articles by their similarity scores and get the top results\n",
        "        answer_score_df2 = answer_score_df.sort_values(by='Article_Score', ascending=False)[:k]\n",
        "\n",
        "        # Step 5: select the best answer sentence in the top k articles\n",
        "        answer_list = []\n",
        "        scores = []\n",
        "        cnt = 0\n",
        "        for index, row in answer_score_df2.iterrows():  \n",
        "            article = row['Articles']\n",
        "            article_id = row['Docid']\n",
        "            answer, best_score = self.get_best_sentence(query, article, article_id, word_vector)\n",
        "            answer_list.append(answer)\n",
        "            scores.append(best_score)\n",
        "            cnt += 1\n",
        "            if cnt == k:\n",
        "              break\n",
        "        answer_score_df2['Answer'] = answer_list\n",
        "        answer_score_df2['Score'] = scores\n",
        "\n",
        "        # Step 6: sort the best answer according to sentence score\n",
        "        answer_score_final = answer_score_df2.sort_values(by='Score', ascending=False)[:k]\n",
        "\n",
        "        return answer_score_final\n",
        "    \n",
        "    def text_matching(self, question, k=3, word_vector=\"spaCy\"):\n",
        "        \"\"\"\n",
        "        A function for text matching.\n",
        "        Input:\n",
        "        question ->  a string of one question\n",
        "        k -> number of top results, default is 3\n",
        "        word_vector -> word embedding method, default is \"spaCy\"\n",
        "        \"\"\"\n",
        "\n",
        "        # Step 1: Question pre-processing\n",
        "        query = self.query_preprocessing(question)\n",
        "\n",
        "        # Step 2: Use NER to identify named entities in the question\n",
        "        # 1) tokenization\n",
        "        query1 = nlp(\" \".join(query)) \n",
        "\n",
        "        # 2) get named entities\n",
        "        query_ents = [ent.text.strip() for ent in nlp(str(query)).ents]\n",
        "\n",
        "        # Step 3: Use InvertedIndex method and NER to get ariticle IDs\n",
        "        # 1) if no named entities found in the question using NER\n",
        "        # article_ids = []\n",
        "        if query_ents == []:\n",
        "          article_ids = self.get_article_ids(query)\n",
        "        if query_ents != []:\n",
        "          article_ids = self.get_article_ids(query_ents)\n",
        "\n",
        "        # Step 4: Use KB to find associated name of name entities in the question\n",
        "        # When articles_ids == [], it means no cannonical name of the entity appear in the articles\n",
        "        if article_ids == []:\n",
        "            # convert query list to a string\n",
        "            query_str = \" \".join(query)\n",
        "            # check query is a single word or not\n",
        "            if len(query) == 1 and len(query_str.split(\" \")) == 1:\n",
        "                lst = self.kb.search(query_str)  # use KnowledgeBase function\n",
        "                for i in lst:\n",
        "                   article_ids.extend(self.get_article_ids(i))\n",
        "            else:\n",
        "                for word in query_str.split(\" \"):\n",
        "                    lst = self.kb.search(word)  # use KnowledgeBase function\n",
        "                    for i in lst:\n",
        "                      article_ids.extend(self.get_article_ids(i)) \n",
        "\n",
        "        # Step 5: Check article_ids again\n",
        "        # If article_ids is empty, finish the function \n",
        "        if article_ids == []:\n",
        "           print(\"Sorry, no answer for this question.\")\n",
        "           return None\n",
        "\n",
        "        # remove repeated article_ids\n",
        "        article_ids = list(set(article_ids))\n",
        "\n",
        "        # Else: article_ids is not empty, go through step 6\n",
        "        # Step 6: Get top k articles answer and score   \n",
        "        top_results = self.get_topk_answers(query, article_ids, k , word_vector)\n",
        "        \n",
        "        return top_results\n",
        "\n",
        "    def display_results(self, top_results): \n",
        "        \"\"\"Funtion to display results only when results is not None.\"\"\"\n",
        "        if top_results is not None:       \n",
        "          print(\"_\"*50+\"\\n\")\n",
        "          for index, row in top_results.iterrows():\n",
        "              print(\"The article id is \", row['Docid'])  \n",
        "              print(\"The answer is \\n\", row['Answer'])\n",
        "              print(\"The score is \", row['Score'],\"\\n\")\n",
        "        return None"
      ]
    },
    {
      "cell_type": "markdown",
      "source": [
        "#### 4.3 Using tf-idf word vector for text matching"
      ],
      "metadata": {
        "id": "MsAjFaNGWAdU"
      },
      "id": "MsAjFaNGWAdU"
    },
    {
      "cell_type": "code",
      "source": [
        "# call the class\n",
        "matching = text_matching_utility(entities_30, data_v2_clean[:30], KB)"
      ],
      "metadata": {
        "id": "FjRdkYe5lLFJ"
      },
      "id": "FjRdkYe5lLFJ",
      "execution_count": 210,
      "outputs": []
    },
    {
      "cell_type": "code",
      "source": [
        "# question for text matching\n",
        "question = \"how to use face mask\"\n",
        "result = matching.text_matching(question, k=3, word_vector=\"tf-idf\")\n",
        "print(\"Question: \",question)\n",
        "matching.display_results(result)"
      ],
      "metadata": {
        "colab": {
          "base_uri": "https://localhost:8080/"
        },
        "id": "WKg6sB_Vyurg",
        "outputId": "4a67a264-47f9-4f77-fb19-7c5b5770b5e7"
      },
      "id": "WKg6sB_Vyurg",
      "execution_count": 211,
      "outputs": [
        {
          "output_type": "stream",
          "name": "stdout",
          "text": [
            "Question:  how to use face mask\n",
            "__________________________________________________\n",
            "\n",
            "The article id is  hm0ovsq4\n",
            "The answer is \n",
            " Vaccination, social distancing, hand hygiene, and face masks are among the common measures to contain the pandemic.5 The clinical manifestation of the disease is often mild and the disease is usually self-limited.\n",
            "The score is  0.3293123252322099 \n",
            "\n",
            "The article id is  daix3d5e\n",
            "The answer is \n",
            " The COVID-19 pandemic led to a sudden suspension of face-to-face teaching activities across the world [1].\n",
            "The score is  0.3100263144105602 \n",
            "\n",
            "The article id is  0o4zxngp\n",
            "The answer is \n",
            " However, on May 1\n",
            "st\n",
            "2020, the USFDA has provided Emergency Use Authorization (EUA) and permits the emergency use of the drug for the treatment of suspect and laboratory confirmed COVID 19 case in adult and children hospitalized with severe disease\n",
            "7\n",
            ".\n",
            "The score is  0.29254385101575964 \n",
            "\n"
          ]
        }
      ]
    },
    {
      "cell_type": "code",
      "source": [
        "# question for text matching\n",
        "question = \"what is COVID-19\"\n",
        "result = matching.text_matching(question, k=3,word_vector=\"tf-idf\")\n",
        "print(\"Question: \",question)\n",
        "matching.display_results(result)             "
      ],
      "metadata": {
        "id": "NejCb4DnQil5",
        "colab": {
          "base_uri": "https://localhost:8080/"
        },
        "outputId": "82c8b771-f0ed-4f2a-b96f-923d8c870838"
      },
      "id": "NejCb4DnQil5",
      "execution_count": 212,
      "outputs": [
        {
          "output_type": "stream",
          "name": "stdout",
          "text": [
            "Question:  what is COVID-19\n",
            "__________________________________________________\n",
            "\n",
            "The article id is  yi870wr8\n",
            "The answer is \n",
            " The only way to distinguish whether COVID-19 is responsible for these symptoms is to compare patients after COVID-19 with those without.\n",
            "The score is  0.4625373513413609 \n",
            "\n",
            "The article id is  10409mar\n",
            "The answer is \n",
            " The effect of immunosuppression on COVID-19 progression would be dependent on the severity of COVID-19 disease and the phase of graft rejection.\n",
            "The score is  0.41788885917814034 \n",
            "\n",
            "The article id is  c2ibxbgo\n",
            "The answer is \n",
            " The COVID-19 pandemic itself can cause fears of COVID-19 infection, uncertainty, and potential economic problems (Sher, 2020).\n",
            "The score is  0.3989935198869362 \n",
            "\n"
          ]
        }
      ]
    },
    {
      "cell_type": "code",
      "source": [
        "# question for text matching\n",
        "question = \"What are the names of coronavirus variants\"\n",
        "result = matching.text_matching(question, k=3,word_vector=\"tf-idf\")\n",
        "print(\"Question: \",question)\n",
        "matching.display_results(result)   "
      ],
      "metadata": {
        "colab": {
          "base_uri": "https://localhost:8080/"
        },
        "id": "8fLixTCF-zBH",
        "outputId": "4d6ddf87-ceed-4b55-f819-35ada4ea6790"
      },
      "id": "8fLixTCF-zBH",
      "execution_count": 213,
      "outputs": [
        {
          "output_type": "stream",
          "name": "stdout",
          "text": [
            "Question:  What are the names of coronavirus variants\n",
            "__________________________________________________\n",
            "\n",
            "The article id is  0n0vbax3\n",
            "The answer is \n",
            " Vaccine related thrombo-embolic (TE) complications, though rare, have been reported with COVID-19 vaccines, mainly from Europe and North America.\n",
            "The score is  0.599550586746604 \n",
            "\n",
            "The article id is  yajnzgd5\n",
            "The answer is \n",
            " What is the perception of the people stopped by police?\n",
            "The score is  0.5746394795996549 \n",
            "\n",
            "The article id is  jfca5rv6\n",
            "The answer is \n",
            " What would these entail?\n",
            "The score is  0.5325804308709707 \n",
            "\n"
          ]
        }
      ]
    },
    {
      "cell_type": "markdown",
      "source": [
        "#### 4.4 Using spaCy pretrained word vector for text matching"
      ],
      "metadata": {
        "id": "3n5F4wPVWRAu"
      },
      "id": "3n5F4wPVWRAu"
    },
    {
      "cell_type": "code",
      "source": [
        "# call the class\n",
        "matching = text_matching_utility(entities_30, data_v2_clean[:30], KB)"
      ],
      "metadata": {
        "id": "mjfilVJoWRAu"
      },
      "execution_count": 214,
      "outputs": [],
      "id": "mjfilVJoWRAu"
    },
    {
      "cell_type": "code",
      "source": [
        "# question for text matching\n",
        "question = \"how to use face mask\"\n",
        "result = matching.text_matching(question, k=3, word_vector=\"spaCy\")\n",
        "print(\"Question: \",question)\n",
        "matching.display_results(result)"
      ],
      "metadata": {
        "colab": {
          "base_uri": "https://localhost:8080/"
        },
        "outputId": "9cf31f67-443f-4349-8087-ca07caae8064",
        "id": "xRoyWp51WRAu"
      },
      "execution_count": 215,
      "outputs": [
        {
          "output_type": "stream",
          "name": "stdout",
          "text": [
            "Question:  how to use face mask\n",
            "__________________________________________________\n",
            "\n",
            "The article id is  m5pwtv7d\n",
            "The answer is \n",
            " The article begins with [Investors’ View] toward Arabic online content to introduce the issue.\n",
            "The score is  0.6183195148989343 \n",
            "\n",
            "The article id is  ztzsj45b\n",
            "The answer is \n",
            " The noncanonical face of CLEC-2 is commonly used in both interactions.\n",
            "The score is  0.35853787634440476 \n",
            "\n",
            "The article id is  yajnzgd5\n",
            "The answer is \n",
            " Unconscious bias and racism is also present in policing and should be addressed.\n",
            "The score is  0.31002969680626086 \n",
            "\n"
          ]
        }
      ],
      "id": "xRoyWp51WRAu"
    },
    {
      "cell_type": "code",
      "source": [
        "# question for text matching\n",
        "question = \"what is COVID-19\"\n",
        "result = matching.text_matching(question, k=3,word_vector=\"spaCy\")\n",
        "print(\"Question: \",question)\n",
        "matching.display_results(result)             "
      ],
      "metadata": {
        "colab": {
          "base_uri": "https://localhost:8080/"
        },
        "outputId": "5437f2f9-6498-435c-86dd-54a242aa1154",
        "id": "uDzPKYzIWRAv"
      },
      "execution_count": 216,
      "outputs": [
        {
          "output_type": "stream",
          "name": "stdout",
          "text": [
            "Question:  what is COVID-19\n",
            "__________________________________________________\n",
            "\n",
            "The article id is  m5pwtv7d\n",
            "The answer is \n",
            " The introduction presents Taghreedat and what it has achieved in the previous two years, and then the subheadings [Production Culture] and [Huge Gap] are used to construct the narrative.\n",
            "The score is  0.6021586605743622 \n",
            "\n",
            "The article id is  g0bgp3t7\n",
            "The answer is \n",
            " This temporal coordination was notably absent in SARS-CoV-2 infected RMs (Figures 4C, D).\n",
            "The score is  0.2123079015633469 \n",
            "\n",
            "The article id is  r9c4odva\n",
            "The answer is \n",
            " The radiologists’ reported findings for patients diagnosed with appendicitis were tabulated and compared between the two groups.\n",
            "The score is  0.19024892673230334 \n",
            "\n"
          ]
        }
      ],
      "id": "uDzPKYzIWRAv"
    },
    {
      "cell_type": "code",
      "source": [
        "# question for text matching\n",
        "question = \"What are the names of coronavirus variants\"\n",
        "result = matching.text_matching(question, k=3,word_vector=\"spaCy\")\n",
        "print(\"Question: \",question)\n",
        "matching.display_results(result)   "
      ],
      "metadata": {
        "colab": {
          "base_uri": "https://localhost:8080/"
        },
        "outputId": "f3262699-36e0-4941-c9c6-88362d5492e1",
        "id": "cjqna3KBWRAv"
      },
      "execution_count": 224,
      "outputs": [
        {
          "output_type": "stream",
          "name": "stdout",
          "text": [
            "Question:  What are the names of coronavirus variants\n",
            "__________________________________________________\n",
            "\n",
            "The article id is  m5pwtv7d\n",
            "The answer is \n",
            " The introduction presents Taghreedat and what it has achieved in the previous two years, and then the subheadings [Production Culture] and [Huge Gap] are used to construct the narrative.\n",
            "The score is  0.6262686848022553 \n",
            "\n",
            "The article id is  ztzsj45b\n",
            "The answer is \n",
            " These results provide a novel strategy for MPM diagnosis and could offer useful information for treating and predicting MPM patients’ prognoses.\n",
            "The score is  0.2743552448454859 \n",
            "\n",
            "The article id is  2sptdcbj\n",
            "The answer is \n",
            " The authors have no conflicts of interest or funding relevant to this commentary.\n",
            "The score is  0.24120648562252142 \n",
            "\n"
          ]
        }
      ],
      "id": "cjqna3KBWRAv"
    },
    {
      "cell_type": "markdown",
      "source": [
        "#### 4.5 Result Discussion\n",
        "Here, we discuss about pretrained word vector model selection and testing results.\n",
        "\n",
        "In this part, we can see that GloVe is not maintained, and it is hard to find words like \"COVID-19\" and \"covid\" (see below code). And it takes too much time to train our own corpus. That's why, we tried tf-idf and spaCy pretrained Word Vector model.\n",
        "\n",
        "Our questions are\n",
        "\n",
        "1.   how to use face mask\n",
        "2.   what is COVID-19\n",
        "3.   What are the names of cornavirus variants\n",
        "\n",
        "Table: Score comparision\n",
        "\n",
        "| Question ID |    tf-idf   |     spaCy   |\n",
        "| ----------- | ----------- | ----------- |\n",
        "|      1      |    0.329    |   0.618     |\n",
        "|      2      |    0.462    |   0.602     |\n",
        "|      3      |    0.60     |   0.626     |\n",
        "\n",
        "From table, we can see spaCy got higher scores than tf-idf for all three questions when we compare top 1 answer score. However, answer from spaCy is not related to our query. \n",
        "\n",
        "\n",
        "For question 1 about face mask, our tf-idf answer is \"Vaccination, social distancing, hand hygiene, and face masks are among the common measures to contain the pandemic.5 The clinical manifestation of the disease is often mild and the disease is usually self-limited.\" (top1 answer) However, spaCy answers \" I knew I could help and make a difference but was unable to.\" Although spaCy had higher score, it's answer is incorrect and irrelevant. At least tf-idf is good at matching the key word \"face mask\" of our query with text and find a answer related to our query. For the second and last questions, both of them are not answer correctly. In total, tf-idf tried to match text as much as possible.\n",
        "\n",
        "Therefore, we can conclude that tf-idf has better performance than spaCy. It helps to identify the most important words in a document. It reduces the impact of common words, such as \"the\", \"and\", and \"a\" appear frequently in most documents. By computing the TF-IDF scores for different documents, it is possible to compare them and identify similarities and differences.\n",
        "\n",
        "spaCy uses pre-trained word embeddings that are trained on large, diverse datasets, which results in high-quality embeddings. But actually, it does not work well in text matching in our experiment. \n",
        "\n",
        "A possible reason why TF-IDF may be more effective is that it is based on the frequency of words in a document or corpus, whereas spaCy word embeddings capture more complex semantic relationships between words. After preprocessing query, only some keywords are left and it may hard for Sapcy to work."
      ],
      "metadata": {
        "id": "IBWLmd1l_oGb"
      },
      "id": "IBWLmd1l_oGb"
    },
    {
      "cell_type": "code",
      "source": [
        "# loading the 100-dimensional GloVe embeddings\n",
        "embedding_dict = {}\n",
        "with open('/content/drive/My Drive/glove.6B.100d.txt', 'r', encoding='utf-8') as f:\n",
        "    for line in f:\n",
        "        values = line.split()\n",
        "        word = values[0]\n",
        "        vector = np.asarray(values[1:], dtype='float32')\n",
        "        embedding_dict[word] = vector\n",
        "print(embedding_dict.get('COVID-19'))\n",
        "print(embedding_dict.get('covid'))"
      ],
      "metadata": {
        "colab": {
          "base_uri": "https://localhost:8080/"
        },
        "id": "KmNYpHJc5ebC",
        "outputId": "0f15a21b-e80b-4152-dd4f-b2a486890213"
      },
      "id": "KmNYpHJc5ebC",
      "execution_count": null,
      "outputs": [
        {
          "output_type": "stream",
          "name": "stdout",
          "text": [
            "None\n",
            "None\n"
          ]
        }
      ]
    },
    {
      "cell_type": "markdown",
      "id": "333ba5cb",
      "metadata": {
        "id": "333ba5cb"
      },
      "source": [
        "### 5. Test utility and test results"
      ]
    },
    {
      "cell_type": "markdown",
      "source": [
        "#### 5.1 Summary\n",
        "MRR stands for Mean Reciprocal Rank, and it is a measure used to evaluate the effectiveness of a search engine algorithm. IMRR measures the average rank of the first relevant result in a set of search results, where each rank is weighted by its reciprocal value. \n",
        "\n",
        "The formula for MRR is as follows (shown in **gett_mrr_rank** and **calculate_mrr** function):\n",
        "MRR = (1/N) * sum(1/rank) [3]\n",
        "\n",
        "Our MRR result is only 0.158, which means that our search engine algorithm is not effective. As MRR takes into account not only whether a result is relevant or not, but also the order in which the results are presented.\n",
        "\n",
        "A possible reason is it is hard to match the question patten to a best sentence in the article. And it is hard to analyze semantics according to relationship such as \"How many\", \"when\", \"what\" and \"which\". If we can use update our KB with more \"relation\", it may imporve MRR result.  "
      ],
      "metadata": {
        "id": "sZ8IQ_TFtoeR"
      },
      "id": "sZ8IQ_TFtoeR"
    },
    {
      "cell_type": "code",
      "execution_count": 221,
      "id": "f228cbee",
      "metadata": {
        "id": "f228cbee"
      },
      "outputs": [],
      "source": [
        "class test_utility(text_matching_utility):\n",
        "    def __init__(self, entities, dataset, kb):\n",
        "      super().__init__(entities, dataset, kb)\n",
        "    \n",
        "    # Function to get the reciprocal rank\n",
        "    def get_mrr_rank(self, answers, correct_answer):\n",
        "      for i, answer in enumerate(answers):\n",
        "              if answer is None:\n",
        "                  answer = \"\"\n",
        "              if correct_answer in answer:\n",
        "                  return 1 / (i + 1), correct_answer\n",
        "      return 0, None\n",
        "\n",
        "    # Function to get query answer\n",
        "    def get_query_answer(self, question, k, word_vector):\n",
        "        answers = []\n",
        "        top_results = self.text_matching(question, k, word_vector)\n",
        "        if top_results is None:\n",
        "            answers.append(\"None\")\n",
        "        else:\n",
        "          for index, row in top_results.iterrows():\n",
        "              answers.append(row['Answer'])  \n",
        "        return answers\n",
        "\n",
        "    # Function to calculate MRR\n",
        "    def calculate_mrr(self, test_questions, answers):        \n",
        "        rr_sum = 0\n",
        "        results_answers = []\n",
        "        for i in range(1,11):\n",
        "            correct_answer = test_questions[i]['answer']\n",
        "            result_mrr = self.get_mrr_rank(answers, correct_answer)\n",
        "            rr_sum += result_mrr[0]\n",
        "            results_answers.append(result_mrr[1])\n",
        "        \n",
        "        return rr_sum / len(test_questions), results_answers\n",
        "\n",
        "    def main(self ,test_questions, k=30, word_vector='tf-idf'):\n",
        "      answers = []\n",
        "      for i in range(1,11):\n",
        "          answers = self.get_query_answer(test_questions[i]['query'], k=30, word_vector='tf-idf') #k=30 means the total articles is 30\n",
        "      mrr_result = self.calculate_mrr(test_questions, answers)\n",
        "      print(\"MRR result is \\n\", mrr_result[0])\n",
        "      print(\"Answers: \\n\", answers)"
      ]
    },
    {
      "cell_type": "code",
      "source": [
        "test_questions = {\n",
        "   1: {\"query\":\"how many death worldwide because of COVD-19\", \"answer\":\"4 million\"}, # \"article_id\":data_v2_clean['docid'][1], \n",
        "   2: {\"query\":\"when did Wuhan reported COVID-19\", \"answer\":\"31 December 2019\"}, # \"article_id\":data_v2_clean['docid'][7]\n",
        "   3: {\"query\":\"In 1936, how many cases André Lemierre published\", \"answer\":\"20\"}, # \"article_id\":data_v2_clean['docid'][9]\n",
        "   4: {\"query\":\"which city initially reported COVID-19\", \"answer\":\"Wuhan\"}, # \"article_id\":data_v2_clean['docid'][7]\n",
        "   5: {\"query\":\"what Iran ranks in the world in deaths due to COVID-19\",  \"answer\":\"eigth\"}, #\"article_id\":data_v2_clean['docid'][10]\n",
        "   6: {\"query\":\"Nightingale Hospitals in UK\", \"answer\":\"constructed\"}, # \"article_id\":data_v2_clean['docid'][16]\n",
        "   7: {\"query\":\"when is the first COVID-19 patient in Japan was diagnosed\",  \"answer\":\"January 2020\"}, # \"article_id\":data_v2_clean['docid'][17],\n",
        "   8: {\"query\":\"what is Tuberculosis\", \"answer\":\"disease\"}, # \"article_id\":data_v2_clean['docid'][19], \n",
        "   9: {\"query\":\"when did the World Health Organization classified COVID-19 as a pandemic\", \"answer\":\"2020\"}, # \"article_id\":data_v2_clean['docid'][25]\n",
        "   10:{\"query\":\"On 11 March 2020, how many countries reported cases of COVID-19\", \"answer\":\"114\"}, # \"article_id\":data_v2_clean['docid'][7]\n",
        "}"
      ],
      "metadata": {
        "id": "Rpq4e0Nh2ZMP"
      },
      "id": "Rpq4e0Nh2ZMP",
      "execution_count": 219,
      "outputs": []
    },
    {
      "cell_type": "code",
      "source": [
        "# call the class\n",
        "test = test_utility(entities_30, data_v2_clean[:30], KB)\n",
        "# get mrr\n",
        "test.main(test_questions)"
      ],
      "metadata": {
        "colab": {
          "base_uri": "https://localhost:8080/"
        },
        "id": "6gMKJzcitho7",
        "outputId": "2b1b1034-9dca-4722-b24e-565ea2735be6"
      },
      "id": "6gMKJzcitho7",
      "execution_count": 222,
      "outputs": [
        {
          "output_type": "stream",
          "name": "stdout",
          "text": [
            "Sorry, no answer for this question.\n",
            "MRR result is \n",
            " 0.15833333333333335\n",
            "Answers: \n",
            " ['A schematic diagram of the mechanism involved in the protective effect of exosomes against hepatic I/R injury is presented in Fig.', 'On 11 March 2020, with cases of COVID-19 reported in 114 countries, the World Health Organization (WHO) declared the outbreak of this new coronavirus a pandemic (WHO 2020).', 'On March 11, 2020, after the overwhelming global expansion of SARS-CoV-2, the World Health Organization classified COVID-19 as a pandemic.2 The number of confirmed COVID-19 cases on December 12, 2020, was approximately 71 797 890 patients with a death toll up to 1 607 590 in over about 216 countries.3 It is a pity that SARS-CoV-2 is highly infectious and might develop some fatal consequences.', 'The results from the assessors were validated by internal agreement on the rating of the intensity of one of the attributes, as described by Montero et al.', 'At the beginning of March 2020, the methodology for administering the questionnaires became essentially infeasible due to the COVID-19 pandemic that overtook the country.', 'In fact, the disproportionate impact of COVID-19 in the Black community is partially rooted in the unconscious bias and racism we see in the medical system [7, 8].', 'Medicinal intervention to treat COVID 19 by the process of drug repurposing as well as novel antiviral candidates could be found from Feb 2020, that has peaked up since the declaration of pandemic by WHO on 12\\nth\\nMarch 2020.', 'In the World Health Organization multi-country study on women’s health and violence against women, the majority of women who reported physical abuse during pregnancy have also been beaten prior to getting pregnant, although there are many cases of domestic violence occurrring for the first time during a pregnancy.', 'More recently, in China there have been reports by state-run media outlets that an estimated 19,000 wildlife farms may have been shut down around the country following COVID-19 related concerns [55].', 'However, many of the published reports emphasize the importance of considering reactive nodes rather than malignancy within variable time ranges following COVID-19 vaccination.', 'In the setting of the COVID-19 pandemic, case reports have described the clinical course and outcome of children with acute appendicitis who also tested positive for SARS-CoV-2, with some of these cases having a complicated presentation, suggesting an association between SARS-CoV-2 and acute appendicitis [9, 10].', 'However, COVID-19 is a serious risk to the elderly and to people with underlying diseases such as cardiovascular disease, diabetes, cancer, and chronic lung disease.6\\n,\\n7\\n\\nThe epidemiological features of hospitalized COVID-19 patients in Iran have been previously reported.8 Our study was based on data from February 8, 2020 to July 28, 2021 and aimed to characterize the clinical features, case fatality, and effect of symptoms on mortality among hospitalized cases of COVID-19 in Iran.', 'The COVID-19 pandemic leaves farmers grappling with commodity crop oversupply—while over a fifth of US children face food insecurity (Brookings, 2020), and a third of US households reported not being able to afford the food they needed (Callen, 2020).', 'Many of these are likely to influence the trafficking of circulating myeloid cells to sites of SARS-CoV-2 replication, as numerous studies have observed prominent myeloid cell infiltration in the lower airway of subjects with severe COVID-19 (10, 11).', 'More data on recruitability in patients with COVID-19 are urgently needed to understand the heterogeneity within COVID-19 ARDS.', 'Similar results have been reported with a great influence of COVID-19 pandemic on the quality of sexual life and frequency of intercourse among Polish women (Fuchs et al., 2020).', 'The COVID-19 pandemic exposed the fragility of our healthcare systems and left TB patients without diagnosis and treatment.', 'Various types of vaccines have been developed for Corona virus disease 2019 (COVID - 19) caused by SARS-CoV-2 across the world and as of 28th May 2021, 817 million people (10.5%) were vaccinated in the world.1 Vaccine related thrombo-embolic (TE) complications, though rare, have been reported with ChAdOx1 nCoV-19/AZD1222 (University of Oxford/AstraZeneca and Serum Institute of India) and Ad26.COV2.S (Janssen) vaccines, mostly from Europe and North America.2-4 ChAdOx1 nCoV-19/AZD1222 has also been temporarily suspended in Austria, Denmark and several other European countries on March 11th after few cases of thrombosis have been reported until further investigation and resumed after thorough analysis of risk-benefit assessment on March 19th 2021 by the European Medicine Agency (EMA).5 In India, until 31st May 2021, two vaccines for COVID- 19 have been used- ChAdOx1 nCoV-19/AZD1222 (called Covishield- Serum Institute, India) and inactivated BBV152 vaccine- Covaxin (Bharat Biotech, India).', 'The high number of COVID-19 cases worldwide with over 173 million confirmed cases by 08th June 2021 [20] makes studying impaired quality of life on the long-term health important.', '(2020).', 'The coronavirus disease 2019 (COVID-19) has affected the lives of children and adolescents in various ways in Japan, just as in other countries around the world.', 'Liver injury has been reported in COVID-19 patients; however, the characteristics in patients with COVID-19-related liver damage remain unknown for liver-transplant recipients [7, 8].', 'During the COVID-19 pandemic, some preliminary studies have reported that the sudden transition to online learning has been well accepted [17,18,19].', 'Disciplinary narratives and meta-narratives were not included in the data, simply because I am not dealing with an established concept in a specific domain of knowledge such as Darwin’s theory of natural selection, nor with a universal event such as the COVID-19 pandemic.']\n"
          ]
        }
      ]
    },
    {
      "cell_type": "markdown",
      "id": "ba7ea3a2",
      "metadata": {
        "id": "ba7ea3a2"
      },
      "source": [
        "### 6. Simple user interface"
      ]
    },
    {
      "cell_type": "markdown",
      "id": "76f69d11",
      "metadata": {
        "id": "76f69d11"
      },
      "source": [
        "#### 6.1 Summary\n",
        "Our user interface outputs three top ranked answers: article number, snippets of text that answers the question and the confidence of the answer.\n",
        "\n",
        "We had asked two questions in our QA_interface:\n",
        "\n",
        "1.   which city initially reported COVID-19\n",
        "2.   what Iran ranks in the world in deaths due to COVID-19\n",
        "\n",
        "For the first question, our correct answer ranks first, with confidence score of 0.425.\n",
        "\n",
        "For the second question, our correct answer ranks first, with confidence score of 0.592.\n",
        "\n",
        "Although our confidence score is not high, we can find out the correct answer in top 3 ranked answers, which means the performance of our search engine is acceptable.\n",
        "\n",
        "The possible reason is our query parttens match well with the correct answer sentence using tf-idf. "
      ]
    },
    {
      "cell_type": "code",
      "execution_count": null,
      "id": "e9ab4d71",
      "metadata": {
        "id": "e9ab4d71"
      },
      "outputs": [],
      "source": [
        "class QA_interface(text_matching_utility):\n",
        "    def __init__(self, entities, dataset, kb):\n",
        "      super().__init__(entities, dataset, kb)\n",
        "\n",
        "    def main(self):\n",
        "        question = None\n",
        "        print(\"Please ask a question about COVID.\\n\")\n",
        "        print(\"Please enter 'quit' for quit.\\n\")\n",
        "        while True:\n",
        "          print(\"Your query is:\\n\")\n",
        "          question = str(input())\n",
        "          if question == 'quit':\n",
        "              print(\"\\nThank you for your query.\")\n",
        "              break\n",
        "          top_results = self.text_matching(question, k=3, word_vector=\"tf-idf\")\n",
        "          plot = self.display_results(top_results)\n"
      ]
    },
    {
      "cell_type": "code",
      "execution_count": null,
      "id": "7090ac2b",
      "metadata": {
        "id": "7090ac2b",
        "colab": {
          "base_uri": "https://localhost:8080/"
        },
        "outputId": "452b6dba-442e-4f07-a163-992fc3709c9b"
      },
      "outputs": [
        {
          "output_type": "stream",
          "name": "stdout",
          "text": [
            "Please ask a question about COVID.\n",
            "\n",
            "Please enter 'quit' for quit.\n",
            "\n",
            "Your query is:\n",
            "\n",
            "which city initially reported COVID-19\n",
            "__________________________________________________\n",
            "\n",
            "The article id is  lswvw426\n",
            "The answer is \n",
            " A novel coronavirus disease 2019 (COVID-19) was initially reported in the city of Wuhan, China, on 31 December 2019 and then began to spread around the world.\n",
            "The score is  0.4255995860828064 \n",
            "\n",
            "The article id is  10409mar\n",
            "The answer is \n",
            " Liver injury has been reported in COVID-19 patients; however, the characteristics in patients with COVID-19-related liver damage remain unknown for liver-transplant recipients [7, 8].\n",
            "The score is  0.42426643044826784 \n",
            "\n",
            "The article id is  yi870wr8\n",
            "The answer is \n",
            " The only way to distinguish whether COVID-19 is responsible for these symptoms is to compare patients after COVID-19 with those without.\n",
            "The score is  0.32891102785355786 \n",
            "\n",
            "Your query is:\n",
            "\n",
            "what Iran ranks in the world in deaths due to COVID-19\n",
            "__________________________________________________\n",
            "\n",
            "The article id is  hm0ovsq4\n",
            "The answer is \n",
            " According to statistics, Iran ranks eighth in the world in deaths due to COVID-19.3\n",
            "\n",
            "The virus is transmitted through droplets from the nose when coughing and sneezing.\n",
            "The score is  0.592079496000965 \n",
            "\n",
            "The article id is  10409mar\n",
            "The answer is \n",
            " The outcomes of COVID-19 are wide ranging, from asymptomatic infection to death [4, 5].\n",
            "The score is  0.39859180535741656 \n",
            "\n",
            "The article id is  c2ibxbgo\n",
            "The answer is \n",
            " In addition, all suicides in children and adolescents during the first wave of the COVID-19 pandemic are most likely to be included in our data, considering that the number of excess deaths in January-April 2020 (N = 138) was smaller than the number of deaths from COVID-19(Ministry of Health Labor and Welfare, 2020b).\n",
            "The score is  0.3127417021945234 \n",
            "\n",
            "Your query is:\n",
            "\n",
            "quit\n",
            "\n",
            "Thank you for your query.\n"
          ]
        }
      ],
      "source": [
        "user_query = QA_interface(entities_30, data_v2_clean[:30], KB)\n",
        "user_query.main()"
      ]
    },
    {
      "cell_type": "markdown",
      "id": "9d3a91b4",
      "metadata": {
        "id": "9d3a91b4"
      },
      "source": [
        "### 7. References"
      ]
    },
    {
      "cell_type": "markdown",
      "id": "tBjwDHO0PJVL",
      "metadata": {
        "id": "tBjwDHO0PJVL"
      },
      "source": [
        "[1] https://www.kaggle.com/datasets/allen-institute-for-ai/CORD-19-research-challenge\n",
        "\n",
        "[2] https://www.kaggle.com/code/maksimeren/covid-19-literature-clustering\n",
        "\n",
        "[3] Jurafsky, D & Martin,JH, 2023, 'Speech and Language Processing', https://web.stanford.edu/~jurafsky/slp3/\n",
        "\n",
        "[4] https://www.holisticseo.digital/python-seo/information-extraction/\n",
        "\n",
        "[5] https://www.turing.com/kb/guide-on-word-embeddings-in-nlp#glove:-global-vector-for-word-representation\n",
        "\n",
        "[6] https://nlp.stanford.edu/pubs/glove.pdf\n",
        "\n",
        "[7] https://pandas.pydata.org/docs/reference/api/pandas.DataFrame.sort_values.html\n",
        "\n",
        "[8] https://spacy.io/"
      ]
    }
  ],
  "metadata": {
    "colab": {
      "provenance": [],
      "collapsed_sections": [
        "ZMoG9gvgOH-a"
      ]
    },
    "kernelspec": {
      "display_name": "Python 3 (ipykernel)",
      "language": "python",
      "name": "python3"
    },
    "language_info": {
      "codemirror_mode": {
        "name": "ipython",
        "version": 3
      },
      "file_extension": ".py",
      "mimetype": "text/x-python",
      "name": "python",
      "nbconvert_exporter": "python",
      "pygments_lexer": "ipython3",
      "version": "3.9.12"
    }
  },
  "nbformat": 4,
  "nbformat_minor": 5
}